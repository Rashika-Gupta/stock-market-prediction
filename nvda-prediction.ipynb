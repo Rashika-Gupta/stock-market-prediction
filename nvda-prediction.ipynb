{
 "cells": [
  {
   "cell_type": "code",
   "execution_count": 4,
   "metadata": {},
   "outputs": [],
   "source": [
    "import numpy as np \n",
    "import pandas as pd \n",
    "import matplotlib.pyplot as plt\n",
    "import torch.nn.functional as F\n",
    "import seaborn as sns\n"
   ]
  },
  {
   "cell_type": "code",
   "execution_count": null,
   "metadata": {},
   "outputs": [],
   "source": []
  },
  {
   "attachments": {},
   "cell_type": "markdown",
   "metadata": {},
   "source": [
    "### Loading dataset"
   ]
  },
  {
   "cell_type": "code",
   "execution_count": 3,
   "metadata": {},
   "outputs": [],
   "source": [
    "stock_market = pd.read_excel('./nvda-stockmarket.xlsx',engine='openpyxl')"
   ]
  },
  {
   "cell_type": "code",
   "execution_count": 4,
   "metadata": {},
   "outputs": [
    {
     "name": "stdout",
     "output_type": "stream",
     "text": [
      "<class 'pandas.core.frame.DataFrame'>\n",
      "RangeIndex: 353 entries, 0 to 352\n",
      "Data columns (total 12 columns):\n",
      " #   Column                 Non-Null Count  Dtype         \n",
      "---  ------                 --------------  -----         \n",
      " 0   Contract Name          353 non-null    object        \n",
      " 1   Last Trade Date (EDT)  353 non-null    datetime64[ns]\n",
      " 2   Strike                 353 non-null    float64       \n",
      " 3   Last Price             353 non-null    float64       \n",
      " 4   Bid                    353 non-null    float64       \n",
      " 5   Ask                    353 non-null    float64       \n",
      " 6   Change                 353 non-null    float64       \n",
      " 7   % Change               353 non-null    float64       \n",
      " 8   Volume                 353 non-null    object        \n",
      " 9   Open Interest          353 non-null    int64         \n",
      " 10  Implied Volatility     353 non-null    float64       \n",
      " 11  Option Type            353 non-null    object        \n",
      "dtypes: datetime64[ns](1), float64(7), int64(1), object(3)\n",
      "memory usage: 33.2+ KB\n"
     ]
    }
   ],
   "source": [
    "stock_market.info()"
   ]
  },
  {
   "cell_type": "code",
   "execution_count": 5,
   "metadata": {},
   "outputs": [],
   "source": [
    "new_column_names = {\n",
    "    '% Change': 'dChange',\n",
    "    \n",
    "}\n",
    "\n",
    "stock_market.rename(columns=new_column_names, inplace=True)\n",
    "\n"
   ]
  },
  {
   "cell_type": "code",
   "execution_count": 6,
   "metadata": {},
   "outputs": [],
   "source": [
    "#stock market date time to date time\n",
    "stock_market['Date'] = stock_market['Last Trade Date (EDT)'].dt.date"
   ]
  },
  {
   "cell_type": "code",
   "execution_count": 7,
   "metadata": {},
   "outputs": [],
   "source": [
    "stock_market['Time'] = stock_market['Last Trade Date (EDT)'].dt.time"
   ]
  },
  {
   "cell_type": "code",
   "execution_count": 8,
   "metadata": {},
   "outputs": [
    {
     "data": {
      "text/html": [
       "<div>\n",
       "<style scoped>\n",
       "    .dataframe tbody tr th:only-of-type {\n",
       "        vertical-align: middle;\n",
       "    }\n",
       "\n",
       "    .dataframe tbody tr th {\n",
       "        vertical-align: top;\n",
       "    }\n",
       "\n",
       "    .dataframe thead th {\n",
       "        text-align: right;\n",
       "    }\n",
       "</style>\n",
       "<table border=\"1\" class=\"dataframe\">\n",
       "  <thead>\n",
       "    <tr style=\"text-align: right;\">\n",
       "      <th></th>\n",
       "      <th>Contract Name</th>\n",
       "      <th>Last Trade Date (EDT)</th>\n",
       "      <th>Strike</th>\n",
       "      <th>Last Price</th>\n",
       "      <th>Bid</th>\n",
       "      <th>Ask</th>\n",
       "      <th>Change</th>\n",
       "      <th>dChange</th>\n",
       "      <th>Volume</th>\n",
       "      <th>Open Interest</th>\n",
       "      <th>Implied Volatility</th>\n",
       "      <th>Option Type</th>\n",
       "      <th>Date</th>\n",
       "      <th>Time</th>\n",
       "    </tr>\n",
       "  </thead>\n",
       "  <tbody>\n",
       "    <tr>\n",
       "      <th>0</th>\n",
       "      <td>NVDA240301C00250000</td>\n",
       "      <td>2024-02-27 20:31:00</td>\n",
       "      <td>250.0</td>\n",
       "      <td>540.03</td>\n",
       "      <td>533.55</td>\n",
       "      <td>535.4</td>\n",
       "      <td>0.0</td>\n",
       "      <td>0.0</td>\n",
       "      <td>9</td>\n",
       "      <td>31</td>\n",
       "      <td>6.1533</td>\n",
       "      <td>call</td>\n",
       "      <td>2024-02-27</td>\n",
       "      <td>20:31:00</td>\n",
       "    </tr>\n",
       "    <tr>\n",
       "      <th>1</th>\n",
       "      <td>NVDA240301C00260000</td>\n",
       "      <td>2024-02-26 20:59:00</td>\n",
       "      <td>260.0</td>\n",
       "      <td>531.66</td>\n",
       "      <td>523.95</td>\n",
       "      <td>525.4</td>\n",
       "      <td>0.0</td>\n",
       "      <td>0.0</td>\n",
       "      <td>3</td>\n",
       "      <td>12</td>\n",
       "      <td>6.0527</td>\n",
       "      <td>call</td>\n",
       "      <td>2024-02-26</td>\n",
       "      <td>20:59:00</td>\n",
       "    </tr>\n",
       "    <tr>\n",
       "      <th>2</th>\n",
       "      <td>NVDA240301C00270000</td>\n",
       "      <td>2024-02-26 20:13:00</td>\n",
       "      <td>270.0</td>\n",
       "      <td>523.00</td>\n",
       "      <td>513.55</td>\n",
       "      <td>515.4</td>\n",
       "      <td>0.0</td>\n",
       "      <td>0.0</td>\n",
       "      <td>28</td>\n",
       "      <td>16</td>\n",
       "      <td>5.7617</td>\n",
       "      <td>call</td>\n",
       "      <td>2024-02-26</td>\n",
       "      <td>20:13:00</td>\n",
       "    </tr>\n",
       "    <tr>\n",
       "      <th>3</th>\n",
       "      <td>NVDA240301C00280000</td>\n",
       "      <td>2024-02-22 18:03:00</td>\n",
       "      <td>280.0</td>\n",
       "      <td>495.19</td>\n",
       "      <td>504.00</td>\n",
       "      <td>505.8</td>\n",
       "      <td>0.0</td>\n",
       "      <td>0.0</td>\n",
       "      <td>1</td>\n",
       "      <td>16</td>\n",
       "      <td>5.7690</td>\n",
       "      <td>call</td>\n",
       "      <td>2024-02-22</td>\n",
       "      <td>18:03:00</td>\n",
       "    </tr>\n",
       "    <tr>\n",
       "      <th>4</th>\n",
       "      <td>NVDA240301C00290000</td>\n",
       "      <td>2024-02-26 20:02:00</td>\n",
       "      <td>290.0</td>\n",
       "      <td>500.59</td>\n",
       "      <td>494.15</td>\n",
       "      <td>495.7</td>\n",
       "      <td>0.0</td>\n",
       "      <td>0.0</td>\n",
       "      <td>30</td>\n",
       "      <td>2</td>\n",
       "      <td>5.5967</td>\n",
       "      <td>call</td>\n",
       "      <td>2024-02-26</td>\n",
       "      <td>20:02:00</td>\n",
       "    </tr>\n",
       "  </tbody>\n",
       "</table>\n",
       "</div>"
      ],
      "text/plain": [
       "         Contract Name Last Trade Date (EDT)  Strike  Last Price     Bid  \\\n",
       "0  NVDA240301C00250000   2024-02-27 20:31:00   250.0      540.03  533.55   \n",
       "1  NVDA240301C00260000   2024-02-26 20:59:00   260.0      531.66  523.95   \n",
       "2  NVDA240301C00270000   2024-02-26 20:13:00   270.0      523.00  513.55   \n",
       "3  NVDA240301C00280000   2024-02-22 18:03:00   280.0      495.19  504.00   \n",
       "4  NVDA240301C00290000   2024-02-26 20:02:00   290.0      500.59  494.15   \n",
       "\n",
       "     Ask  Change  dChange Volume  Open Interest  Implied Volatility  \\\n",
       "0  535.4     0.0      0.0      9             31              6.1533   \n",
       "1  525.4     0.0      0.0      3             12              6.0527   \n",
       "2  515.4     0.0      0.0     28             16              5.7617   \n",
       "3  505.8     0.0      0.0      1             16              5.7690   \n",
       "4  495.7     0.0      0.0     30              2              5.5967   \n",
       "\n",
       "  Option Type        Date      Time  \n",
       "0        call  2024-02-27  20:31:00  \n",
       "1        call  2024-02-26  20:59:00  \n",
       "2        call  2024-02-26  20:13:00  \n",
       "3        call  2024-02-22  18:03:00  \n",
       "4        call  2024-02-26  20:02:00  "
      ]
     },
     "execution_count": 8,
     "metadata": {},
     "output_type": "execute_result"
    }
   ],
   "source": [
    "stock_market.head()"
   ]
  },
  {
   "cell_type": "code",
   "execution_count": 9,
   "metadata": {},
   "outputs": [],
   "source": [
    "stock_market = stock_market.drop(['Contract Name','Last Trade Date (EDT)'], axis = 1)"
   ]
  },
  {
   "cell_type": "code",
   "execution_count": 10,
   "metadata": {},
   "outputs": [
    {
     "name": "stdout",
     "output_type": "stream",
     "text": [
      "<class 'pandas.core.frame.DataFrame'>\n",
      "RangeIndex: 353 entries, 0 to 352\n",
      "Data columns (total 12 columns):\n",
      " #   Column              Non-Null Count  Dtype  \n",
      "---  ------              --------------  -----  \n",
      " 0   Strike              353 non-null    float64\n",
      " 1   Last Price          353 non-null    float64\n",
      " 2   Bid                 353 non-null    float64\n",
      " 3   Ask                 353 non-null    float64\n",
      " 4   Change              353 non-null    float64\n",
      " 5   dChange             353 non-null    float64\n",
      " 6   Volume              353 non-null    object \n",
      " 7   Open Interest       353 non-null    int64  \n",
      " 8   Implied Volatility  353 non-null    float64\n",
      " 9   Option Type         353 non-null    object \n",
      " 10  Date                353 non-null    object \n",
      " 11  Time                353 non-null    object \n",
      "dtypes: float64(7), int64(1), object(4)\n",
      "memory usage: 33.2+ KB\n"
     ]
    }
   ],
   "source": [
    "stock_market.info()"
   ]
  },
  {
   "cell_type": "code",
   "execution_count": 14,
   "metadata": {},
   "outputs": [
    {
     "name": "stdout",
     "output_type": "stream",
     "text": [
      "There are 4 missing values in the 'Volume' column. Please handle them before proceeding.\n",
      "<class 'pandas.core.frame.DataFrame'>\n",
      "RangeIndex: 353 entries, 0 to 352\n",
      "Data columns (total 12 columns):\n",
      " #   Column              Non-Null Count  Dtype  \n",
      "---  ------              --------------  -----  \n",
      " 0   Strike              353 non-null    float64\n",
      " 1   Last Price          353 non-null    float64\n",
      " 2   Bid                 353 non-null    float64\n",
      " 3   Ask                 353 non-null    float64\n",
      " 4   Change              353 non-null    float64\n",
      " 5   dChange             353 non-null    float64\n",
      " 6   Volume              349 non-null    float64\n",
      " 7   Open Interest       353 non-null    int64  \n",
      " 8   Implied Volatility  353 non-null    float64\n",
      " 9   Option Type         353 non-null    object \n",
      " 10  Date                353 non-null    object \n",
      " 11  Time                353 non-null    object \n",
      "dtypes: float64(8), int64(1), object(3)\n",
      "memory usage: 33.2+ KB\n"
     ]
    }
   ],
   "source": [
    "\n",
    "# Assuming 'stock_market' is your DataFrame\n",
    "# Check for missing values\n",
    "missing_values = stock_market['Volume'].isnull().sum()\n",
    "if missing_values > 0:\n",
    "    print(f\"There are {missing_values} missing values in the 'Volume' column. Please handle them before proceeding.\")\n",
    "else:\n",
    "    # Convert to numeric\n",
    "    stock_market['Volume'] = pd.to_numeric(stock_market['Volume'], errors='coerce')\n",
    "    \n",
    "    # Check for non-finite values\n",
    "    non_finite_values = stock_market['Volume'].isna().sum()\n",
    "    if non_finite_values > 0:\n",
    "        print(f\"There are {non_finite_values} non-finite values in the 'Volume' column after converting to numeric. Please investigate.\")\n",
    "    else:\n",
    "        # Drop non-finite values\n",
    "        stock_market.dropna(subset=['Volume'], inplace=True)\n",
    "        \n",
    "        # Convert to integer\n",
    "        stock_market['Volume'] = stock_market['Volume'].astype(int)\n",
    "\n",
    "# Print DataFrame information\n",
    "stock_market.info()\n",
    "\n"
   ]
  },
  {
   "attachments": {},
   "cell_type": "markdown",
   "metadata": {},
   "source": [
    "There are 4-54 nAN values in volume, Let's get rid of these"
   ]
  },
  {
   "cell_type": "code",
   "execution_count": 15,
   "metadata": {},
   "outputs": [
    {
     "data": {
      "text/plain": [
       "4"
      ]
     },
     "execution_count": 15,
     "metadata": {},
     "output_type": "execute_result"
    }
   ],
   "source": [
    "stock_market['Volume'].isna().sum()"
   ]
  },
  {
   "cell_type": "code",
   "execution_count": 16,
   "metadata": {},
   "outputs": [],
   "source": [
    "stock_market = stock_market.dropna()"
   ]
  },
  {
   "cell_type": "code",
   "execution_count": 17,
   "metadata": {},
   "outputs": [
    {
     "name": "stdout",
     "output_type": "stream",
     "text": [
      "<class 'pandas.core.frame.DataFrame'>\n",
      "Int64Index: 349 entries, 0 to 352\n",
      "Data columns (total 12 columns):\n",
      " #   Column              Non-Null Count  Dtype  \n",
      "---  ------              --------------  -----  \n",
      " 0   Strike              349 non-null    float64\n",
      " 1   Last Price          349 non-null    float64\n",
      " 2   Bid                 349 non-null    float64\n",
      " 3   Ask                 349 non-null    float64\n",
      " 4   Change              349 non-null    float64\n",
      " 5   dChange             349 non-null    float64\n",
      " 6   Volume              349 non-null    float64\n",
      " 7   Open Interest       349 non-null    int64  \n",
      " 8   Implied Volatility  349 non-null    float64\n",
      " 9   Option Type         349 non-null    object \n",
      " 10  Date                349 non-null    object \n",
      " 11  Time                349 non-null    object \n",
      "dtypes: float64(8), int64(1), object(3)\n",
      "memory usage: 35.4+ KB\n"
     ]
    }
   ],
   "source": [
    "stock_market.info()"
   ]
  },
  {
   "cell_type": "code",
   "execution_count": 63,
   "metadata": {},
   "outputs": [],
   "source": [
    "stock_market  = stock_market.sort_values(by=['Date', 'Time'])\n",
    "\n",
    "#stock_market = stock_market.sort_values(by = 'Time')"
   ]
  },
  {
   "cell_type": "code",
   "execution_count": 64,
   "metadata": {},
   "outputs": [
    {
     "data": {
      "text/html": [
       "<div>\n",
       "<style scoped>\n",
       "    .dataframe tbody tr th:only-of-type {\n",
       "        vertical-align: middle;\n",
       "    }\n",
       "\n",
       "    .dataframe tbody tr th {\n",
       "        vertical-align: top;\n",
       "    }\n",
       "\n",
       "    .dataframe thead th {\n",
       "        text-align: right;\n",
       "    }\n",
       "</style>\n",
       "<table border=\"1\" class=\"dataframe\">\n",
       "  <thead>\n",
       "    <tr style=\"text-align: right;\">\n",
       "      <th></th>\n",
       "      <th>Strike</th>\n",
       "      <th>Last Price</th>\n",
       "      <th>Bid</th>\n",
       "      <th>Ask</th>\n",
       "      <th>Change</th>\n",
       "      <th>dChange</th>\n",
       "      <th>Volume</th>\n",
       "      <th>Open Interest</th>\n",
       "      <th>Implied Volatility</th>\n",
       "      <th>Option Type</th>\n",
       "      <th>Date</th>\n",
       "      <th>Time</th>\n",
       "    </tr>\n",
       "  </thead>\n",
       "  <tbody>\n",
       "    <tr>\n",
       "      <th>20</th>\n",
       "      <td>395.0</td>\n",
       "      <td>227.38</td>\n",
       "      <td>392.65</td>\n",
       "      <td>395.05</td>\n",
       "      <td>0.00</td>\n",
       "      <td>0.0000</td>\n",
       "      <td>3.0</td>\n",
       "      <td>3</td>\n",
       "      <td>4.8450</td>\n",
       "      <td>call</td>\n",
       "      <td>2024-01-25</td>\n",
       "      <td>17:15:00</td>\n",
       "    </tr>\n",
       "    <tr>\n",
       "      <th>24</th>\n",
       "      <td>415.0</td>\n",
       "      <td>205.07</td>\n",
       "      <td>372.70</td>\n",
       "      <td>375.05</td>\n",
       "      <td>0.00</td>\n",
       "      <td>0.0000</td>\n",
       "      <td>1.0</td>\n",
       "      <td>1</td>\n",
       "      <td>4.5464</td>\n",
       "      <td>call</td>\n",
       "      <td>2024-01-25</td>\n",
       "      <td>17:20:00</td>\n",
       "    </tr>\n",
       "    <tr>\n",
       "      <th>8</th>\n",
       "      <td>330.0</td>\n",
       "      <td>282.75</td>\n",
       "      <td>457.60</td>\n",
       "      <td>459.90</td>\n",
       "      <td>0.00</td>\n",
       "      <td>0.0000</td>\n",
       "      <td>2.0</td>\n",
       "      <td>2</td>\n",
       "      <td>5.9258</td>\n",
       "      <td>call</td>\n",
       "      <td>2024-01-26</td>\n",
       "      <td>20:30:00</td>\n",
       "    </tr>\n",
       "    <tr>\n",
       "      <th>16</th>\n",
       "      <td>375.0</td>\n",
       "      <td>243.01</td>\n",
       "      <td>409.00</td>\n",
       "      <td>410.55</td>\n",
       "      <td>0.00</td>\n",
       "      <td>0.0000</td>\n",
       "      <td>1.0</td>\n",
       "      <td>1</td>\n",
       "      <td>4.2095</td>\n",
       "      <td>call</td>\n",
       "      <td>2024-01-29</td>\n",
       "      <td>17:20:00</td>\n",
       "    </tr>\n",
       "    <tr>\n",
       "      <th>339</th>\n",
       "      <td>1170.0</td>\n",
       "      <td>431.66</td>\n",
       "      <td>379.75</td>\n",
       "      <td>387.45</td>\n",
       "      <td>0.00</td>\n",
       "      <td>0.0000</td>\n",
       "      <td>20.0</td>\n",
       "      <td>0</td>\n",
       "      <td>1.6191</td>\n",
       "      <td>Puts</td>\n",
       "      <td>2024-02-14</td>\n",
       "      <td>20:58:00</td>\n",
       "    </tr>\n",
       "    <tr>\n",
       "      <th>...</th>\n",
       "      <td>...</td>\n",
       "      <td>...</td>\n",
       "      <td>...</td>\n",
       "      <td>...</td>\n",
       "      <td>...</td>\n",
       "      <td>...</td>\n",
       "      <td>...</td>\n",
       "      <td>...</td>\n",
       "      <td>...</td>\n",
       "      <td>...</td>\n",
       "      <td>...</td>\n",
       "      <td>...</td>\n",
       "    </tr>\n",
       "    <tr>\n",
       "      <th>256</th>\n",
       "      <td>665.0</td>\n",
       "      <td>0.06</td>\n",
       "      <td>0.05</td>\n",
       "      <td>0.07</td>\n",
       "      <td>-0.02</td>\n",
       "      <td>-0.2500</td>\n",
       "      <td>182.0</td>\n",
       "      <td>1762</td>\n",
       "      <td>0.6836</td>\n",
       "      <td>Puts</td>\n",
       "      <td>2024-02-28</td>\n",
       "      <td>17:28:00</td>\n",
       "    </tr>\n",
       "    <tr>\n",
       "      <th>284</th>\n",
       "      <td>765.0</td>\n",
       "      <td>3.60</td>\n",
       "      <td>3.30</td>\n",
       "      <td>3.45</td>\n",
       "      <td>-0.60</td>\n",
       "      <td>-0.1429</td>\n",
       "      <td>6715.0</td>\n",
       "      <td>3590</td>\n",
       "      <td>0.3528</td>\n",
       "      <td>Puts</td>\n",
       "      <td>2024-02-28</td>\n",
       "      <td>17:28:00</td>\n",
       "    </tr>\n",
       "    <tr>\n",
       "      <th>287</th>\n",
       "      <td>780.0</td>\n",
       "      <td>8.51</td>\n",
       "      <td>8.30</td>\n",
       "      <td>8.45</td>\n",
       "      <td>-0.54</td>\n",
       "      <td>-0.0597</td>\n",
       "      <td>14617.0</td>\n",
       "      <td>4488</td>\n",
       "      <td>0.3444</td>\n",
       "      <td>Puts</td>\n",
       "      <td>2024-02-28</td>\n",
       "      <td>17:28:00</td>\n",
       "    </tr>\n",
       "    <tr>\n",
       "      <th>118</th>\n",
       "      <td>840.0</td>\n",
       "      <td>0.56</td>\n",
       "      <td>0.55</td>\n",
       "      <td>0.57</td>\n",
       "      <td>-0.59</td>\n",
       "      <td>-0.5130</td>\n",
       "      <td>2746.0</td>\n",
       "      <td>5627</td>\n",
       "      <td>0.4517</td>\n",
       "      <td>call</td>\n",
       "      <td>2024-02-28</td>\n",
       "      <td>17:28:00</td>\n",
       "    </tr>\n",
       "    <tr>\n",
       "      <th>111</th>\n",
       "      <td>805.0</td>\n",
       "      <td>3.72</td>\n",
       "      <td>3.65</td>\n",
       "      <td>3.75</td>\n",
       "      <td>-2.88</td>\n",
       "      <td>-0.4364</td>\n",
       "      <td>6902.0</td>\n",
       "      <td>7430</td>\n",
       "      <td>0.4064</td>\n",
       "      <td>call</td>\n",
       "      <td>2024-02-28</td>\n",
       "      <td>17:28:00</td>\n",
       "    </tr>\n",
       "  </tbody>\n",
       "</table>\n",
       "<p>349 rows × 12 columns</p>\n",
       "</div>"
      ],
      "text/plain": [
       "     Strike  Last Price     Bid     Ask  Change  dChange   Volume  \\\n",
       "20    395.0      227.38  392.65  395.05    0.00   0.0000      3.0   \n",
       "24    415.0      205.07  372.70  375.05    0.00   0.0000      1.0   \n",
       "8     330.0      282.75  457.60  459.90    0.00   0.0000      2.0   \n",
       "16    375.0      243.01  409.00  410.55    0.00   0.0000      1.0   \n",
       "339  1170.0      431.66  379.75  387.45    0.00   0.0000     20.0   \n",
       "..      ...         ...     ...     ...     ...      ...      ...   \n",
       "256   665.0        0.06    0.05    0.07   -0.02  -0.2500    182.0   \n",
       "284   765.0        3.60    3.30    3.45   -0.60  -0.1429   6715.0   \n",
       "287   780.0        8.51    8.30    8.45   -0.54  -0.0597  14617.0   \n",
       "118   840.0        0.56    0.55    0.57   -0.59  -0.5130   2746.0   \n",
       "111   805.0        3.72    3.65    3.75   -2.88  -0.4364   6902.0   \n",
       "\n",
       "     Open Interest  Implied Volatility Option Type        Date      Time  \n",
       "20               3              4.8450        call  2024-01-25  17:15:00  \n",
       "24               1              4.5464        call  2024-01-25  17:20:00  \n",
       "8                2              5.9258        call  2024-01-26  20:30:00  \n",
       "16               1              4.2095        call  2024-01-29  17:20:00  \n",
       "339              0              1.6191        Puts  2024-02-14  20:58:00  \n",
       "..             ...                 ...         ...         ...       ...  \n",
       "256           1762              0.6836        Puts  2024-02-28  17:28:00  \n",
       "284           3590              0.3528        Puts  2024-02-28  17:28:00  \n",
       "287           4488              0.3444        Puts  2024-02-28  17:28:00  \n",
       "118           5627              0.4517        call  2024-02-28  17:28:00  \n",
       "111           7430              0.4064        call  2024-02-28  17:28:00  \n",
       "\n",
       "[349 rows x 12 columns]"
      ]
     },
     "execution_count": 64,
     "metadata": {},
     "output_type": "execute_result"
    }
   ],
   "source": [
    "stock_market"
   ]
  },
  {
   "attachments": {},
   "cell_type": "markdown",
   "metadata": {},
   "source": [
    "so the governing equation is dependent on V is the price of the option as a function of the underlying asset price S and time  t.\n",
    "\n",
    "\n",
    "σ is the volatility of the underlying asset.\n",
    "\n",
    "\n",
    "r is the risk-free interest rate."
   ]
  },
  {
   "attachments": {},
   "cell_type": "markdown",
   "metadata": {},
   "source": [
    "# EDA "
   ]
  },
  {
   "attachments": {},
   "cell_type": "markdown",
   "metadata": {},
   "source": [
    "### checking for NANs"
   ]
  },
  {
   "cell_type": "code",
   "execution_count": 65,
   "metadata": {},
   "outputs": [
    {
     "name": "stdout",
     "output_type": "stream",
     "text": [
      "Number of calls and Puts : call    180\n",
      "Puts    169\n",
      "Name: Option Type, dtype: int64\n"
     ]
    }
   ],
   "source": [
    "print(f'Number of calls and Puts : {stock_market[\"Option Type\"].value_counts()}')"
   ]
  },
  {
   "attachments": {},
   "cell_type": "markdown",
   "metadata": {},
   "source": [
    "if buying a call then betting that it will go up\n",
    "if put then will go down"
   ]
  },
  {
   "cell_type": "code",
   "execution_count": 66,
   "metadata": {},
   "outputs": [
    {
     "name": "stderr",
     "output_type": "stream",
     "text": [
      "/home/rhythm/anaconda3/lib/python3.7/site-packages/matplotlib/cbook/__init__.py:1377: FutureWarning: Support for multi-dimensional indexing (e.g. `obj[:, None]`) is deprecated and will be removed in a future version.  Convert to a numpy array before indexing instead.\n",
      "  x[:, None]\n",
      "/home/rhythm/anaconda3/lib/python3.7/site-packages/matplotlib/axes/_base.py:239: FutureWarning: Support for multi-dimensional indexing (e.g. `obj[:, None]`) is deprecated and will be removed in a future version.  Convert to a numpy array before indexing instead.\n",
      "  y = y[:, np.newaxis]\n"
     ]
    },
    {
     "data": {
      "image/png": "[encoded data removed]",
      "text/plain": [
       "<Figure size 864x576 with 1 Axes>"
      ]
     },
     "metadata": {
      "needs_background": "light"
     },
     "output_type": "display_data"
    }
   ],
   "source": [
    "# Plot 'Volume' as a function of 'Date'\n",
    "plt.figure(figsize=(12, 8))\n",
    "plt.plot(range(stock_market.shape[0]), stock_market['Last Price'], color = 'blue', marker='o', linestyle='-', label = ' Last Price')\n",
    "plt.plot(range(stock_market.shape[0]), stock_market['Strike'], color = 'red',marker='o', linestyle='-', label = 'Strike Price')\n",
    "\n",
    "plt.xticks(range(0,stock_market.shape[0],40),stock_market['Date'].loc[::40],rotation=45)\n",
    "\n",
    "plt.title('Strike and Last Price as a Function of Date')\n",
    "plt.xlabel('Date')\n",
    "plt.ylabel('Price')\n",
    "plt.xticks(rotation=45)  # Rotate x-axis labels for better readability\n",
    "plt.grid(True)\n",
    "plt.tight_layout()\n",
    "plt.legend()\n",
    "plt.show()"
   ]
  },
  {
   "cell_type": "code",
   "execution_count": 67,
   "metadata": {},
   "outputs": [
    {
     "data": {
      "image/png": "[encoded data removed]",
      "text/plain": [
       "<Figure size 864x576 with 1 Axes>"
      ]
     },
     "metadata": {
      "needs_background": "light"
     },
     "output_type": "display_data"
    }
   ],
   "source": [
    "# Plot 'Volume' as a function of 'Date'\n",
    "plt.figure(figsize=(12, 8))\n",
    "plt.scatter(range(stock_market.shape[0]), stock_market['Bid'], alpha = 0.7, color = 'blue', marker='o', linestyle='-', label = 'Bid')\n",
    "plt.scatter(range(stock_market.shape[0]), stock_market['Ask'], alpha = 0.7, color = 'red',marker='o', linestyle='-', label = 'Ask')\n",
    "\n",
    "plt.xticks(range(0,stock_market.shape[0],40),stock_market['Date'].loc[::40],rotation=45)\n",
    "\n",
    "plt.title('Ask and Bid as a Function of Date')\n",
    "plt.xlabel('Date')\n",
    "plt.ylabel('Price')\n",
    "plt.xticks(rotation=45)  # Rotate x-axis labels for better readability\n",
    "plt.grid(True)\n",
    "plt.tight_layout()\n",
    "plt.legend()\n",
    "plt.show()"
   ]
  },
  {
   "cell_type": "code",
   "execution_count": 61,
   "metadata": {},
   "outputs": [
    {
     "data": {
      "image/png": "[encoded data removed]",
      "text/plain": [
       "<Figure size 864x576 with 1 Axes>"
      ]
     },
     "metadata": {
      "needs_background": "light"
     },
     "output_type": "display_data"
    }
   ],
   "source": [
    "plt.figure(figsize=(12, 8))\n",
    "plt.plot(range(stock_market.shape[0]), stock_market['Implied Volatility'], alpha = 0.7, color = 'blue', marker='o', linestyle='-', label = 'Volatility')\n",
    "\n",
    "plt.xticks(range(0,stock_market.shape[0],40),stock_market['Date'].loc[::40],rotation=45)\n",
    "\n",
    "plt.title('Change in Volatility Function of Date')\n",
    "plt.xlabel('Date')\n",
    "plt.ylabel('Volatility')\n",
    "plt.xticks(rotation=45)  # Rotate x-axis labels for better readability\n",
    "plt.grid(True)\n",
    "plt.tight_layout()\n",
    "plt.legend()\n",
    "plt.show()"
   ]
  },
  {
   "cell_type": "code",
   "execution_count": 13,
   "metadata": {},
   "outputs": [],
   "source": [
    "import torch\n",
    "import torch.nn as nn\n",
    "import torch.optim as optim\n",
    "from torch.utils.data import Dataset, DataLoader\n",
    "from sklearn.model_selection import train_test_split\n",
    "from sklearn.preprocessing import StandardScaler, LabelEncoder\n",
    "import pandas as pd\n",
    "from datetime import datetime\n",
    "\n",
    "# Convert 'Option Type' to numerical labels\n",
    "label_encoder = LabelEncoder()\n",
    "\n",
    "stock_market['Option Type'] = label_encoder.fit_transform(stock_market['Option Type'])\n",
    "\n",
    "# Separate features and target\n",
    "y = stock_market['Option Type']\n",
    "X = stock_market.drop('Option Type', axis = 1)\n"
   ]
  },
  {
   "cell_type": "code",
   "execution_count": 25,
   "metadata": {},
   "outputs": [
    {
     "name": "stdout",
     "output_type": "stream",
     "text": [
      "<class 'pandas.core.frame.DataFrame'>\n",
      "Int64Index: 349 entries, 0 to 352\n",
      "Data columns (total 9 columns):\n",
      " #   Column              Non-Null Count  Dtype  \n",
      "---  ------              --------------  -----  \n",
      " 0   Strike              349 non-null    float64\n",
      " 1   Last Price          349 non-null    float64\n",
      " 2   Bid                 349 non-null    float64\n",
      " 3   Ask                 349 non-null    float64\n",
      " 4   Change              349 non-null    float64\n",
      " 5   dChange             349 non-null    float64\n",
      " 6   Volume              349 non-null    float64\n",
      " 7   Open Interest       349 non-null    int64  \n",
      " 8   Implied Volatility  349 non-null    float64\n",
      "dtypes: float64(8), int64(1)\n",
      "memory usage: 27.3 KB\n"
     ]
    }
   ],
   "source": [
    "X.info()"
   ]
  },
  {
   "cell_type": "code",
   "execution_count": 16,
   "metadata": {},
   "outputs": [
    {
     "data": {
      "text/plain": [
       "((349, 9), (349,))"
      ]
     },
     "execution_count": 16,
     "metadata": {},
     "output_type": "execute_result"
    }
   ],
   "source": [
    "X.shape, y.shape"
   ]
  },
  {
   "cell_type": "code",
   "execution_count": 14,
   "metadata": {},
   "outputs": [],
   "source": [
    "# Turninig Data to Tensor \n",
    "X = torch.from_numpy(X.values).type(torch.float)\n",
    "y = torch.from_numpy(y.values).type(torch.float)"
   ]
  },
  {
   "attachments": {},
   "cell_type": "markdown",
   "metadata": {},
   "source": [
    "1. input layer shape = # of features\n",
    "2. Output Layer shape = 1(one class or the other) for multiclassificatin = 3 \n",
    "3. Hidden Layer Activation usually ReLu could use other too\n",
    "4. Output activation Sigmoid, Softmax for multiclass\n",
    "5. Loss Function Binary CrossEntropy\n",
    "6. Optimizer = SGD, Adan"
   ]
  },
  {
   "cell_type": "code",
   "execution_count": 15,
   "metadata": {},
   "outputs": [],
   "source": [
    "## Split the data into training and testing sets\n",
    "X_train, X_test, y_train, y_test = train_test_split(X, y, test_size=0.2, random_state=42)\n"
   ]
  },
  {
   "cell_type": "code",
   "execution_count": 71,
   "metadata": {},
   "outputs": [
    {
     "ename": "AttributeError",
     "evalue": "'Tensor' object has no attribute 'info'",
     "output_type": "error",
     "traceback": [
      "\u001b[0;31m---------------------------------------------------------------------------\u001b[0m",
      "\u001b[0;31mAttributeError\u001b[0m                            Traceback (most recent call last)",
      "\u001b[0;32m<ipython-input-71-bd629803b521>\u001b[0m in \u001b[0;36m<module>\u001b[0;34m\u001b[0m\n\u001b[0;32m----> 1\u001b[0;31m \u001b[0mX_train\u001b[0m\u001b[0;34m.\u001b[0m\u001b[0minfo\u001b[0m\u001b[0;34m(\u001b[0m\u001b[0;34m)\u001b[0m\u001b[0;34m\u001b[0m\u001b[0;34m\u001b[0m\u001b[0m\n\u001b[0m",
      "\u001b[0;31mAttributeError\u001b[0m: 'Tensor' object has no attribute 'info'"
     ]
    }
   ],
   "source": [
    "X_train.info()"
   ]
  },
  {
   "cell_type": "code",
   "execution_count": 62,
   "metadata": {},
   "outputs": [],
   "source": [
    "# Standardize the features\n",
    "scaler = StandardScaler()\n",
    "X_train_scaled = scaler.fit_transform(X_train)\n",
    "X_test_scaled = scaler.transform(X_test)"
   ]
  },
  {
   "cell_type": "code",
   "execution_count": 28,
   "metadata": {},
   "outputs": [
    {
     "data": {
      "text/plain": [
       "BinaryClassifier(\n",
       "  (layer_1): Linear(in_features=9, out_features=6, bias=True)\n",
       "  (layer_2): Linear(in_features=6, out_features=1, bias=True)\n",
       ")"
      ]
     },
     "execution_count": 28,
     "metadata": {},
     "output_type": "execute_result"
    }
   ],
   "source": [
    "# Define the neural network model\n",
    "class BinaryClassifier(nn.Module):\n",
    "    def __init__(self):\n",
    "        super().__init__()\n",
    "        self.layer_1 = nn.Linear(in_features=9, out_features=6) # takes in 11 features (X), produces 6 features\n",
    "        self.layer_2 = nn.Linear(in_features=6, out_features=1) # takes in 6 features, produces 1 feature (y)\n",
    "    # 3. Define a forward method containing the forward pass computation\n",
    "    def forward(self, x):\n",
    "        # Return the output of layer_2, a single feature, the same shape as y\n",
    "        return self.layer_2(self.layer_1(x)) # computation goes through layer_1 first then the output of layer_1 goes through layer_2\n",
    "\n",
    "# 4. Create an instance of the model and send it to target device\n",
    "model_0 = BinaryClassifier()\n",
    "model_0\n"
   ]
  },
  {
   "cell_type": "code",
   "execution_count": 54,
   "metadata": {},
   "outputs": [
    {
     "name": "stdout",
     "output_type": "stream",
     "text": [
      "Length of predictions: 70, Shape: torch.Size([70, 1])\n",
      "Length of test samples: 70, Shape: torch.Size([70])\n",
      "\n",
      "First 10 predictions:\n",
      "tensor([[nan],\n",
      "        [nan],\n",
      "        [nan],\n",
      "        [nan],\n",
      "        [nan],\n",
      "        [nan],\n",
      "        [nan],\n",
      "        [nan],\n",
      "        [nan],\n",
      "        [nan]], grad_fn=<SliceBackward0>)\n",
      "\n",
      "First 10 test labels:\n",
      "tensor([1., 0., 0., 0., 1., 0., 0., 0., 0., 0.])\n"
     ]
    }
   ],
   "source": [
    "# Make predictions with the model\n",
    "untrained_preds = model_0(X_test)\n",
    "print(f\"Length of predictions: {len(untrained_preds)}, Shape: {untrained_preds.shape}\")\n",
    "print(f\"Length of test samples: {len(y_test)}, Shape: {y_test.shape}\")\n",
    "print(f\"\\nFirst 10 predictions:\\n{untrained_preds[:10]}\")\n",
    "print(f\"\\nFirst 10 test labels:\\n{y_test[:10]}\")"
   ]
  },
  {
   "cell_type": "code",
   "execution_count": 19,
   "metadata": {},
   "outputs": [],
   "source": [
    "# Create a loss function\n",
    "# loss_fn = nn.BCELoss() # BCELoss = no sigmoid built-in\n",
    "loss_fn = nn.BCEWithLogitsLoss() # BCEWithLogitsLoss = sigmoid built-in\n",
    "\n",
    "# Create an optimizer\n",
    "optimizer = torch.optim.SGD(params=deep.parameters(), \n",
    "                            lr=0.001)"
   ]
  },
  {
   "cell_type": "code",
   "execution_count": 21,
   "metadata": {},
   "outputs": [
    {
     "name": "stdout",
     "output_type": "stream",
     "text": [
      "The tensor does not contain NaN values.\n"
     ]
    }
   ],
   "source": [
    "# Check for NaN values\n",
    "has_nan = torch.isnan(X_train).any().item()\n",
    "if has_nan:\n",
    "    print(\"The tensor contains NaN values.\")\n",
    "else:\n",
    "    print(\"The tensor does not contain NaN values.\")\n"
   ]
  },
  {
   "cell_type": "code",
   "execution_count": null,
   "metadata": {},
   "outputs": [],
   "source": []
  },
  {
   "attachments": {},
   "cell_type": "markdown",
   "metadata": {},
   "source": [
    "### Training and building "
   ]
  },
  {
   "cell_type": "code",
   "execution_count": 30,
   "metadata": {},
   "outputs": [
    {
     "name": "stdout",
     "output_type": "stream",
     "text": [
      "Epoch: 0 | Loss: 143.59129 | Test loss: 341.18546\n",
      "Epoch: 1 | Loss: 242.75963 | Test loss: 29.29285\n",
      "Epoch: 2 | Loss: 19.02667 | Test loss: 18.66355\n",
      "Epoch: 3 | Loss: 13.87927 | Test loss: 57.40464\n",
      "Epoch: 4 | Loss: 35.56451 | Test loss: 11.54196\n",
      "Epoch: 5 | Loss: 6.53236 | Test loss: 28.11400\n",
      "Epoch: 6 | Loss: 19.98043 | Test loss: 27.34684\n",
      "Epoch: 7 | Loss: 17.10603 | Test loss: 2.74864\n",
      "Epoch: 8 | Loss: 2.06041 | Test loss: 18.74428\n",
      "Epoch: 9 | Loss: 11.44220 | Test loss: 11.97199\n",
      "Epoch: 10 | Loss: 7.33447 | Test loss: 2.18331\n",
      "Epoch: 11 | Loss: 1.85456 | Test loss: 11.59234\n",
      "Epoch: 12 | Loss: 7.02199 | Test loss: 4.17031\n",
      "Epoch: 13 | Loss: 2.74874 | Test loss: 15.72265\n",
      "Epoch: 14 | Loss: 13.79070 | Test loss: 13.57867\n",
      "Epoch: 15 | Loss: 9.61518 | Test loss: 1.98614\n",
      "Epoch: 16 | Loss: 2.04755 | Test loss: 13.15585\n",
      "Epoch: 17 | Loss: 9.90176 | Test loss: 1.32624\n",
      "Epoch: 18 | Loss: 1.16874 | Test loss: 7.48221\n",
      "Epoch: 19 | Loss: 6.72798 | Test loss: 7.49547\n",
      "Epoch: 20 | Loss: 5.62586 | Test loss: 1.69656\n"
     ]
    },
    {
     "name": "stdout",
     "output_type": "stream",
     "text": [
      "Epoch: 21 | Loss: 1.50288 | Test loss: 6.06568\n",
      "Epoch: 22 | Loss: 4.31421 | Test loss: 3.06850\n",
      "Epoch: 23 | Loss: 2.46807 | Test loss: 4.21129\n",
      "Epoch: 24 | Loss: 3.54466 | Test loss: 3.75095\n",
      "Epoch: 25 | Loss: 3.18610 | Test loss: 5.43813\n",
      "Epoch: 26 | Loss: 4.43060 | Test loss: 1.05594\n",
      "Epoch: 27 | Loss: 1.01376 | Test loss: 1.16590\n",
      "Epoch: 28 | Loss: 0.98542 | Test loss: 1.51749\n",
      "Epoch: 29 | Loss: 1.10727 | Test loss: 1.46089\n",
      "Epoch: 30 | Loss: 1.48498 | Test loss: 2.48416\n",
      "Epoch: 31 | Loss: 2.37024 | Test loss: 4.04444\n",
      "Epoch: 32 | Loss: 3.27785 | Test loss: 0.72790\n",
      "Epoch: 33 | Loss: 0.80031 | Test loss: 2.22055\n",
      "Epoch: 34 | Loss: 1.75533 | Test loss: 1.56449\n",
      "Epoch: 35 | Loss: 1.58086 | Test loss: 3.21894\n",
      "Epoch: 36 | Loss: 2.65339 | Test loss: 0.94416\n",
      "Epoch: 37 | Loss: 0.86329 | Test loss: 1.32623\n",
      "Epoch: 38 | Loss: 1.26197 | Test loss: 2.19965\n",
      "Epoch: 39 | Loss: 1.94935 | Test loss: 0.75794\n",
      "Epoch: 40 | Loss: 0.75120 | Test loss: 0.99759\n",
      "Epoch: 41 | Loss: 0.95803 | Test loss: 1.65659\n",
      "Epoch: 42 | Loss: 1.58623 | Test loss: 0.98052\n",
      "Epoch: 43 | Loss: 0.92379 | Test loss: 1.40960\n",
      "Epoch: 44 | Loss: 1.36824 | Test loss: 2.54347\n",
      "Epoch: 45 | Loss: 2.17745 | Test loss: 1.70306\n",
      "Epoch: 46 | Loss: 1.67022 | Test loss: 0.92062\n",
      "Epoch: 47 | Loss: 0.95702 | Test loss: 0.96861\n",
      "Epoch: 48 | Loss: 0.92867 | Test loss: 0.87557\n",
      "Epoch: 49 | Loss: 0.84008 | Test loss: 0.79732\n",
      "Epoch: 50 | Loss: 0.76995 | Test loss: 0.84529\n",
      "Epoch: 51 | Loss: 0.80020 | Test loss: 0.73879\n",
      "Epoch: 52 | Loss: 0.73869 | Test loss: 0.78300\n",
      "Epoch: 53 | Loss: 0.76905 | Test loss: 0.96489\n",
      "Epoch: 54 | Loss: 0.93468 | Test loss: 1.33041\n",
      "Epoch: 55 | Loss: 1.22556 | Test loss: 1.53282\n",
      "Epoch: 56 | Loss: 1.49325 | Test loss: 0.74070\n",
      "Epoch: 57 | Loss: 0.78170 | Test loss: 0.81760\n",
      "Epoch: 58 | Loss: 0.78611 | Test loss: 1.01372\n",
      "Epoch: 59 | Loss: 1.02583 | Test loss: 0.76913\n",
      "Epoch: 60 | Loss: 0.76063 | Test loss: 1.06340\n",
      "Epoch: 61 | Loss: 1.05591 | Test loss: 0.79079\n",
      "Epoch: 62 | Loss: 0.77483 | Test loss: 1.03316\n",
      "Epoch: 63 | Loss: 1.04193 | Test loss: 0.82114\n",
      "Epoch: 64 | Loss: 0.78826 | Test loss: 0.99899\n",
      "Epoch: 65 | Loss: 1.02426 | Test loss: 0.78483\n",
      "Epoch: 66 | Loss: 0.76732 | Test loss: 0.94891\n",
      "Epoch: 67 | Loss: 0.96367 | Test loss: 0.80371\n",
      "Epoch: 68 | Loss: 0.78052 | Test loss: 0.98845\n",
      "Epoch: 69 | Loss: 1.00460 | Test loss: 0.73390\n",
      "Epoch: 70 | Loss: 0.71874 | Test loss: 0.82580\n",
      "Epoch: 71 | Loss: 0.85065 | Test loss: 0.84142\n",
      "Epoch: 72 | Loss: 0.80652 | Test loss: 1.02767\n",
      "Epoch: 73 | Loss: 1.05049 | Test loss: 0.67578\n",
      "Epoch: 74 | Loss: 0.67859 | Test loss: 0.68359\n",
      "Epoch: 75 | Loss: 0.69710 | Test loss: 0.79590\n",
      "Epoch: 76 | Loss: 0.76672 | Test loss: 0.95828\n",
      "Epoch: 77 | Loss: 0.98542 | Test loss: 0.70294\n",
      "Epoch: 78 | Loss: 0.69485 | Test loss: 0.75767\n",
      "Epoch: 79 | Loss: 0.78020 | Test loss: 0.85265\n",
      "Epoch: 80 | Loss: 0.81231 | Test loss: 1.00946\n",
      "Epoch: 81 | Loss: 1.04045 | Test loss: 0.67749\n",
      "Epoch: 82 | Loss: 0.67840 | Test loss: 0.67832\n",
      "Epoch: 83 | Loss: 0.69064 | Test loss: 0.75941\n",
      "Epoch: 84 | Loss: 0.73587 | Test loss: 0.87637\n",
      "Epoch: 85 | Loss: 0.90534 | Test loss: 0.75434\n",
      "Epoch: 86 | Loss: 0.73246 | Test loss: 0.86644\n",
      "Epoch: 87 | Loss: 0.89322 | Test loss: 0.75998\n",
      "Epoch: 88 | Loss: 0.73745 | Test loss: 0.87445\n",
      "Epoch: 89 | Loss: 0.90181 | Test loss: 0.75029\n",
      "Epoch: 90 | Loss: 0.72991 | Test loss: 0.85037\n",
      "Epoch: 91 | Loss: 0.87963 | Test loss: 0.76694\n",
      "Epoch: 92 | Loss: 0.74169 | Test loss: 0.87272\n",
      "Epoch: 93 | Loss: 0.90414 | Test loss: 0.74708\n",
      "Epoch: 94 | Loss: 0.72574 | Test loss: 0.83414\n",
      "Epoch: 95 | Loss: 0.86170 | Test loss: 0.77623\n",
      "Epoch: 96 | Loss: 0.74862 | Test loss: 0.88547\n",
      "Epoch: 97 | Loss: 0.91270 | Test loss: 0.73465\n",
      "Epoch: 98 | Loss: 0.71776 | Test loss: 0.80775\n",
      "Epoch: 99 | Loss: 0.83371 | Test loss: 0.78917\n"
     ]
    }
   ],
   "source": [
    "import torch\n",
    "import torch.nn as nn\n",
    "from torch.optim import SGD\n",
    "\n",
    "torch.manual_seed(42)\n",
    "\n",
    "# Set the number of epochs\n",
    "epochs = 100\n",
    "\n",
    "# Build training and evaluation loop\n",
    "for epoch in range(epochs):\n",
    "    ### Training\n",
    "    model_0.train()\n",
    "\n",
    "    # 1. Forward pass (model outputs raw logits)\n",
    "    y_logits = model_0(X_train).squeeze()\n",
    "    # Squeeze to remove extra `1` dimensions; this won't work unless model and data are on the same device \n",
    "    y_pred = torch.round(torch.sigmoid(y_logits))  # Turn logits -> pred probs -> pred labels\n",
    "\n",
    "    # 2. Calculate loss/accuracy\n",
    "    loss = loss_fn(y_logits, y_train) \n",
    "\n",
    "    # 3. Optimizer zero grad\n",
    "    optimizer.zero_grad()\n",
    "    \n",
    "    # 4. Loss backward\n",
    "    loss.backward()\n",
    "    \n",
    "    # 5. Optimizer step\n",
    "    optimizer.step()\n",
    "\n",
    "    ### Testing\n",
    "    model_0.eval()\n",
    "    with torch.no_grad():\n",
    "        # 1. Forward pass\n",
    "        test_logits = model_0(X_test).squeeze() \n",
    "        test_pred = torch.round(torch.sigmoid(test_logits))\n",
    "        \n",
    "        # 2. Calculate loss/accuracy\n",
    "        test_loss = loss_fn(test_logits, y_test)\n",
    "    \n",
    "    # Print out what's happening every epoch\n",
    "    print(f\"Epoch: {epoch} | Loss: {loss.item():.5f} | Test loss: {test_loss.item():.5f}\")\n",
    "\n",
    "     # Print intermediate values for debugging\n",
    "    #print(\"y_pred:\", y_pred)\n",
    "    #print(\"y_logits:\", y_logits)\n",
    "    #print(\"test_pred:\", test_pred)\n",
    "    #print(\"test_logits:\", test_logits)\n",
    "\n",
    "    # Check for NaN or infinite values in tensors\n",
    "    if torch.isnan(loss) or torch.isinf(loss):\n",
    "        print(\"Training loss is NaN or infinite. Exiting training loop.\")\n",
    "        break\n"
   ]
  },
  {
   "attachments": {},
   "cell_type": "markdown",
   "metadata": {},
   "source": [
    "changing the model and making it denser\n",
    "2. Plot the losses and. "
   ]
  },
  {
   "cell_type": "code",
   "execution_count": 17,
   "metadata": {},
   "outputs": [],
   "source": [
    "\n",
    "\n",
    "class DeeperBinaryClassifier(nn.Module):\n",
    "    def __init__(self):\n",
    "        super(DeeperBinaryClassifier, self).__init__()\n",
    "        self.layer_1 = nn.Linear(in_features=9, out_features=12)\n",
    "        self.layer_2 = nn.Linear(in_features=12, out_features=8)\n",
    "        self.layer_3 = nn.Linear(in_features=8, out_features=4)\n",
    "        self.layer_4 = nn.Linear(in_features=4, out_features=1)\n",
    "\n",
    "    def forward(self, x):\n",
    "        x = F.relu(self.layer_1(x))\n",
    "        x = F.relu(self.layer_2(x))\n",
    "        x = F.relu(self.layer_3(x))\n",
    "        x = self.layer_4(x)\n",
    "        return x"
   ]
  },
  {
   "cell_type": "code",
   "execution_count": 21,
   "metadata": {},
   "outputs": [],
   "source": [
    "model = DeeperBinaryClassifier()"
   ]
  },
  {
   "cell_type": "code",
   "execution_count": 20,
   "metadata": {},
   "outputs": [
    {
     "name": "stdout",
     "output_type": "stream",
     "text": [
      "Epoch: 0 | Loss: 1.15516 | Test loss: 0.68678\n",
      "Epoch: 1 | Loss: 0.69333 | Test loss: 0.68678\n",
      "Epoch: 2 | Loss: 0.69402 | Test loss: 0.68678\n",
      "Epoch: 3 | Loss: 0.69365 | Test loss: 0.68678\n",
      "Epoch: 4 | Loss: 0.69385 | Test loss: 0.68679\n",
      "Epoch: 5 | Loss: 0.69363 | Test loss: 0.68679\n",
      "Epoch: 6 | Loss: 0.69379 | Test loss: 0.68679\n",
      "Epoch: 7 | Loss: 0.69359 | Test loss: 0.68679\n",
      "Epoch: 8 | Loss: 0.69373 | Test loss: 0.68679\n",
      "Epoch: 9 | Loss: 0.69354 | Test loss: 0.68679\n",
      "Epoch: 10 | Loss: 0.69368 | Test loss: 0.68679\n",
      "Epoch: 11 | Loss: 0.69350 | Test loss: 0.68679\n",
      "Epoch: 12 | Loss: 0.69363 | Test loss: 0.68679\n",
      "Epoch: 13 | Loss: 0.69347 | Test loss: 0.68680\n",
      "Epoch: 14 | Loss: 0.69357 | Test loss: 0.68680\n",
      "Epoch: 15 | Loss: 0.69343 | Test loss: 0.68680\n",
      "Epoch: 16 | Loss: 0.69352 | Test loss: 0.68680\n",
      "Epoch: 17 | Loss: 0.69339 | Test loss: 0.68680\n",
      "Epoch: 18 | Loss: 0.69347 | Test loss: 0.68680\n",
      "Epoch: 19 | Loss: 0.69335 | Test loss: 0.68680\n",
      "Epoch: 20 | Loss: 0.69342 | Test loss: 0.68680\n",
      "Epoch: 21 | Loss: 0.69331 | Test loss: 0.68680\n",
      "Epoch: 22 | Loss: 0.69337 | Test loss: 0.68681\n",
      "Epoch: 23 | Loss: 0.69328 | Test loss: 0.68681\n",
      "Epoch: 24 | Loss: 0.69332 | Test loss: 0.68681\n",
      "Epoch: 25 | Loss: 0.69324 | Test loss: 0.68681\n",
      "Epoch: 26 | Loss: 0.69327 | Test loss: 0.68681\n",
      "Epoch: 27 | Loss: 0.69320 | Test loss: 0.68681\n",
      "Epoch: 28 | Loss: 0.69322 | Test loss: 0.68681\n",
      "Epoch: 29 | Loss: 0.69317 | Test loss: 0.68681\n",
      "Epoch: 30 | Loss: 0.69317 | Test loss: 0.68682\n",
      "Epoch: 31 | Loss: 0.69314 | Test loss: 0.68682\n",
      "Epoch: 32 | Loss: 0.69313 | Test loss: 0.68682\n",
      "Epoch: 33 | Loss: 0.69310 | Test loss: 0.68682\n",
      "Epoch: 34 | Loss: 0.69308 | Test loss: 0.68682\n",
      "Epoch: 35 | Loss: 0.69307 | Test loss: 0.68682\n",
      "Epoch: 36 | Loss: 0.69304 | Test loss: 0.68682\n",
      "Epoch: 37 | Loss: 0.69303 | Test loss: 0.68682\n",
      "Epoch: 38 | Loss: 0.69299 | Test loss: 0.68682\n",
      "Epoch: 39 | Loss: 0.69300 | Test loss: 0.68683\n",
      "Epoch: 40 | Loss: 0.69294 | Test loss: 0.68683\n",
      "Epoch: 41 | Loss: 0.69297 | Test loss: 0.68683\n",
      "Epoch: 42 | Loss: 0.69290 | Test loss: 0.68683\n",
      "Epoch: 43 | Loss: 0.69294 | Test loss: 0.68683\n",
      "Epoch: 44 | Loss: 0.69286 | Test loss: 0.68683\n",
      "Epoch: 45 | Loss: 0.69291 | Test loss: 0.68683\n",
      "Epoch: 46 | Loss: 0.69281 | Test loss: 0.68683\n",
      "Epoch: 47 | Loss: 0.69288 | Test loss: 0.68684\n",
      "Epoch: 48 | Loss: 0.69277 | Test loss: 0.68684\n",
      "Epoch: 49 | Loss: 0.69285 | Test loss: 0.68684\n",
      "Epoch: 50 | Loss: 0.69273 | Test loss: 0.68684\n",
      "Epoch: 51 | Loss: 0.69282 | Test loss: 0.68684\n",
      "Epoch: 52 | Loss: 0.69269 | Test loss: 0.68684\n",
      "Epoch: 53 | Loss: 0.69279 | Test loss: 0.68684\n",
      "Epoch: 54 | Loss: 0.69265 | Test loss: 0.68684\n",
      "Epoch: 55 | Loss: 0.69276 | Test loss: 0.68684\n",
      "Epoch: 56 | Loss: 0.69261 | Test loss: 0.68685\n",
      "Epoch: 57 | Loss: 0.69273 | Test loss: 0.68685\n",
      "Epoch: 58 | Loss: 0.69256 | Test loss: 0.68685\n",
      "Epoch: 59 | Loss: 0.69270 | Test loss: 0.68685\n",
      "Epoch: 60 | Loss: 0.69253 | Test loss: 0.68685\n",
      "Epoch: 61 | Loss: 0.69267 | Test loss: 0.68685\n",
      "Epoch: 62 | Loss: 0.69249 | Test loss: 0.68685\n",
      "Epoch: 63 | Loss: 0.69264 | Test loss: 0.68685\n",
      "Epoch: 64 | Loss: 0.69245 | Test loss: 0.68685\n",
      "Epoch: 65 | Loss: 0.69262 | Test loss: 0.68686\n",
      "Epoch: 66 | Loss: 0.69241 | Test loss: 0.68686\n",
      "Epoch: 67 | Loss: 0.69259 | Test loss: 0.68686\n",
      "Epoch: 68 | Loss: 0.69237 | Test loss: 0.68686\n",
      "Epoch: 69 | Loss: 0.69256 | Test loss: 0.68686\n",
      "Epoch: 70 | Loss: 0.69233 | Test loss: 0.68686\n",
      "Epoch: 71 | Loss: 0.69254 | Test loss: 0.68686\n",
      "Epoch: 72 | Loss: 0.69230 | Test loss: 0.68686\n",
      "Epoch: 73 | Loss: 0.69251 | Test loss: 0.68686\n",
      "Epoch: 74 | Loss: 0.69226 | Test loss: 0.68687\n",
      "Epoch: 75 | Loss: 0.69248 | Test loss: 0.68687\n",
      "Epoch: 76 | Loss: 0.69222 | Test loss: 0.68687\n",
      "Epoch: 77 | Loss: 0.69246 | Test loss: 0.68687\n",
      "Epoch: 78 | Loss: 0.69219 | Test loss: 0.68687\n",
      "Epoch: 79 | Loss: 0.69243 | Test loss: 0.68687\n",
      "Epoch: 80 | Loss: 0.69215 | Test loss: 0.68687\n",
      "Epoch: 81 | Loss: 0.69241 | Test loss: 0.68687\n",
      "Epoch: 82 | Loss: 0.69212 | Test loss: 0.68688\n",
      "Epoch: 83 | Loss: 0.69239 | Test loss: 0.68688\n",
      "Epoch: 84 | Loss: 0.69208 | Test loss: 0.68688\n",
      "Epoch: 85 | Loss: 0.69236 | Test loss: 0.68688\n",
      "Epoch: 86 | Loss: 0.69205 | Test loss: 0.68688\n",
      "Epoch: 87 | Loss: 0.69234 | Test loss: 0.68688\n",
      "Epoch: 88 | Loss: 0.69201 | Test loss: 0.68688\n",
      "Epoch: 89 | Loss: 0.69231 | Test loss: 0.68688\n",
      "Epoch: 90 | Loss: 0.69198 | Test loss: 0.68688\n",
      "Epoch: 91 | Loss: 0.69229 | Test loss: 0.68689\n",
      "Epoch: 92 | Loss: 0.69195 | Test loss: 0.68689\n",
      "Epoch: 93 | Loss: 0.69227 | Test loss: 0.68689\n",
      "Epoch: 94 | Loss: 0.69191 | Test loss: 0.68689\n",
      "Epoch: 95 | Loss: 0.69225 | Test loss: 0.68689\n",
      "Epoch: 96 | Loss: 0.69188 | Test loss: 0.68689\n",
      "Epoch: 97 | Loss: 0.69222 | Test loss: 0.68689\n",
      "Epoch: 98 | Loss: 0.69185 | Test loss: 0.68689\n",
      "Epoch: 99 | Loss: 0.69220 | Test loss: 0.68689\n"
     ]
    },
    {
     "data": {
      "image/png": "[encoded data removed]",
      "text/plain": [
       "<Figure size 432x288 with 1 Axes>"
      ]
     },
     "metadata": {
      "needs_background": "light"
     },
     "output_type": "display_data"
    }
   ],
   "source": [
    "epochs = 100\n",
    "\n",
    "# Lists to store training loss for plotting\n",
    "train_loss_history = []\n",
    "\n",
    "# Build training and evaluation loop\n",
    "for epoch in range(epochs):\n",
    "    ### Training\n",
    "    deep.train()\n",
    "\n",
    "    # 1. Forward pass (model outputs raw logits)\n",
    "    y_logits = deep(X_train).squeeze()\n",
    "    y_pred = torch.round(torch.sigmoid(y_logits))  # Turn logits -> pred probs -> pred labels\n",
    "\n",
    "    # 2. Calculate loss/accuracy\n",
    "    loss = loss_fn(y_logits, y_train) \n",
    "\n",
    "    # 3. Optimizer zero grad\n",
    "    optimizer.zero_grad()\n",
    "    \n",
    "    # 4. Loss backward\n",
    "    loss.backward()\n",
    "    \n",
    "    # 5. Optimizer step\n",
    "    optimizer.step()\n",
    "\n",
    "    ### Testing\n",
    "    deep.eval()\n",
    "    with torch.no_grad():\n",
    "        # 1. Forward pass\n",
    "        test_logits = deep(X_test).squeeze() \n",
    "        test_pred = torch.round(torch.sigmoid(test_logits))\n",
    "        \n",
    "        # 2. Calculate loss/accuracy\n",
    "        test_loss = loss_fn(test_logits, y_test)\n",
    "    \n",
    "    # Print out what's happening every epoch\n",
    "    print(f\"Epoch: {epoch} | Loss: {loss.item():.5f} | Test loss: {test_loss.item():.5f}\")\n",
    "\n",
    "    # Append training loss to the list for plotting\n",
    "    train_loss_history.append(loss.item())\n",
    "\n",
    "    # Check for NaN or infinite values in tensors\n",
    "    if torch.isnan(loss) or torch.isinf(loss):\n",
    "        print(\"Training loss is NaN or infinite. Exiting training loop.\")\n",
    "        break\n",
    "\n",
    "# Plot training loss over epochs\n",
    "plt.plot(range(epochs), train_loss_history, label='Training Loss')\n",
    "plt.xlabel('Epochs')\n",
    "plt.ylabel('Loss')\n",
    "plt.legend()\n",
    "plt.show()"
   ]
  },
  {
   "cell_type": "code",
   "execution_count": 27,
   "metadata": {},
   "outputs": [
    {
     "name": "stdout",
     "output_type": "stream",
     "text": [
      "Epoch [10/100], Loss: 743.2023\n",
      "Epoch [20/100], Loss: 740.9802\n",
      "Epoch [30/100], Loss: 740.6160\n"
     ]
    },
    {
     "name": "stdout",
     "output_type": "stream",
     "text": [
      "Epoch [40/100], Loss: 740.2402\n",
      "Epoch [50/100], Loss: 739.9799\n",
      "Epoch [60/100], Loss: 739.7703\n",
      "Epoch [70/100], Loss: 739.5802\n",
      "Epoch [80/100], Loss: 739.3683\n",
      "Epoch [90/100], Loss: 739.2172\n",
      "Epoch [100/100], Loss: 739.0782\n"
     ]
    },
    {
     "ename": "RuntimeError",
     "evalue": "expected scalar type Long but found Float",
     "output_type": "error",
     "traceback": [
      "\u001b[0;31m---------------------------------------------------------------------------\u001b[0m",
      "\u001b[0;31mRuntimeError\u001b[0m                              Traceback (most recent call last)",
      "\u001b[0;32m<ipython-input-27-56b9c6348174>\u001b[0m in \u001b[0;36m<module>\u001b[0;34m\u001b[0m\n\u001b[1;32m     31\u001b[0m \u001b[0;32mwith\u001b[0m \u001b[0mtorch\u001b[0m\u001b[0;34m.\u001b[0m\u001b[0mno_grad\u001b[0m\u001b[0;34m(\u001b[0m\u001b[0;34m)\u001b[0m\u001b[0;34m:\u001b[0m\u001b[0;34m\u001b[0m\u001b[0;34m\u001b[0m\u001b[0m\n\u001b[1;32m     32\u001b[0m     \u001b[0mtest_outputs\u001b[0m \u001b[0;34m=\u001b[0m \u001b[0mmodel\u001b[0m\u001b[0;34m(\u001b[0m\u001b[0mX_test\u001b[0m\u001b[0;34m)\u001b[0m\u001b[0;34m\u001b[0m\u001b[0;34m\u001b[0m\u001b[0m\n\u001b[0;32m---> 33\u001b[0;31m     \u001b[0mtest_loss\u001b[0m \u001b[0;34m=\u001b[0m \u001b[0mcriterion\u001b[0m\u001b[0;34m(\u001b[0m\u001b[0mtest_outputs\u001b[0m\u001b[0;34m,\u001b[0m \u001b[0my_test\u001b[0m\u001b[0;34m)\u001b[0m\u001b[0;34m\u001b[0m\u001b[0;34m\u001b[0m\u001b[0m\n\u001b[0m\u001b[1;32m     34\u001b[0m \u001b[0;34m\u001b[0m\u001b[0m\n\u001b[1;32m     35\u001b[0m \u001b[0mprint\u001b[0m\u001b[0;34m(\u001b[0m\u001b[0;34mf'Test Loss: {test_loss.item():.4f}'\u001b[0m\u001b[0;34m)\u001b[0m\u001b[0;34m\u001b[0m\u001b[0;34m\u001b[0m\u001b[0m\n",
      "\u001b[0;32m~/anaconda3/lib/python3.7/site-packages/torch/nn/modules/module.py\u001b[0m in \u001b[0;36m_call_impl\u001b[0;34m(self, *input, **kwargs)\u001b[0m\n\u001b[1;32m   1188\u001b[0m         if not (self._backward_hooks or self._forward_hooks or self._forward_pre_hooks or _global_backward_hooks\n\u001b[1;32m   1189\u001b[0m                 or _global_forward_hooks or _global_forward_pre_hooks):\n\u001b[0;32m-> 1190\u001b[0;31m             \u001b[0;32mreturn\u001b[0m \u001b[0mforward_call\u001b[0m\u001b[0;34m(\u001b[0m\u001b[0;34m*\u001b[0m\u001b[0minput\u001b[0m\u001b[0;34m,\u001b[0m \u001b[0;34m**\u001b[0m\u001b[0mkwargs\u001b[0m\u001b[0;34m)\u001b[0m\u001b[0;34m\u001b[0m\u001b[0;34m\u001b[0m\u001b[0m\n\u001b[0m\u001b[1;32m   1191\u001b[0m         \u001b[0;31m# Do not call functions when jit is used\u001b[0m\u001b[0;34m\u001b[0m\u001b[0;34m\u001b[0m\u001b[0;34m\u001b[0m\u001b[0m\n\u001b[1;32m   1192\u001b[0m         \u001b[0mfull_backward_hooks\u001b[0m\u001b[0;34m,\u001b[0m \u001b[0mnon_full_backward_hooks\u001b[0m \u001b[0;34m=\u001b[0m \u001b[0;34m[\u001b[0m\u001b[0;34m]\u001b[0m\u001b[0;34m,\u001b[0m \u001b[0;34m[\u001b[0m\u001b[0;34m]\u001b[0m\u001b[0;34m\u001b[0m\u001b[0;34m\u001b[0m\u001b[0m\n",
      "\u001b[0;32m~/anaconda3/lib/python3.7/site-packages/torch/nn/modules/loss.py\u001b[0m in \u001b[0;36mforward\u001b[0;34m(self, input, target)\u001b[0m\n\u001b[1;32m   1174\u001b[0m         return F.cross_entropy(input, target, weight=self.weight,\n\u001b[1;32m   1175\u001b[0m                                \u001b[0mignore_index\u001b[0m\u001b[0;34m=\u001b[0m\u001b[0mself\u001b[0m\u001b[0;34m.\u001b[0m\u001b[0mignore_index\u001b[0m\u001b[0;34m,\u001b[0m \u001b[0mreduction\u001b[0m\u001b[0;34m=\u001b[0m\u001b[0mself\u001b[0m\u001b[0;34m.\u001b[0m\u001b[0mreduction\u001b[0m\u001b[0;34m,\u001b[0m\u001b[0;34m\u001b[0m\u001b[0;34m\u001b[0m\u001b[0m\n\u001b[0;32m-> 1176\u001b[0;31m                                label_smoothing=self.label_smoothing)\n\u001b[0m\u001b[1;32m   1177\u001b[0m \u001b[0;34m\u001b[0m\u001b[0m\n\u001b[1;32m   1178\u001b[0m \u001b[0;34m\u001b[0m\u001b[0m\n",
      "\u001b[0;32m~/anaconda3/lib/python3.7/site-packages/torch/nn/functional.py\u001b[0m in \u001b[0;36mcross_entropy\u001b[0;34m(input, target, weight, size_average, ignore_index, reduce, reduction, label_smoothing)\u001b[0m\n\u001b[1;32m   3024\u001b[0m     \u001b[0;32mif\u001b[0m \u001b[0msize_average\u001b[0m \u001b[0;32mis\u001b[0m \u001b[0;32mnot\u001b[0m \u001b[0;32mNone\u001b[0m \u001b[0;32mor\u001b[0m \u001b[0mreduce\u001b[0m \u001b[0;32mis\u001b[0m \u001b[0;32mnot\u001b[0m \u001b[0;32mNone\u001b[0m\u001b[0;34m:\u001b[0m\u001b[0;34m\u001b[0m\u001b[0;34m\u001b[0m\u001b[0m\n\u001b[1;32m   3025\u001b[0m         \u001b[0mreduction\u001b[0m \u001b[0;34m=\u001b[0m \u001b[0m_Reduction\u001b[0m\u001b[0;34m.\u001b[0m\u001b[0mlegacy_get_string\u001b[0m\u001b[0;34m(\u001b[0m\u001b[0msize_average\u001b[0m\u001b[0;34m,\u001b[0m \u001b[0mreduce\u001b[0m\u001b[0;34m)\u001b[0m\u001b[0;34m\u001b[0m\u001b[0;34m\u001b[0m\u001b[0m\n\u001b[0;32m-> 3026\u001b[0;31m     \u001b[0;32mreturn\u001b[0m \u001b[0mtorch\u001b[0m\u001b[0;34m.\u001b[0m\u001b[0m_C\u001b[0m\u001b[0;34m.\u001b[0m\u001b[0m_nn\u001b[0m\u001b[0;34m.\u001b[0m\u001b[0mcross_entropy_loss\u001b[0m\u001b[0;34m(\u001b[0m\u001b[0minput\u001b[0m\u001b[0;34m,\u001b[0m \u001b[0mtarget\u001b[0m\u001b[0;34m,\u001b[0m \u001b[0mweight\u001b[0m\u001b[0;34m,\u001b[0m \u001b[0m_Reduction\u001b[0m\u001b[0;34m.\u001b[0m\u001b[0mget_enum\u001b[0m\u001b[0;34m(\u001b[0m\u001b[0mreduction\u001b[0m\u001b[0;34m)\u001b[0m\u001b[0;34m,\u001b[0m \u001b[0mignore_index\u001b[0m\u001b[0;34m,\u001b[0m \u001b[0mlabel_smoothing\u001b[0m\u001b[0;34m)\u001b[0m\u001b[0;34m\u001b[0m\u001b[0;34m\u001b[0m\u001b[0m\n\u001b[0m\u001b[1;32m   3027\u001b[0m \u001b[0;34m\u001b[0m\u001b[0m\n\u001b[1;32m   3028\u001b[0m \u001b[0;34m\u001b[0m\u001b[0m\n",
      "\u001b[0;31mRuntimeError\u001b[0m: expected scalar type Long but found Float"
     ]
    }
   ],
   "source": [
    "\n",
    "# Define the loss function and optimizer\n",
    "criterion = nn.CrossEntropyLoss()\n",
    "optimizer = optim.Adam(model.parameters(), lr=0.001)\n",
    "\n",
    "# Set the number of epochs\n",
    "epochs = 100\n",
    "\n",
    "# Training loop\n",
    "for epoch in range(epochs):\n",
    "    model.train()\n",
    "    \n",
    "    # 1. Forward pass (model outputs raw logits)\n",
    "    y_logits = model(X_train).squeeze()\n",
    "    # Squeeze to remove extra `1` dimensions; this won't work unless model and data are on the same device \n",
    "    y_pred = torch.round(torch.sigmoid(y_logits))  # Turn logits -> pred probs -> pred labels\n",
    "\n",
    "    loss = criterion(y_logits, y_train)\n",
    "    \n",
    "    # Backward pass and optimization\n",
    "    optimizer.zero_grad()\n",
    "    loss.backward()\n",
    "    optimizer.step()\n",
    "    \n",
    "    # Print loss for every few epochs\n",
    "    if (epoch + 1) % 10 == 0:\n",
    "        print(f'Epoch [{epoch+1}/{epochs}], Loss: {loss.item():.4f}')\n",
    "\n",
    "# Evaluate on test data\n",
    "model.eval()\n",
    "with torch.no_grad():\n",
    "    test_outputs = model(X_test)\n",
    "    test_loss = criterion(test_outputs, y_test)\n",
    "\n",
    "print(f'Test Loss: {test_loss.item():.4f}')\n"
   ]
  },
  {
   "attachments": {},
   "cell_type": "markdown",
   "metadata": {},
   "source": [
    "The differential equation related to the black scholes model is : \n",
    "$\n",
    "    \\frac{\\delV}{a}\n",
    "$"
   ]
  },
  {
   "cell_type": "code",
   "execution_count": null,
   "metadata": {},
   "outputs": [],
   "source": [
    "S : Stock Price /  Spot price\n",
    "K : Strike Price\n",
    "r : interest rate\n",
    "sigma : implied volatility"
   ]
  },
  {
   "cell_type": "code",
   "execution_count": 1,
   "metadata": {},
   "outputs": [
    {
     "name": "stderr",
     "output_type": "stream",
     "text": [
      "/home/rhythm/anaconda3/lib/python3.7/site-packages/pandas/compat/_optional.py:138: UserWarning: Pandas requires version '2.7.0' or newer of 'numexpr' (version '2.6.9' currently installed).\n",
      "  warnings.warn(msg, UserWarning)\n"
     ]
    }
   ],
   "source": [
    "import pandas as pd\n",
    "df = pd.read_csv(\"/home/rhythm/Downloads/TSLA.csv\")\n",
    "df = df.sort_values(by=\"Date\")\n",
    "df = df.dropna()\n"
   ]
  },
  {
   "cell_type": "code",
   "execution_count": 2,
   "metadata": {},
   "outputs": [
    {
     "data": {
      "text/html": [
       "<div>\n",
       "<style scoped>\n",
       "    .dataframe tbody tr th:only-of-type {\n",
       "        vertical-align: middle;\n",
       "    }\n",
       "\n",
       "    .dataframe tbody tr th {\n",
       "        vertical-align: top;\n",
       "    }\n",
       "\n",
       "    .dataframe thead th {\n",
       "        text-align: right;\n",
       "    }\n",
       "</style>\n",
       "<table border=\"1\" class=\"dataframe\">\n",
       "  <thead>\n",
       "    <tr style=\"text-align: right;\">\n",
       "      <th></th>\n",
       "      <th>Date</th>\n",
       "      <th>Open</th>\n",
       "      <th>High</th>\n",
       "      <th>Low</th>\n",
       "      <th>Close</th>\n",
       "      <th>Adj Close</th>\n",
       "      <th>Volume</th>\n",
       "    </tr>\n",
       "  </thead>\n",
       "  <tbody>\n",
       "    <tr>\n",
       "      <th>0</th>\n",
       "      <td>2023-03-29</td>\n",
       "      <td>193.130005</td>\n",
       "      <td>195.289993</td>\n",
       "      <td>189.440002</td>\n",
       "      <td>193.880005</td>\n",
       "      <td>193.880005</td>\n",
       "      <td>123660000</td>\n",
       "    </tr>\n",
       "    <tr>\n",
       "      <th>1</th>\n",
       "      <td>2023-03-30</td>\n",
       "      <td>195.580002</td>\n",
       "      <td>197.330002</td>\n",
       "      <td>194.419998</td>\n",
       "      <td>195.279999</td>\n",
       "      <td>195.279999</td>\n",
       "      <td>110252200</td>\n",
       "    </tr>\n",
       "    <tr>\n",
       "      <th>2</th>\n",
       "      <td>2023-03-31</td>\n",
       "      <td>197.529999</td>\n",
       "      <td>207.789993</td>\n",
       "      <td>197.199997</td>\n",
       "      <td>207.460007</td>\n",
       "      <td>207.460007</td>\n",
       "      <td>170222100</td>\n",
       "    </tr>\n",
       "    <tr>\n",
       "      <th>3</th>\n",
       "      <td>2023-04-03</td>\n",
       "      <td>199.910004</td>\n",
       "      <td>202.690002</td>\n",
       "      <td>192.199997</td>\n",
       "      <td>194.770004</td>\n",
       "      <td>194.770004</td>\n",
       "      <td>169545900</td>\n",
       "    </tr>\n",
       "    <tr>\n",
       "      <th>4</th>\n",
       "      <td>2023-04-04</td>\n",
       "      <td>197.320007</td>\n",
       "      <td>198.740005</td>\n",
       "      <td>190.320007</td>\n",
       "      <td>192.580002</td>\n",
       "      <td>192.580002</td>\n",
       "      <td>126463800</td>\n",
       "    </tr>\n",
       "  </tbody>\n",
       "</table>\n",
       "</div>"
      ],
      "text/plain": [
       "         Date        Open        High         Low       Close   Adj Close  \\\n",
       "0  2023-03-29  193.130005  195.289993  189.440002  193.880005  193.880005   \n",
       "1  2023-03-30  195.580002  197.330002  194.419998  195.279999  195.279999   \n",
       "2  2023-03-31  197.529999  207.789993  197.199997  207.460007  207.460007   \n",
       "3  2023-04-03  199.910004  202.690002  192.199997  194.770004  194.770004   \n",
       "4  2023-04-04  197.320007  198.740005  190.320007  192.580002  192.580002   \n",
       "\n",
       "      Volume  \n",
       "0  123660000  \n",
       "1  110252200  \n",
       "2  170222100  \n",
       "3  169545900  \n",
       "4  126463800  "
      ]
     },
     "execution_count": 2,
     "metadata": {},
     "output_type": "execute_result"
    }
   ],
   "source": [
    "df.head()"
   ]
  },
  {
   "cell_type": "code",
   "execution_count": 3,
   "metadata": {},
   "outputs": [],
   "source": [
    "# calculate returns\n",
    "df = df.assign(close_day_before=df.Close.shift(1))"
   ]
  },
  {
   "cell_type": "code",
   "execution_count": 4,
   "metadata": {},
   "outputs": [],
   "source": [
    "df['returns'] = ((df.Close - df.close_day_before)/df.close_day_before)\n",
    "\n"
   ]
  },
  {
   "cell_type": "code",
   "execution_count": 5,
   "metadata": {},
   "outputs": [
    {
     "data": {
      "text/html": [
       "<div>\n",
       "<style scoped>\n",
       "    .dataframe tbody tr th:only-of-type {\n",
       "        vertical-align: middle;\n",
       "    }\n",
       "\n",
       "    .dataframe tbody tr th {\n",
       "        vertical-align: top;\n",
       "    }\n",
       "\n",
       "    .dataframe thead th {\n",
       "        text-align: right;\n",
       "    }\n",
       "</style>\n",
       "<table border=\"1\" class=\"dataframe\">\n",
       "  <thead>\n",
       "    <tr style=\"text-align: right;\">\n",
       "      <th></th>\n",
       "      <th>Date</th>\n",
       "      <th>Open</th>\n",
       "      <th>High</th>\n",
       "      <th>Low</th>\n",
       "      <th>Close</th>\n",
       "      <th>Adj Close</th>\n",
       "      <th>Volume</th>\n",
       "      <th>close_day_before</th>\n",
       "      <th>returns</th>\n",
       "    </tr>\n",
       "  </thead>\n",
       "  <tbody>\n",
       "    <tr>\n",
       "      <th>0</th>\n",
       "      <td>2023-03-29</td>\n",
       "      <td>193.130005</td>\n",
       "      <td>195.289993</td>\n",
       "      <td>189.440002</td>\n",
       "      <td>193.880005</td>\n",
       "      <td>193.880005</td>\n",
       "      <td>123660000</td>\n",
       "      <td>NaN</td>\n",
       "      <td>NaN</td>\n",
       "    </tr>\n",
       "    <tr>\n",
       "      <th>1</th>\n",
       "      <td>2023-03-30</td>\n",
       "      <td>195.580002</td>\n",
       "      <td>197.330002</td>\n",
       "      <td>194.419998</td>\n",
       "      <td>195.279999</td>\n",
       "      <td>195.279999</td>\n",
       "      <td>110252200</td>\n",
       "      <td>193.880005</td>\n",
       "      <td>0.007221</td>\n",
       "    </tr>\n",
       "    <tr>\n",
       "      <th>2</th>\n",
       "      <td>2023-03-31</td>\n",
       "      <td>197.529999</td>\n",
       "      <td>207.789993</td>\n",
       "      <td>197.199997</td>\n",
       "      <td>207.460007</td>\n",
       "      <td>207.460007</td>\n",
       "      <td>170222100</td>\n",
       "      <td>195.279999</td>\n",
       "      <td>0.062372</td>\n",
       "    </tr>\n",
       "    <tr>\n",
       "      <th>3</th>\n",
       "      <td>2023-04-03</td>\n",
       "      <td>199.910004</td>\n",
       "      <td>202.690002</td>\n",
       "      <td>192.199997</td>\n",
       "      <td>194.770004</td>\n",
       "      <td>194.770004</td>\n",
       "      <td>169545900</td>\n",
       "      <td>207.460007</td>\n",
       "      <td>-0.061168</td>\n",
       "    </tr>\n",
       "    <tr>\n",
       "      <th>4</th>\n",
       "      <td>2023-04-04</td>\n",
       "      <td>197.320007</td>\n",
       "      <td>198.740005</td>\n",
       "      <td>190.320007</td>\n",
       "      <td>192.580002</td>\n",
       "      <td>192.580002</td>\n",
       "      <td>126463800</td>\n",
       "      <td>194.770004</td>\n",
       "      <td>-0.011244</td>\n",
       "    </tr>\n",
       "  </tbody>\n",
       "</table>\n",
       "</div>"
      ],
      "text/plain": [
       "         Date        Open        High         Low       Close   Adj Close  \\\n",
       "0  2023-03-29  193.130005  195.289993  189.440002  193.880005  193.880005   \n",
       "1  2023-03-30  195.580002  197.330002  194.419998  195.279999  195.279999   \n",
       "2  2023-03-31  197.529999  207.789993  197.199997  207.460007  207.460007   \n",
       "3  2023-04-03  199.910004  202.690002  192.199997  194.770004  194.770004   \n",
       "4  2023-04-04  197.320007  198.740005  190.320007  192.580002  192.580002   \n",
       "\n",
       "      Volume  close_day_before   returns  \n",
       "0  123660000               NaN       NaN  \n",
       "1  110252200        193.880005  0.007221  \n",
       "2  170222100        195.279999  0.062372  \n",
       "3  169545900        207.460007 -0.061168  \n",
       "4  126463800        194.770004 -0.011244  "
      ]
     },
     "execution_count": 5,
     "metadata": {},
     "output_type": "execute_result"
    }
   ],
   "source": [
    "df.head()"
   ]
  },
  {
   "cell_type": "code",
   "execution_count": null,
   "metadata": {},
   "outputs": [],
   "source": []
  },
  {
   "cell_type": "code",
   "execution_count": 13,
   "metadata": {},
   "outputs": [
    {
     "name": "stdout",
     "output_type": "stream",
     "text": [
      "Requirement already satisfied: beautifulsoup4 in /home/rhythm/anaconda3/lib/python3.7/site-packages (4.7.1)\n",
      "Requirement already satisfied: soupsieve>=1.2 in /home/rhythm/anaconda3/lib/python3.7/site-packages (from beautifulsoup4) (1.8)\n",
      "\n",
      "\u001b[1m[\u001b[0m\u001b[34;49mnotice\u001b[0m\u001b[1;39;49m]\u001b[0m\u001b[39;49m A new release of pip is available: \u001b[0m\u001b[31;49m23.3.2\u001b[0m\u001b[39;49m -> \u001b[0m\u001b[32;49m24.0\u001b[0m\n",
      "\u001b[1m[\u001b[0m\u001b[34;49mnotice\u001b[0m\u001b[1;39;49m]\u001b[0m\u001b[39;49m To update, run: \u001b[0m\u001b[32;49mpip install --upgrade pip\u001b[0m\n",
      "Note: you may need to restart the kernel to use updated packages.\n"
     ]
    }
   ],
   "source": [
    "pip install beautifulsoup4\n"
   ]
  },
  {
   "cell_type": "code",
   "execution_count": 14,
   "metadata": {},
   "outputs": [],
   "source": [
    "from bs4 import BeautifulSoup\n",
    "import requests\n",
    "import pandas as pd\n"
   ]
  },
  {
   "cell_type": "code",
   "execution_count": 15,
   "metadata": {},
   "outputs": [],
   "source": [
    "url = \"https://finance.yahoo.com/quote/TSLA/options\"\n",
    "response = requests.get(url)\n"
   ]
  },
  {
   "cell_type": "code",
   "execution_count": 16,
   "metadata": {},
   "outputs": [],
   "source": [
    "soup = BeautifulSoup(response.text, 'html.parser')\n"
   ]
  },
  {
   "cell_type": "code",
   "execution_count": 17,
   "metadata": {},
   "outputs": [],
   "source": [
    "table = soup.find('table', class_='calls')\n"
   ]
  },
  {
   "cell_type": "code",
   "execution_count": 26,
   "metadata": {},
   "outputs": [
    {
     "name": "stdout",
     "output_type": "stream",
     "text": [
      "Requirement already satisfied: requests in /home/rhythm/anaconda3/lib/python3.7/site-packages (2.28.1)\n",
      "Requirement already satisfied: charset-normalizer<3,>=2 in /home/rhythm/anaconda3/lib/python3.7/site-packages (from requests) (2.1.1)\n",
      "Requirement already satisfied: idna<4,>=2.5 in /home/rhythm/anaconda3/lib/python3.7/site-packages (from requests) (2.8)\n",
      "Requirement already satisfied: urllib3<1.27,>=1.21.1 in /home/rhythm/anaconda3/lib/python3.7/site-packages (from requests) (1.26.12)\n",
      "Requirement already satisfied: certifi>=2017.4.17 in /home/rhythm/anaconda3/lib/python3.7/site-packages (from requests) (2020.6.20)\n",
      "\n",
      "\u001b[1m[\u001b[0m\u001b[34;49mnotice\u001b[0m\u001b[1;39;49m]\u001b[0m\u001b[39;49m A new release of pip is available: \u001b[0m\u001b[31;49m23.3.2\u001b[0m\u001b[39;49m -> \u001b[0m\u001b[32;49m24.0\u001b[0m\n",
      "\u001b[1m[\u001b[0m\u001b[34;49mnotice\u001b[0m\u001b[1;39;49m]\u001b[0m\u001b[39;49m To update, run: \u001b[0m\u001b[32;49mpip install --upgrade pip\u001b[0m\n",
      "Note: you may need to restart the kernel to use updated packages.\n"
     ]
    }
   ],
   "source": [
    "pip install requests\n"
   ]
  },
  {
   "cell_type": "code",
   "execution_count": 29,
   "metadata": {},
   "outputs": [],
   "source": [
    "import requests\n",
    "\n",
    "url = 'https://finance.yahoo.com/quote/TSLA/options'"
   ]
  },
  {
   "cell_type": "code",
   "execution_count": 32,
   "metadata": {},
   "outputs": [],
   "source": [
    "response = requests.get(url)\n",
    "\n"
   ]
  },
  {
   "cell_type": "code",
   "execution_count": 37,
   "metadata": {},
   "outputs": [
    {
     "name": "stdout",
     "output_type": "stream",
     "text": [
      "404\n"
     ]
    }
   ],
   "source": [
    "print(response.status_code)\n"
   ]
  },
  {
   "cell_type": "code",
   "execution_count": 35,
   "metadata": {},
   "outputs": [
    {
     "ename": "SyntaxError",
     "evalue": "unexpected EOF while parsing (<ipython-input-35-e9e037596af3>, line 6)",
     "output_type": "error",
     "traceback": [
      "\u001b[0;36m  File \u001b[0;32m\"<ipython-input-35-e9e037596af3>\"\u001b[0;36m, line \u001b[0;32m6\u001b[0m\n\u001b[0;31m    #    print(\"Response content:\", response.text)\u001b[0m\n\u001b[0m                                                  ^\u001b[0m\n\u001b[0;31mSyntaxError\u001b[0m\u001b[0;31m:\u001b[0m unexpected EOF while parsing\n"
     ]
    }
   ],
   "source": [
    "import json\n",
    "try:\n",
    "    data = response.json()\n",
    "#except json.decoder.JSONDecodeError as e:\n",
    "#    print(\"Error decoding JSON:\", e)\n",
    "#    print(\"Response content:\", response.text)\n"
   ]
  },
  {
   "attachments": {},
   "cell_type": "markdown",
   "metadata": {},
   "source": [
    "the black-scholes modes can estimate the value of \"s\".  which takes in S :spot price at the moment, for call one can compare the \"ask\". This would also depend on the volume. [if it has been traded or not]"
   ]
  },
  {
   "attachments": {},
   "cell_type": "markdown",
   "metadata": {},
   "source": [
    "# Notes"
   ]
  },
  {
   "attachments": {},
   "cell_type": "markdown",
   "metadata": {},
   "source": [
    "## RNN"
   ]
  },
  {
   "attachments": {},
   "cell_type": "markdown",
   "metadata": {},
   "source": [
    "RNN are not feed forward neural network. recognize patterns in sequences of data, such as time series or text. \n",
    "Found this link that builds up basic lstm model: https://colab.research.google.com/drive/1CBIdPxHn_W2ARx4VozRLIptBrXk7ZBoM?usp=sharing#scrollTo=1jgb1aJ3lxlQ  / https://www.youtube.com/watch?v=q_HS4s1L8UI"
   ]
  },
  {
   "attachments": {},
   "cell_type": "markdown",
   "metadata": {},
   "source": [
    "## Black scholes model"
   ]
  },
  {
   "attachments": {},
   "cell_type": "markdown",
   "metadata": {},
   "source": [
    "We have black scholes model that can help us predict the call or put options' price. \n",
    "The black scholes model is governed by the differential equation :  "
   ]
  },
  {
   "attachments": {},
   "cell_type": "markdown",
   "metadata": {},
   "source": [
    "$\\begin{equation}\n",
    "    \\frac{\\partial C}{\\partial t} + \\frac{1}{2}\\sigma^2 S^2 \\frac{\\partial^2 C}{\\partial S^2} + rS \\frac{\\partial C}{\\partial S} - rC = 0\n",
    "\\end{equation}    $\n"
   ]
  },
  {
   "attachments": {},
   "cell_type": "markdown",
   "metadata": {},
   "source": [
    "where C is the call option price, \n",
    "<br> S : Stock price, \n",
    "<br> t : at time 't'\n",
    "<br> r : risk free interest\n",
    "<br> C : \n",
    "<br> $\\sigma$ : volatility\n",
    "<br> C(T,s) : K(s)"
   ]
  },
  {
   "attachments": {},
   "cell_type": "markdown",
   "metadata": {},
   "source": [
    "we could also use the black scoles model equation too or it can be solved to \n"
   ]
  },
  {
   "attachments": {},
   "cell_type": "markdown",
   "metadata": {},
   "source": [
    "$\\begin{equation}\n",
    "    C = S_0 N(d_1)- K e^{-rT} N(d_2)\n",
    "\\end{equation}    $\n"
   ]
  },
  {
   "attachments": {},
   "cell_type": "markdown",
   "metadata": {},
   "source": [
    "where $N(d_1)$ is the cumulative distribution and, is equal to \n"
   ]
  },
  {
   "attachments": {},
   "cell_type": "markdown",
   "metadata": {},
   "source": [
    "$ \\begin{equation}\n",
    "    d_1 = \\frac{\\ln\\left(\\frac{S_0}{K}\\right) + \\left(r + \\frac{\\sigma^2}{2}\\right)T}{\\sigma \\sqrt{T}}\n",
    "\\end{equation}\n",
    "$"
   ]
  },
  {
   "attachments": {},
   "cell_type": "markdown",
   "metadata": {},
   "source": [
    "$ \\begin{equation}\n",
    "    d_2 = d_1 - \\sigma \\sqrt{T}\n",
    "\\end{equation}\n",
    "$"
   ]
  },
  {
   "attachments": {},
   "cell_type": "markdown",
   "metadata": {},
   "source": [
    "$K$ is the strike price , \n",
    "$T$ is the time to maturity, $S_0$ is the stock price"
   ]
  },
  {
   "attachments": {},
   "cell_type": "markdown",
   "metadata": {},
   "source": [
    "he equation takes into account various factors, such as the current stock price, the option's strike price, the time until expiration, the risk-free interest rate, and the stock's volatility. By plugging in these variables, the equation calculates the theoretical price of the option, which represents the fair value of the option in a perfectly efficient market.\n",
    "\n",
    "\""
   ]
  },
  {
   "attachments": {},
   "cell_type": "markdown",
   "metadata": {},
   "source": [
    "We will use this to constrain the loss from PINN\n",
    "<br>and, also use features to learn from neural network"
   ]
  },
  {
   "attachments": {},
   "cell_type": "markdown",
   "metadata": {},
   "source": [
    "using yfinance"
   ]
  },
  {
   "cell_type": "code",
   "execution_count": null,
   "metadata": {},
   "outputs": [],
   "source": [
    "pip install yfinance\n"
   ]
  },
  {
   "attachments": {},
   "cell_type": "markdown",
   "metadata": {},
   "source": []
  },
  {
   "cell_type": "code",
   "execution_count": 1,
   "metadata": {},
   "outputs": [
    {
     "name": "stderr",
     "output_type": "stream",
     "text": [
      "/home/rhythm/anaconda3/lib/python3.7/site-packages/pandas/compat/_optional.py:138: UserWarning: Pandas requires version '2.7.0' or newer of 'numexpr' (version '2.6.9' currently installed).\n",
      "  warnings.warn(msg, UserWarning)\n"
     ]
    }
   ],
   "source": [
    "import yfinance as yf\n",
    "\n",
    "# Define the ticker symbol of the stock you're interested in\n",
    "ticker_symbol = 'NVDA'\n",
    "\n",
    "# Fetch historical stock data\n"
   ]
  },
  {
   "cell_type": "code",
   "execution_count": 2,
   "metadata": {},
   "outputs": [
    {
     "name": "stderr",
     "output_type": "stream",
     "text": [
      "[*********************100%%**********************]  1 of 1 completed\n"
     ]
    }
   ],
   "source": [
    "stock_data = yf.download(ticker_symbol, start='2023-01-01', end='2024-04-05')\n",
    "\n"
   ]
  },
  {
   "cell_type": "code",
   "execution_count": 5,
   "metadata": {},
   "outputs": [
    {
     "name": "stdout",
     "output_type": "stream",
     "text": [
      "Historical Stock Data:\n"
     ]
    },
    {
     "data": {
      "text/html": [
       "<div>\n",
       "<style scoped>\n",
       "    .dataframe tbody tr th:only-of-type {\n",
       "        vertical-align: middle;\n",
       "    }\n",
       "\n",
       "    .dataframe tbody tr th {\n",
       "        vertical-align: top;\n",
       "    }\n",
       "\n",
       "    .dataframe thead th {\n",
       "        text-align: right;\n",
       "    }\n",
       "</style>\n",
       "<table border=\"1\" class=\"dataframe\">\n",
       "  <thead>\n",
       "    <tr style=\"text-align: right;\">\n",
       "      <th></th>\n",
       "      <th>Open</th>\n",
       "      <th>High</th>\n",
       "      <th>Low</th>\n",
       "      <th>Close</th>\n",
       "      <th>Adj Close</th>\n",
       "      <th>Volume</th>\n",
       "    </tr>\n",
       "    <tr>\n",
       "      <th>Date</th>\n",
       "      <th></th>\n",
       "      <th></th>\n",
       "      <th></th>\n",
       "      <th></th>\n",
       "      <th></th>\n",
       "      <th></th>\n",
       "    </tr>\n",
       "  </thead>\n",
       "  <tbody>\n",
       "    <tr>\n",
       "      <th>2023-01-03</th>\n",
       "      <td>148.509995</td>\n",
       "      <td>149.960007</td>\n",
       "      <td>140.960007</td>\n",
       "      <td>143.149994</td>\n",
       "      <td>143.079773</td>\n",
       "      <td>40127700</td>\n",
       "    </tr>\n",
       "    <tr>\n",
       "      <th>2023-01-04</th>\n",
       "      <td>145.669998</td>\n",
       "      <td>148.529999</td>\n",
       "      <td>142.410004</td>\n",
       "      <td>147.490005</td>\n",
       "      <td>147.417679</td>\n",
       "      <td>43132400</td>\n",
       "    </tr>\n",
       "    <tr>\n",
       "      <th>2023-01-05</th>\n",
       "      <td>144.910004</td>\n",
       "      <td>145.639999</td>\n",
       "      <td>141.479996</td>\n",
       "      <td>142.649994</td>\n",
       "      <td>142.580048</td>\n",
       "      <td>38916800</td>\n",
       "    </tr>\n",
       "    <tr>\n",
       "      <th>2023-01-06</th>\n",
       "      <td>144.740005</td>\n",
       "      <td>150.100006</td>\n",
       "      <td>140.339996</td>\n",
       "      <td>148.589996</td>\n",
       "      <td>148.517120</td>\n",
       "      <td>40504400</td>\n",
       "    </tr>\n",
       "    <tr>\n",
       "      <th>2023-01-09</th>\n",
       "      <td>152.839996</td>\n",
       "      <td>160.559998</td>\n",
       "      <td>151.410004</td>\n",
       "      <td>156.279999</td>\n",
       "      <td>156.203354</td>\n",
       "      <td>50423100</td>\n",
       "    </tr>\n",
       "  </tbody>\n",
       "</table>\n",
       "</div>"
      ],
      "text/plain": [
       "                  Open        High         Low       Close   Adj Close  \\\n",
       "Date                                                                     \n",
       "2023-01-03  148.509995  149.960007  140.960007  143.149994  143.079773   \n",
       "2023-01-04  145.669998  148.529999  142.410004  147.490005  147.417679   \n",
       "2023-01-05  144.910004  145.639999  141.479996  142.649994  142.580048   \n",
       "2023-01-06  144.740005  150.100006  140.339996  148.589996  148.517120   \n",
       "2023-01-09  152.839996  160.559998  151.410004  156.279999  156.203354   \n",
       "\n",
       "              Volume  \n",
       "Date                  \n",
       "2023-01-03  40127700  \n",
       "2023-01-04  43132400  \n",
       "2023-01-05  38916800  \n",
       "2023-01-06  40504400  \n",
       "2023-01-09  50423100  "
      ]
     },
     "execution_count": 5,
     "metadata": {},
     "output_type": "execute_result"
    }
   ],
   "source": [
    "print(\"Historical Stock Data:\")\n",
    "#print(stock_data.head())\n",
    "# Convert historical stock data to DataFrame\n",
    "stock_df = pd.DataFrame(stock_data)\n",
    "stock_df.head()"
   ]
  },
  {
   "cell_type": "code",
   "execution_count": 10,
   "metadata": {},
   "outputs": [
    {
     "data": {
      "text/html": [
       "<div>\n",
       "<style scoped>\n",
       "    .dataframe tbody tr th:only-of-type {\n",
       "        vertical-align: middle;\n",
       "    }\n",
       "\n",
       "    .dataframe tbody tr th {\n",
       "        vertical-align: top;\n",
       "    }\n",
       "\n",
       "    .dataframe thead th {\n",
       "        text-align: right;\n",
       "    }\n",
       "</style>\n",
       "<table border=\"1\" class=\"dataframe\">\n",
       "  <thead>\n",
       "    <tr style=\"text-align: right;\">\n",
       "      <th></th>\n",
       "      <th>Open</th>\n",
       "      <th>High</th>\n",
       "      <th>Low</th>\n",
       "      <th>Close</th>\n",
       "      <th>Adj Close</th>\n",
       "      <th>Volume</th>\n",
       "    </tr>\n",
       "    <tr>\n",
       "      <th>Date</th>\n",
       "      <th></th>\n",
       "      <th></th>\n",
       "      <th></th>\n",
       "      <th></th>\n",
       "      <th></th>\n",
       "      <th></th>\n",
       "    </tr>\n",
       "  </thead>\n",
       "  <tbody>\n",
       "    <tr>\n",
       "      <th>2024-03-28</th>\n",
       "      <td>900.000000</td>\n",
       "      <td>913.000000</td>\n",
       "      <td>891.929993</td>\n",
       "      <td>903.559998</td>\n",
       "      <td>903.559998</td>\n",
       "      <td>43521200</td>\n",
       "    </tr>\n",
       "    <tr>\n",
       "      <th>2024-04-01</th>\n",
       "      <td>902.989990</td>\n",
       "      <td>922.250000</td>\n",
       "      <td>892.039978</td>\n",
       "      <td>903.630005</td>\n",
       "      <td>903.630005</td>\n",
       "      <td>45244100</td>\n",
       "    </tr>\n",
       "    <tr>\n",
       "      <th>2024-04-02</th>\n",
       "      <td>884.479980</td>\n",
       "      <td>900.940002</td>\n",
       "      <td>876.200012</td>\n",
       "      <td>894.520020</td>\n",
       "      <td>894.520020</td>\n",
       "      <td>43306400</td>\n",
       "    </tr>\n",
       "    <tr>\n",
       "      <th>2024-04-03</th>\n",
       "      <td>884.840027</td>\n",
       "      <td>903.739990</td>\n",
       "      <td>884.000000</td>\n",
       "      <td>889.640015</td>\n",
       "      <td>889.640015</td>\n",
       "      <td>37006700</td>\n",
       "    </tr>\n",
       "    <tr>\n",
       "      <th>2024-04-04</th>\n",
       "      <td>904.059998</td>\n",
       "      <td>906.340027</td>\n",
       "      <td>858.799988</td>\n",
       "      <td>859.049988</td>\n",
       "      <td>859.049988</td>\n",
       "      <td>43496500</td>\n",
       "    </tr>\n",
       "  </tbody>\n",
       "</table>\n",
       "</div>"
      ],
      "text/plain": [
       "                  Open        High         Low       Close   Adj Close  \\\n",
       "Date                                                                     \n",
       "2024-03-28  900.000000  913.000000  891.929993  903.559998  903.559998   \n",
       "2024-04-01  902.989990  922.250000  892.039978  903.630005  903.630005   \n",
       "2024-04-02  884.479980  900.940002  876.200012  894.520020  894.520020   \n",
       "2024-04-03  884.840027  903.739990  884.000000  889.640015  889.640015   \n",
       "2024-04-04  904.059998  906.340027  858.799988  859.049988  859.049988   \n",
       "\n",
       "              Volume  \n",
       "Date                  \n",
       "2024-03-28  43521200  \n",
       "2024-04-01  45244100  \n",
       "2024-04-02  43306400  \n",
       "2024-04-03  37006700  \n",
       "2024-04-04  43496500  "
      ]
     },
     "execution_count": 10,
     "metadata": {},
     "output_type": "execute_result"
    }
   ],
   "source": [
    "stock_df = stock_df.sort_values(by='Date')\n",
    "\n",
    "# Display the sorted DataFrame\n",
    "stock_df.tail()"
   ]
  },
  {
   "cell_type": "code",
   "execution_count": 52,
   "metadata": {},
   "outputs": [
    {
     "data": {
      "text/html": [
       "<div>\n",
       "<style scoped>\n",
       "    .dataframe tbody tr th:only-of-type {\n",
       "        vertical-align: middle;\n",
       "    }\n",
       "\n",
       "    .dataframe tbody tr th {\n",
       "        vertical-align: top;\n",
       "    }\n",
       "\n",
       "    .dataframe thead th {\n",
       "        text-align: right;\n",
       "    }\n",
       "</style>\n",
       "<table border=\"1\" class=\"dataframe\">\n",
       "  <thead>\n",
       "    <tr style=\"text-align: right;\">\n",
       "      <th></th>\n",
       "      <th>Date</th>\n",
       "      <th>Open</th>\n",
       "      <th>High</th>\n",
       "      <th>Low</th>\n",
       "      <th>Close</th>\n",
       "      <th>Adj Close</th>\n",
       "      <th>Volume</th>\n",
       "    </tr>\n",
       "  </thead>\n",
       "  <tbody>\n",
       "    <tr>\n",
       "      <th>0</th>\n",
       "      <td>2023-01-03</td>\n",
       "      <td>148.509995</td>\n",
       "      <td>149.960007</td>\n",
       "      <td>140.960007</td>\n",
       "      <td>143.149994</td>\n",
       "      <td>143.079773</td>\n",
       "      <td>40127700</td>\n",
       "    </tr>\n",
       "    <tr>\n",
       "      <th>1</th>\n",
       "      <td>2023-01-04</td>\n",
       "      <td>145.669998</td>\n",
       "      <td>148.529999</td>\n",
       "      <td>142.410004</td>\n",
       "      <td>147.490005</td>\n",
       "      <td>147.417679</td>\n",
       "      <td>43132400</td>\n",
       "    </tr>\n",
       "    <tr>\n",
       "      <th>2</th>\n",
       "      <td>2023-01-05</td>\n",
       "      <td>144.910004</td>\n",
       "      <td>145.639999</td>\n",
       "      <td>141.479996</td>\n",
       "      <td>142.649994</td>\n",
       "      <td>142.580048</td>\n",
       "      <td>38916800</td>\n",
       "    </tr>\n",
       "    <tr>\n",
       "      <th>3</th>\n",
       "      <td>2023-01-06</td>\n",
       "      <td>144.740005</td>\n",
       "      <td>150.100006</td>\n",
       "      <td>140.339996</td>\n",
       "      <td>148.589996</td>\n",
       "      <td>148.517120</td>\n",
       "      <td>40504400</td>\n",
       "    </tr>\n",
       "    <tr>\n",
       "      <th>4</th>\n",
       "      <td>2023-01-09</td>\n",
       "      <td>152.839996</td>\n",
       "      <td>160.559998</td>\n",
       "      <td>151.410004</td>\n",
       "      <td>156.279999</td>\n",
       "      <td>156.203369</td>\n",
       "      <td>50423100</td>\n",
       "    </tr>\n",
       "  </tbody>\n",
       "</table>\n",
       "</div>"
      ],
      "text/plain": [
       "        Date        Open        High         Low       Close   Adj Close  \\\n",
       "0 2023-01-03  148.509995  149.960007  140.960007  143.149994  143.079773   \n",
       "1 2023-01-04  145.669998  148.529999  142.410004  147.490005  147.417679   \n",
       "2 2023-01-05  144.910004  145.639999  141.479996  142.649994  142.580048   \n",
       "3 2023-01-06  144.740005  150.100006  140.339996  148.589996  148.517120   \n",
       "4 2023-01-09  152.839996  160.559998  151.410004  156.279999  156.203369   \n",
       "\n",
       "     Volume  \n",
       "0  40127700  \n",
       "1  43132400  \n",
       "2  38916800  \n",
       "3  40504400  \n",
       "4  50423100  "
      ]
     },
     "execution_count": 52,
     "metadata": {},
     "output_type": "execute_result"
    }
   ],
   "source": [
    "stock_df.reset_index(inplace=True)\n",
    "stock_df.head()\n"
   ]
  },
  {
   "cell_type": "code",
   "execution_count": 33,
   "metadata": {},
   "outputs": [
    {
     "name": "stdout",
     "output_type": "stream",
     "text": [
      "<class 'pandas.core.frame.DataFrame'>\n",
      "DatetimeIndex: 315 entries, 2023-01-03 to 2024-04-04\n",
      "Data columns (total 6 columns):\n",
      " #   Column     Non-Null Count  Dtype  \n",
      "---  ------     --------------  -----  \n",
      " 0   Open       315 non-null    float64\n",
      " 1   High       315 non-null    float64\n",
      " 2   Low        315 non-null    float64\n",
      " 3   Close      315 non-null    float64\n",
      " 4   Adj Close  315 non-null    float64\n",
      " 5   Volume     315 non-null    int64  \n",
      "dtypes: float64(5), int64(1)\n",
      "memory usage: 17.2 KB\n"
     ]
    }
   ],
   "source": [
    "#let us look at what the stock_data for nvda is showing \n",
    "stock_df.info()"
   ]
  },
  {
   "cell_type": "code",
   "execution_count": 34,
   "metadata": {},
   "outputs": [
    {
     "data": {
      "text/html": [
       "<div>\n",
       "<style scoped>\n",
       "    .dataframe tbody tr th:only-of-type {\n",
       "        vertical-align: middle;\n",
       "    }\n",
       "\n",
       "    .dataframe tbody tr th {\n",
       "        vertical-align: top;\n",
       "    }\n",
       "\n",
       "    .dataframe thead th {\n",
       "        text-align: right;\n",
       "    }\n",
       "</style>\n",
       "<table border=\"1\" class=\"dataframe\">\n",
       "  <thead>\n",
       "    <tr style=\"text-align: right;\">\n",
       "      <th></th>\n",
       "      <th>Open</th>\n",
       "      <th>High</th>\n",
       "      <th>Low</th>\n",
       "      <th>Close</th>\n",
       "      <th>Adj Close</th>\n",
       "      <th>Volume</th>\n",
       "    </tr>\n",
       "  </thead>\n",
       "  <tbody>\n",
       "    <tr>\n",
       "      <th>count</th>\n",
       "      <td>315.000000</td>\n",
       "      <td>315.000000</td>\n",
       "      <td>315.000000</td>\n",
       "      <td>315.000000</td>\n",
       "      <td>315.000000</td>\n",
       "      <td>3.150000e+02</td>\n",
       "    </tr>\n",
       "    <tr>\n",
       "      <th>mean</th>\n",
       "      <td>441.159714</td>\n",
       "      <td>448.827936</td>\n",
       "      <td>433.644697</td>\n",
       "      <td>441.850857</td>\n",
       "      <td>441.782295</td>\n",
       "      <td>4.856292e+07</td>\n",
       "    </tr>\n",
       "    <tr>\n",
       "      <th>std</th>\n",
       "      <td>189.900611</td>\n",
       "      <td>193.201279</td>\n",
       "      <td>185.600201</td>\n",
       "      <td>189.285360</td>\n",
       "      <td>189.310871</td>\n",
       "      <td>1.598912e+07</td>\n",
       "    </tr>\n",
       "    <tr>\n",
       "      <th>min</th>\n",
       "      <td>144.740005</td>\n",
       "      <td>145.639999</td>\n",
       "      <td>140.339996</td>\n",
       "      <td>142.649994</td>\n",
       "      <td>142.580048</td>\n",
       "      <td>1.982090e+07</td>\n",
       "    </tr>\n",
       "    <tr>\n",
       "      <th>25%</th>\n",
       "      <td>276.610001</td>\n",
       "      <td>280.000000</td>\n",
       "      <td>272.735001</td>\n",
       "      <td>277.629990</td>\n",
       "      <td>277.540970</td>\n",
       "      <td>3.883590e+07</td>\n",
       "    </tr>\n",
       "    <tr>\n",
       "      <th>50%</th>\n",
       "      <td>438.269989</td>\n",
       "      <td>441.440002</td>\n",
       "      <td>430.010010</td>\n",
       "      <td>437.529999</td>\n",
       "      <td>437.434998</td>\n",
       "      <td>4.511530e+07</td>\n",
       "    </tr>\n",
       "    <tr>\n",
       "      <th>75%</th>\n",
       "      <td>490.059998</td>\n",
       "      <td>495.360001</td>\n",
       "      <td>481.310013</td>\n",
       "      <td>488.069992</td>\n",
       "      <td>488.005554</td>\n",
       "      <td>5.415520e+07</td>\n",
       "    </tr>\n",
       "    <tr>\n",
       "      <th>max</th>\n",
       "      <td>958.510010</td>\n",
       "      <td>974.000000</td>\n",
       "      <td>935.099976</td>\n",
       "      <td>950.020020</td>\n",
       "      <td>950.020020</td>\n",
       "      <td>1.543911e+08</td>\n",
       "    </tr>\n",
       "  </tbody>\n",
       "</table>\n",
       "</div>"
      ],
      "text/plain": [
       "             Open        High         Low       Close   Adj Close  \\\n",
       "count  315.000000  315.000000  315.000000  315.000000  315.000000   \n",
       "mean   441.159714  448.827936  433.644697  441.850857  441.782295   \n",
       "std    189.900611  193.201279  185.600201  189.285360  189.310871   \n",
       "min    144.740005  145.639999  140.339996  142.649994  142.580048   \n",
       "25%    276.610001  280.000000  272.735001  277.629990  277.540970   \n",
       "50%    438.269989  441.440002  430.010010  437.529999  437.434998   \n",
       "75%    490.059998  495.360001  481.310013  488.069992  488.005554   \n",
       "max    958.510010  974.000000  935.099976  950.020020  950.020020   \n",
       "\n",
       "             Volume  \n",
       "count  3.150000e+02  \n",
       "mean   4.856292e+07  \n",
       "std    1.598912e+07  \n",
       "min    1.982090e+07  \n",
       "25%    3.883590e+07  \n",
       "50%    4.511530e+07  \n",
       "75%    5.415520e+07  \n",
       "max    1.543911e+08  "
      ]
     },
     "execution_count": 34,
     "metadata": {},
     "output_type": "execute_result"
    }
   ],
   "source": [
    "stock_df.describe()"
   ]
  },
  {
   "cell_type": "code",
   "execution_count": 35,
   "metadata": {},
   "outputs": [
    {
     "data": {
      "text/plain": [
       "Open         0\n",
       "High         0\n",
       "Low          0\n",
       "Close        0\n",
       "Adj Close    0\n",
       "Volume       0\n",
       "dtype: int64"
      ]
     },
     "execution_count": 35,
     "metadata": {},
     "output_type": "execute_result"
    }
   ],
   "source": [
    "#check for duplicated \n",
    "stock_df.duplicated().sum()\n",
    "stock_df.isna().sum()"
   ]
  },
  {
   "cell_type": "code",
   "execution_count": 36,
   "metadata": {},
   "outputs": [
    {
     "name": "stderr",
     "output_type": "stream",
     "text": [
      "/home/rhythm/anaconda3/lib/python3.7/site-packages/matplotlib/cbook/__init__.py:1377: FutureWarning: Support for multi-dimensional indexing (e.g. `obj[:, None]`) is deprecated and will be removed in a future version.  Convert to a numpy array before indexing instead.\n",
      "  x[:, None]\n",
      "/home/rhythm/anaconda3/lib/python3.7/site-packages/matplotlib/cbook/__init__.py:1377: FutureWarning: Support for multi-dimensional indexing (e.g. `obj[:, None]`) is deprecated and will be removed in a future version.  Convert to a numpy array before indexing instead.\n",
      "  x[:, None]\n",
      "/home/rhythm/anaconda3/lib/python3.7/site-packages/matplotlib/axes/_base.py:237: FutureWarning: Support for multi-dimensional indexing (e.g. `obj[:, None]`) is deprecated and will be removed in a future version.  Convert to a numpy array before indexing instead.\n",
      "  x = x[:, np.newaxis]\n",
      "/home/rhythm/anaconda3/lib/python3.7/site-packages/matplotlib/axes/_base.py:239: FutureWarning: Support for multi-dimensional indexing (e.g. `obj[:, None]`) is deprecated and will be removed in a future version.  Convert to a numpy array before indexing instead.\n",
      "  y = y[:, np.newaxis]\n",
      "/home/rhythm/anaconda3/lib/python3.7/site-packages/matplotlib/cbook/__init__.py:1377: FutureWarning: Support for multi-dimensional indexing (e.g. `obj[:, None]`) is deprecated and will be removed in a future version.  Convert to a numpy array before indexing instead.\n",
      "  x[:, None]\n",
      "/home/rhythm/anaconda3/lib/python3.7/site-packages/matplotlib/axes/_base.py:237: FutureWarning: Support for multi-dimensional indexing (e.g. `obj[:, None]`) is deprecated and will be removed in a future version.  Convert to a numpy array before indexing instead.\n",
      "  x = x[:, np.newaxis]\n",
      "/home/rhythm/anaconda3/lib/python3.7/site-packages/matplotlib/axes/_base.py:239: FutureWarning: Support for multi-dimensional indexing (e.g. `obj[:, None]`) is deprecated and will be removed in a future version.  Convert to a numpy array before indexing instead.\n",
      "  y = y[:, np.newaxis]\n"
     ]
    },
    {
     "data": {
      "image/png": "[encoded data removed]",
      "text/plain": [
       "<Figure size 720x432 with 1 Axes>"
      ]
     },
     "metadata": {
      "needs_background": "light"
     },
     "output_type": "display_data"
    }
   ],
   "source": [
    "import matplotlib.pyplot as plt\n",
    "\n",
    "# Plotting the time series of closing prices\n",
    "plt.figure(figsize=(10, 6))\n",
    "plt.plot(stock_df.index, stock_df['Close'], color='blue', marker='o', linestyle='-')\n",
    "plt.plot(stock_df.index, stock_df['Open'], color='green', marker='o', linestyle='-')\n",
    "\n",
    "# Adding title and labels\n",
    "plt.title('Time Series of Closing Prices')\n",
    "plt.xlabel('Date')\n",
    "plt.ylabel('Closing Price')\n",
    "\n",
    "# Displaying the plot\n",
    "plt.grid(True)\n",
    "plt.show()\n"
   ]
  },
  {
   "cell_type": "code",
   "execution_count": null,
   "metadata": {},
   "outputs": [],
   "source": []
  },
  {
   "cell_type": "code",
   "execution_count": 37,
   "metadata": {},
   "outputs": [
    {
     "data": {
      "image/png": "[encoded data removed]",
      "text/plain": [
       "<Figure size 576x576 with 2 Axes>"
      ]
     },
     "metadata": {
      "needs_background": "light"
     },
     "output_type": "display_data"
    }
   ],
   "source": [
    "# Create a heatmap of the correlation between stock prices\n",
    "corr = stock_df[['Open', 'High', 'Low', 'Close']].corr()\n",
    "plt.figure(figsize=(8,8))\n",
    "sns.heatmap(corr, annot=True, cmap='BrBG')\n",
    "plt.title('Correlation Between Stock Prices')\n",
    "plt.show()"
   ]
  },
  {
   "cell_type": "code",
   "execution_count": 38,
   "metadata": {},
   "outputs": [
    {
     "data": {
      "image/png": "[encoded data removed]",
      "text/plain": [
       "<Figure size 720x432 with 1 Axes>"
      ]
     },
     "metadata": {
      "needs_background": "light"
     },
     "output_type": "display_data"
    }
   ],
   "source": [
    "\n",
    "# Line chart of closing stock price for a specific company over time\n",
    "\n",
    "plt.figure(figsize=(10, 6))\n",
    "sns.lineplot(x='Date', y='Close', data=stock_df)\n",
    "plt.title(f'Closing Stock Price of NVDA Over Time')\n",
    "plt.xlabel('Date')\n",
    "plt.ylabel('Closing Stock Price')\n",
    "plt.show()"
   ]
  },
  {
   "cell_type": "code",
   "execution_count": 39,
   "metadata": {},
   "outputs": [
    {
     "name": "stderr",
     "output_type": "stream",
     "text": [
      "/home/rhythm/anaconda3/lib/python3.7/site-packages/matplotlib/cbook/__init__.py:1377: FutureWarning: Support for multi-dimensional indexing (e.g. `obj[:, None]`) is deprecated and will be removed in a future version.  Convert to a numpy array before indexing instead.\n",
      "  x[:, None]\n",
      "/home/rhythm/anaconda3/lib/python3.7/site-packages/matplotlib/axes/_base.py:237: FutureWarning: Support for multi-dimensional indexing (e.g. `obj[:, None]`) is deprecated and will be removed in a future version.  Convert to a numpy array before indexing instead.\n",
      "  x = x[:, np.newaxis]\n",
      "/home/rhythm/anaconda3/lib/python3.7/site-packages/matplotlib/axes/_base.py:239: FutureWarning: Support for multi-dimensional indexing (e.g. `obj[:, None]`) is deprecated and will be removed in a future version.  Convert to a numpy array before indexing instead.\n",
      "  y = y[:, np.newaxis]\n",
      "/home/rhythm/anaconda3/lib/python3.7/site-packages/matplotlib/cbook/__init__.py:1377: FutureWarning: Support for multi-dimensional indexing (e.g. `obj[:, None]`) is deprecated and will be removed in a future version.  Convert to a numpy array before indexing instead.\n",
      "  x[:, None]\n",
      "/home/rhythm/anaconda3/lib/python3.7/site-packages/matplotlib/axes/_base.py:237: FutureWarning: Support for multi-dimensional indexing (e.g. `obj[:, None]`) is deprecated and will be removed in a future version.  Convert to a numpy array before indexing instead.\n",
      "  x = x[:, np.newaxis]\n",
      "/home/rhythm/anaconda3/lib/python3.7/site-packages/matplotlib/axes/_base.py:239: FutureWarning: Support for multi-dimensional indexing (e.g. `obj[:, None]`) is deprecated and will be removed in a future version.  Convert to a numpy array before indexing instead.\n",
      "  y = y[:, np.newaxis]\n"
     ]
    },
    {
     "data": {
      "image/png": "[encoded data removed]",
      "text/plain": [
       "<Figure size 720x432 with 1 Axes>"
      ]
     },
     "metadata": {
      "needs_background": "light"
     },
     "output_type": "display_data"
    }
   ],
   "source": [
    "plt.figure(figsize=(10, 6))\n",
    "sns.histplot(stock_df['Close'], kde=True, bins = 20, label = 'Close')\n",
    "sns.histplot(stock_df['High'], kde=True, bins = 20, color= 'orange', label = 'High')\n",
    "\n",
    "plt.title('Distribution of Closing Stock Price and High' )\n",
    "plt.xlabel('Closing Stock Price')\n",
    "plt.ylabel('Frequency')\n",
    "plt.legend()\n",
    "plt.show()"
   ]
  },
  {
   "cell_type": "code",
   "execution_count": 6,
   "metadata": {},
   "outputs": [],
   "source": [
    "# Fetch options data\n",
    "options_data = yf.Ticker(ticker_symbol).options\n"
   ]
  },
  {
   "cell_type": "code",
   "execution_count": 8,
   "metadata": {},
   "outputs": [
    {
     "name": "stdout",
     "output_type": "stream",
     "text": [
      "\n",
      "Options Expiration Dates:\n",
      "('2024-04-12', '2024-04-19', '2024-04-26', '2024-05-03', '2024-05-10', '2024-05-17', '2024-05-24', '2024-06-21', '2024-07-19', '2024-08-16', '2024-09-20', '2024-10-18', '2024-11-15', '2024-12-20', '2025-01-17', '2025-02-21', '2025-03-21', '2025-06-20', '2025-12-19', '2026-01-16', '2026-06-18', '2026-12-18')\n"
     ]
    }
   ],
   "source": [
    "# Print the available options expiration dates\n",
    "print(\"\\nOptions Expiration Dates:\")\n",
    "print(options_data)"
   ]
  },
  {
   "cell_type": "code",
   "execution_count": 7,
   "metadata": {},
   "outputs": [
    {
     "name": "stdout",
     "output_type": "stream",
     "text": [
      "2024-06-21\n"
     ]
    }
   ],
   "source": [
    "# Fetch options chain for a specific expiration date\n",
    "expiration_date = options_data[7]\n",
    "print(expiration_date) \n",
    "options_chain = yf.Ticker(ticker_symbol).option_chain(expiration_date)\n"
   ]
  },
  {
   "cell_type": "code",
   "execution_count": 8,
   "metadata": {},
   "outputs": [],
   "source": [
    "# Convert options chain data to DataFrames\n",
    "calls_df = pd.DataFrame(options_chain.calls)\n",
    "puts_df = pd.DataFrame(options_chain.puts)\n"
   ]
  },
  {
   "cell_type": "code",
   "execution_count": 11,
   "metadata": {},
   "outputs": [
    {
     "data": {
      "text/html": [
       "<div>\n",
       "<style scoped>\n",
       "    .dataframe tbody tr th:only-of-type {\n",
       "        vertical-align: middle;\n",
       "    }\n",
       "\n",
       "    .dataframe tbody tr th {\n",
       "        vertical-align: top;\n",
       "    }\n",
       "\n",
       "    .dataframe thead th {\n",
       "        text-align: right;\n",
       "    }\n",
       "</style>\n",
       "<table border=\"1\" class=\"dataframe\">\n",
       "  <thead>\n",
       "    <tr style=\"text-align: right;\">\n",
       "      <th></th>\n",
       "      <th>contractSymbol</th>\n",
       "      <th>lastTradeDate</th>\n",
       "      <th>strike</th>\n",
       "      <th>lastPrice</th>\n",
       "      <th>bid</th>\n",
       "      <th>ask</th>\n",
       "      <th>change</th>\n",
       "      <th>percentChange</th>\n",
       "      <th>volume</th>\n",
       "      <th>openInterest</th>\n",
       "      <th>impliedVolatility</th>\n",
       "      <th>inTheMoney</th>\n",
       "      <th>contractSize</th>\n",
       "      <th>currency</th>\n",
       "    </tr>\n",
       "  </thead>\n",
       "  <tbody>\n",
       "    <tr>\n",
       "      <th>0</th>\n",
       "      <td>NVDA240621C00005000</td>\n",
       "      <td>2024-04-11 14:45:26+00:00</td>\n",
       "      <td>5.0</td>\n",
       "      <td>880.65</td>\n",
       "      <td>875.10</td>\n",
       "      <td>878.95</td>\n",
       "      <td>0.0</td>\n",
       "      <td>0.0</td>\n",
       "      <td>12</td>\n",
       "      <td>4962</td>\n",
       "      <td>4.683598</td>\n",
       "      <td>True</td>\n",
       "      <td>REGULAR</td>\n",
       "      <td>USD</td>\n",
       "    </tr>\n",
       "    <tr>\n",
       "      <th>1</th>\n",
       "      <td>NVDA240621C00010000</td>\n",
       "      <td>2024-04-05 15:43:56+00:00</td>\n",
       "      <td>10.0</td>\n",
       "      <td>869.40</td>\n",
       "      <td>870.05</td>\n",
       "      <td>874.25</td>\n",
       "      <td>0.0</td>\n",
       "      <td>0.0</td>\n",
       "      <td>2</td>\n",
       "      <td>98</td>\n",
       "      <td>4.183599</td>\n",
       "      <td>True</td>\n",
       "      <td>REGULAR</td>\n",
       "      <td>USD</td>\n",
       "    </tr>\n",
       "    <tr>\n",
       "      <th>2</th>\n",
       "      <td>NVDA240621C00015000</td>\n",
       "      <td>2024-04-11 13:36:26+00:00</td>\n",
       "      <td>15.0</td>\n",
       "      <td>869.61</td>\n",
       "      <td>865.05</td>\n",
       "      <td>869.30</td>\n",
       "      <td>0.0</td>\n",
       "      <td>0.0</td>\n",
       "      <td>2</td>\n",
       "      <td>35</td>\n",
       "      <td>3.765626</td>\n",
       "      <td>True</td>\n",
       "      <td>REGULAR</td>\n",
       "      <td>USD</td>\n",
       "    </tr>\n",
       "    <tr>\n",
       "      <th>3</th>\n",
       "      <td>NVDA240621C00020000</td>\n",
       "      <td>2024-03-15 13:37:59+00:00</td>\n",
       "      <td>20.0</td>\n",
       "      <td>848.00</td>\n",
       "      <td>860.15</td>\n",
       "      <td>863.95</td>\n",
       "      <td>0.0</td>\n",
       "      <td>0.0</td>\n",
       "      <td>1</td>\n",
       "      <td>148</td>\n",
       "      <td>3.261721</td>\n",
       "      <td>True</td>\n",
       "      <td>REGULAR</td>\n",
       "      <td>USD</td>\n",
       "    </tr>\n",
       "    <tr>\n",
       "      <th>4</th>\n",
       "      <td>NVDA240621C00025000</td>\n",
       "      <td>2024-02-16 15:55:43+00:00</td>\n",
       "      <td>25.0</td>\n",
       "      <td>708.61</td>\n",
       "      <td>851.90</td>\n",
       "      <td>856.05</td>\n",
       "      <td>0.0</td>\n",
       "      <td>0.0</td>\n",
       "      <td>4</td>\n",
       "      <td>82</td>\n",
       "      <td>0.000010</td>\n",
       "      <td>True</td>\n",
       "      <td>REGULAR</td>\n",
       "      <td>USD</td>\n",
       "    </tr>\n",
       "  </tbody>\n",
       "</table>\n",
       "</div>"
      ],
      "text/plain": [
       "        contractSymbol             lastTradeDate  strike  lastPrice     bid  \\\n",
       "0  NVDA240621C00005000 2024-04-11 14:45:26+00:00     5.0     880.65  875.10   \n",
       "1  NVDA240621C00010000 2024-04-05 15:43:56+00:00    10.0     869.40  870.05   \n",
       "2  NVDA240621C00015000 2024-04-11 13:36:26+00:00    15.0     869.61  865.05   \n",
       "3  NVDA240621C00020000 2024-03-15 13:37:59+00:00    20.0     848.00  860.15   \n",
       "4  NVDA240621C00025000 2024-02-16 15:55:43+00:00    25.0     708.61  851.90   \n",
       "\n",
       "      ask  change  percentChange  volume  openInterest  impliedVolatility  \\\n",
       "0  878.95     0.0            0.0      12          4962           4.683598   \n",
       "1  874.25     0.0            0.0       2            98           4.183599   \n",
       "2  869.30     0.0            0.0       2            35           3.765626   \n",
       "3  863.95     0.0            0.0       1           148           3.261721   \n",
       "4  856.05     0.0            0.0       4            82           0.000010   \n",
       "\n",
       "   inTheMoney contractSize currency  \n",
       "0        True      REGULAR      USD  \n",
       "1        True      REGULAR      USD  \n",
       "2        True      REGULAR      USD  \n",
       "3        True      REGULAR      USD  \n",
       "4        True      REGULAR      USD  "
      ]
     },
     "execution_count": 11,
     "metadata": {},
     "output_type": "execute_result"
    }
   ],
   "source": [
    "calls_df.head()\n"
   ]
  },
  {
   "cell_type": "code",
   "execution_count": 12,
   "metadata": {},
   "outputs": [
    {
     "data": {
      "text/plain": [
       "<matplotlib.axes._subplots.AxesSubplot at 0x7f3cf40a95f8>"
      ]
     },
     "execution_count": 12,
     "metadata": {},
     "output_type": "execute_result"
    },
    {
     "data": {
      "image/png": "[encoded data removed]",
      "text/plain": [
       "<Figure size 432x288 with 1 Axes>"
      ]
     },
     "metadata": {
      "needs_background": "light"
     },
     "output_type": "display_data"
    }
   ],
   "source": [
    "sns.histplot(calls_df['change'])"
   ]
  },
  {
   "cell_type": "code",
   "execution_count": 12,
   "metadata": {},
   "outputs": [
    {
     "name": "stdout",
     "output_type": "stream",
     "text": [
      "<class 'pandas.core.frame.DataFrame'>\n",
      "RangeIndex: 289 entries, 0 to 288\n",
      "Data columns (total 14 columns):\n",
      " #   Column             Non-Null Count  Dtype              \n",
      "---  ------             --------------  -----              \n",
      " 0   contractSymbol     289 non-null    object             \n",
      " 1   lastTradeDate      289 non-null    datetime64[ns, UTC]\n",
      " 2   strike             289 non-null    float64            \n",
      " 3   lastPrice          289 non-null    float64            \n",
      " 4   bid                289 non-null    float64            \n",
      " 5   ask                289 non-null    float64            \n",
      " 6   change             289 non-null    float64            \n",
      " 7   percentChange      289 non-null    float64            \n",
      " 8   volume             289 non-null    int64              \n",
      " 9   openInterest       289 non-null    int64              \n",
      " 10  impliedVolatility  289 non-null    float64            \n",
      " 11  inTheMoney         289 non-null    bool               \n",
      " 12  contractSize       289 non-null    object             \n",
      " 13  currency           289 non-null    object             \n",
      "dtypes: bool(1), datetime64[ns, UTC](1), float64(7), int64(2), object(3)\n",
      "memory usage: 29.8+ KB\n"
     ]
    }
   ],
   "source": [
    "calls_df.info()"
   ]
  },
  {
   "cell_type": "code",
   "execution_count": 13,
   "metadata": {},
   "outputs": [],
   "source": [
    "calls_df  = calls_df.drop(['contracmerged_dftSymbol'], axis =1 )"
   ]
  },
  {
   "cell_type": "code",
   "execution_count": 14,
   "metadata": {},
   "outputs": [
    {
     "data": {
      "text/html": [
       "<div>\n",
       "<style scoped>\n",
       "    .dataframe tbody tr th:only-of-type {\n",
       "        vertical-align: middle;\n",
       "    }\n",
       "\n",
       "    .dataframe tbody tr th {\n",
       "        vertical-align: top;\n",
       "    }\n",
       "\n",
       "    .dataframe thead th {\n",
       "        text-align: right;\n",
       "    }\n",
       "</style>\n",
       "<table border=\"1\" class=\"dataframe\">\n",
       "  <thead>\n",
       "    <tr style=\"text-align: right;\">\n",
       "      <th></th>\n",
       "      <th>strike</th>\n",
       "      <th>lastPrice</th>\n",
       "      <th>bid</th>\n",
       "      <th>ask</th>\n",
       "      <th>change</th>\n",
       "      <th>percentChange</th>\n",
       "      <th>volume</th>\n",
       "      <th>openInterest</th>\n",
       "      <th>impliedVolatility</th>\n",
       "    </tr>\n",
       "  </thead>\n",
       "  <tbody>\n",
       "    <tr>\n",
       "      <th>count</th>\n",
       "      <td>289.000000</td>\n",
       "      <td>289.000000</td>\n",
       "      <td>289.000000</td>\n",
       "      <td>289.000000</td>\n",
       "      <td>289.000000</td>\n",
       "      <td>289.000000</td>\n",
       "      <td>289.000000</td>\n",
       "      <td>289.000000</td>\n",
       "      <td>289.000000</td>\n",
       "    </tr>\n",
       "    <tr>\n",
       "      <th>mean</th>\n",
       "      <td>804.152249</td>\n",
       "      <td>276.348651</td>\n",
       "      <td>273.565225</td>\n",
       "      <td>276.179066</td>\n",
       "      <td>-0.524567</td>\n",
       "      <td>-2.059324</td>\n",
       "      <td>60.546713</td>\n",
       "      <td>1323.910035</td>\n",
       "      <td>0.863517</td>\n",
       "    </tr>\n",
       "    <tr>\n",
       "      <th>std</th>\n",
       "      <td>535.527768</td>\n",
       "      <td>273.896387</td>\n",
       "      <td>270.452271</td>\n",
       "      <td>272.222035</td>\n",
       "      <td>10.594472</td>\n",
       "      <td>11.038450</td>\n",
       "      <td>204.293087</td>\n",
       "      <td>3250.478596</td>\n",
       "      <td>0.584849</td>\n",
       "    </tr>\n",
       "    <tr>\n",
       "      <th>min</th>\n",
       "      <td>5.000000</td>\n",
       "      <td>0.620000</td>\n",
       "      <td>0.590000</td>\n",
       "      <td>0.630000</td>\n",
       "      <td>-95.250000</td>\n",
       "      <td>-82.255646</td>\n",
       "      <td>1.000000</td>\n",
       "      <td>10.000000</td>\n",
       "      <td>0.000000</td>\n",
       "    </tr>\n",
       "    <tr>\n",
       "      <th>25%</th>\n",
       "      <td>365.000000</td>\n",
       "      <td>16.300000</td>\n",
       "      <td>16.550000</td>\n",
       "      <td>16.950000</td>\n",
       "      <td>-0.160000</td>\n",
       "      <td>-1.858386</td>\n",
       "      <td>2.000000</td>\n",
       "      <td>267.000000</td>\n",
       "      <td>0.557133</td>\n",
       "    </tr>\n",
       "    <tr>\n",
       "      <th>50%</th>\n",
       "      <td>725.000000</td>\n",
       "      <td>180.940000</td>\n",
       "      <td>182.100000</td>\n",
       "      <td>184.200000</td>\n",
       "      <td>0.000000</td>\n",
       "      <td>0.000000</td>\n",
       "      <td>5.000000</td>\n",
       "      <td>634.000000</td>\n",
       "      <td>0.628910</td>\n",
       "    </tr>\n",
       "    <tr>\n",
       "      <th>75%</th>\n",
       "      <td>1170.000000</td>\n",
       "      <td>493.920000</td>\n",
       "      <td>493.550000</td>\n",
       "      <td>497.100000</td>\n",
       "      <td>1.479999</td>\n",
       "      <td>2.686782</td>\n",
       "      <td>25.000000</td>\n",
       "      <td>1198.000000</td>\n",
       "      <td>0.990662</td>\n",
       "    </tr>\n",
       "    <tr>\n",
       "      <th>max</th>\n",
       "      <td>1940.000000</td>\n",
       "      <td>878.300000</td>\n",
       "      <td>889.250000</td>\n",
       "      <td>895.800000</td>\n",
       "      <td>18.980042</td>\n",
       "      <td>9.908141</td>\n",
       "      <td>1879.000000</td>\n",
       "      <td>42127.000000</td>\n",
       "      <td>4.046880</td>\n",
       "    </tr>\n",
       "  </tbody>\n",
       "</table>\n",
       "</div>"
      ],
      "text/plain": [
       "            strike   lastPrice         bid         ask      change  \\\n",
       "count   289.000000  289.000000  289.000000  289.000000  289.000000   \n",
       "mean    804.152249  276.348651  273.565225  276.179066   -0.524567   \n",
       "std     535.527768  273.896387  270.452271  272.222035   10.594472   \n",
       "min       5.000000    0.620000    0.590000    0.630000  -95.250000   \n",
       "25%     365.000000   16.300000   16.550000   16.950000   -0.160000   \n",
       "50%     725.000000  180.940000  182.100000  184.200000    0.000000   \n",
       "75%    1170.000000  493.920000  493.550000  497.100000    1.479999   \n",
       "max    1940.000000  878.300000  889.250000  895.800000   18.980042   \n",
       "\n",
       "       percentChange       volume  openInterest  impliedVolatility  \n",
       "count     289.000000   289.000000    289.000000         289.000000  \n",
       "mean       -2.059324    60.546713   1323.910035           0.863517  \n",
       "std        11.038450   204.293087   3250.478596           0.584849  \n",
       "min       -82.255646     1.000000     10.000000           0.000000  \n",
       "25%        -1.858386     2.000000    267.000000           0.557133  \n",
       "50%         0.000000     5.000000    634.000000           0.628910  \n",
       "75%         2.686782    25.000000   1198.000000           0.990662  \n",
       "max         9.908141  1879.000000  42127.000000           4.046880  "
      ]
     },
     "execution_count": 14,
     "metadata": {},
     "output_type": "execute_result"
    }
   ],
   "source": [
    "calls_df.describe()"
   ]
  },
  {
   "cell_type": "code",
   "execution_count": 15,
   "metadata": {},
   "outputs": [
    {
     "data": {
      "text/plain": [
       "<matplotlib.axes._subplots.AxesSubplot at 0x7f06a40a5a20>"
      ]
     },
     "execution_count": 15,
     "metadata": {},
     "output_type": "execute_result"
    },
    {
     "data": {
      "image/png": "[encoded data removed]",
      "text/plain": [
       "<Figure size 432x288 with 1 Axes>"
      ]
     },
     "metadata": {
      "needs_background": "light"
     },
     "output_type": "display_data"
    }
   ],
   "source": [
    "# let us see what is in the currecy and contract size and if it could be removed. \n",
    "sns.histplot(calls_df['currency'])"
   ]
  },
  {
   "attachments": {},
   "cell_type": "markdown",
   "metadata": {},
   "source": [
    "we see it is all in usd and can remove it. Let us look at now contract_size"
   ]
  },
  {
   "cell_type": "code",
   "execution_count": 16,
   "metadata": {},
   "outputs": [
    {
     "data": {
      "text/plain": [
       "<matplotlib.axes._subplots.AxesSubplot at 0x7f069df8f1d0>"
      ]
     },
     "execution_count": 16,
     "metadata": {},
     "output_type": "execute_result"
    },
    {
     "data": {
      "image/png": "[encoded data removed]",
      "text/plain": [
       "<Figure size 432x288 with 1 Axes>"
      ]
     },
     "metadata": {
      "needs_background": "light"
     },
     "output_type": "display_data"
    }
   ],
   "source": [
    "sns.histplot(calls_df['contractSize'])"
   ]
  },
  {
   "cell_type": "code",
   "execution_count": 17,
   "metadata": {},
   "outputs": [
    {
     "name": "stderr",
     "output_type": "stream",
     "text": [
      "<string>:6: RuntimeWarning: Converting input from bool to <class 'numpy.uint8'> for compatibility.\n",
      "<string>:6: RuntimeWarning: Converting input from bool to <class 'numpy.uint8'> for compatibility.\n"
     ]
    },
    {
     "data": {
      "text/plain": [
       "<matplotlib.axes._subplots.AxesSubplot at 0x7f069df5e898>"
      ]
     },
     "execution_count": 17,
     "metadata": {},
     "output_type": "execute_result"
    },
    {
     "data": {
      "image/png": "[encoded data removed]",
      "text/plain": [
       "<Figure size 432x288 with 1 Axes>"
      ]
     },
     "metadata": {
      "needs_background": "light"
     },
     "output_type": "display_data"
    }
   ],
   "source": [
    "sns.histplot(calls_df['inTheMoney'])"
   ]
  },
  {
   "attachments": {},
   "cell_type": "markdown",
   "metadata": {},
   "source": [
    "From the above histogram distribution we could remove contractsize and currency. We will change the type of inThe money if needed be . "
   ]
  },
  {
   "cell_type": "code",
   "execution_count": 18,
   "metadata": {},
   "outputs": [],
   "source": [
    "calls_df  = calls_df.drop(['currency','contractSize' ], axis =1 )"
   ]
  },
  {
   "cell_type": "code",
   "execution_count": 48,
   "metadata": {},
   "outputs": [
    {
     "name": "stderr",
     "output_type": "stream",
     "text": [
      "/home/rhythm/anaconda3/lib/python3.7/site-packages/matplotlib/cbook/__init__.py:1377: FutureWarning: Support for multi-dimensional indexing (e.g. `obj[:, None]`) is deprecated and will be removed in a future version.  Convert to a numpy array before indexing instead.\n",
      "  x[:, None]\n",
      "/home/rhythm/anaconda3/lib/python3.7/site-packages/matplotlib/axes/_base.py:237: FutureWarning: Support for multi-dimensional indexing (e.g. `obj[:, None]`) is deprecated and will be removed in a future version.  Convert to a numpy array before indexing instead.\n",
      "  x = x[:, np.newaxis]\n",
      "/home/rhythm/anaconda3/lib/python3.7/site-packages/matplotlib/axes/_base.py:239: FutureWarning: Support for multi-dimensional indexing (e.g. `obj[:, None]`) is deprecated and will be removed in a future version.  Convert to a numpy array before indexing instead.\n",
      "  y = y[:, np.newaxis]\n"
     ]
    },
    {
     "data": {
      "image/png": "[encoded data removed]",
      "text/plain": [
       "<Figure size 720x432 with 1 Axes>"
      ]
     },
     "metadata": {
      "needs_background": "light"
     },
     "output_type": "display_data"
    }
   ],
   "source": [
    "plt.figure(figsize=(10, 6))\n",
    "sns.histplot(calls_df['strike'], kde=True, bins = 50, label = 'Strike Rate')\n",
    "#sns.histplot(calls_df['lastPrice'], kde=True, bins = 20, color= 'orange', label = 'Last Price')\n",
    "\n",
    "plt.title('Distribution of strike and last price' )\n",
    "plt.xlabel('Strike Price')\n",
    "plt.ylabel('Frequency')\n",
    "plt.legend()\n",
    "plt.show()"
   ]
  },
  {
   "cell_type": "code",
   "execution_count": 21,
   "metadata": {},
   "outputs": [
    {
     "data": {
      "text/html": [
       "<div>\n",
       "<style scoped>\n",
       "    .dataframe tbody tr th:only-of-type {\n",
       "        vertical-align: middle;\n",
       "    }\n",
       "\n",
       "    .dataframe tbody tr th {\n",
       "        vertical-align: top;\n",
       "    }\n",
       "\n",
       "    .dataframe thead th {\n",
       "        text-align: right;\n",
       "    }\n",
       "</style>\n",
       "<table border=\"1\" class=\"dataframe\">\n",
       "  <thead>\n",
       "    <tr style=\"text-align: right;\">\n",
       "      <th></th>\n",
       "      <th>lastTradeDate</th>\n",
       "      <th>strike</th>\n",
       "      <th>lastPrice</th>\n",
       "      <th>bid</th>\n",
       "      <th>ask</th>\n",
       "      <th>change</th>\n",
       "      <th>percentChange</th>\n",
       "      <th>volume</th>\n",
       "      <th>openInterest</th>\n",
       "      <th>impliedVolatility</th>\n",
       "      <th>inTheMoney</th>\n",
       "    </tr>\n",
       "  </thead>\n",
       "  <tbody>\n",
       "    <tr>\n",
       "      <th>0</th>\n",
       "      <td>2024-04-05 15:28:57+00:00</td>\n",
       "      <td>5.0</td>\n",
       "      <td>869.75</td>\n",
       "      <td>873.70</td>\n",
       "      <td>876.60</td>\n",
       "      <td>-11.419983</td>\n",
       "      <td>-1.296002</td>\n",
       "      <td>1</td>\n",
       "      <td>4967</td>\n",
       "      <td>4.046880</td>\n",
       "      <td>True</td>\n",
       "    </tr>\n",
       "    <tr>\n",
       "      <th>1</th>\n",
       "      <td>2024-04-05 15:17:19+00:00</td>\n",
       "      <td>10.0</td>\n",
       "      <td>869.40</td>\n",
       "      <td>868.70</td>\n",
       "      <td>871.60</td>\n",
       "      <td>-5.599976</td>\n",
       "      <td>-0.639997</td>\n",
       "      <td>2</td>\n",
       "      <td>96</td>\n",
       "      <td>3.406251</td>\n",
       "      <td>True</td>\n",
       "    </tr>\n",
       "    <tr>\n",
       "      <th>2</th>\n",
       "      <td>2024-03-12 14:35:45+00:00</td>\n",
       "      <td>15.0</td>\n",
       "      <td>878.19</td>\n",
       "      <td>863.75</td>\n",
       "      <td>866.70</td>\n",
       "      <td>0.000000</td>\n",
       "      <td>0.000000</td>\n",
       "      <td>3</td>\n",
       "      <td>35</td>\n",
       "      <td>3.285158</td>\n",
       "      <td>True</td>\n",
       "    </tr>\n",
       "    <tr>\n",
       "      <th>3</th>\n",
       "      <td>2024-03-15 13:37:59+00:00</td>\n",
       "      <td>20.0</td>\n",
       "      <td>848.00</td>\n",
       "      <td>858.85</td>\n",
       "      <td>862.25</td>\n",
       "      <td>0.000000</td>\n",
       "      <td>0.000000</td>\n",
       "      <td>1</td>\n",
       "      <td>148</td>\n",
       "      <td>3.460939</td>\n",
       "      <td>True</td>\n",
       "    </tr>\n",
       "    <tr>\n",
       "      <th>4</th>\n",
       "      <td>2024-02-16 15:55:43+00:00</td>\n",
       "      <td>25.0</td>\n",
       "      <td>708.61</td>\n",
       "      <td>851.90</td>\n",
       "      <td>856.05</td>\n",
       "      <td>0.000000</td>\n",
       "      <td>0.000000</td>\n",
       "      <td>4</td>\n",
       "      <td>82</td>\n",
       "      <td>3.562501</td>\n",
       "      <td>True</td>\n",
       "    </tr>\n",
       "  </tbody>\n",
       "</table>\n",
       "</div>"
      ],
      "text/plain": [
       "              lastTradeDate  strike  lastPrice     bid     ask     change  \\\n",
       "0 2024-04-05 15:28:57+00:00     5.0     869.75  873.70  876.60 -11.419983   \n",
       "1 2024-04-05 15:17:19+00:00    10.0     869.40  868.70  871.60  -5.599976   \n",
       "2 2024-03-12 14:35:45+00:00    15.0     878.19  863.75  866.70   0.000000   \n",
       "3 2024-03-15 13:37:59+00:00    20.0     848.00  858.85  862.25   0.000000   \n",
       "4 2024-02-16 15:55:43+00:00    25.0     708.61  851.90  856.05   0.000000   \n",
       "\n",
       "   percentChange  volume  openInterest  impliedVolatility  inTheMoney  \n",
       "0      -1.296002       1          4967           4.046880        True  \n",
       "1      -0.639997       2            96           3.406251        True  \n",
       "2       0.000000       3            35           3.285158        True  \n",
       "3       0.000000       1           148           3.460939        True  \n",
       "4       0.000000       4            82           3.562501        True  "
      ]
     },
     "execution_count": 21,
     "metadata": {},
     "output_type": "execute_result"
    }
   ],
   "source": [
    "calls_df.head()"
   ]
  },
  {
   "cell_type": "code",
   "execution_count": 24,
   "metadata": {},
   "outputs": [],
   "source": [
    "# converting the date-time format\n",
    "# Let's assume your datetime column is named 'lastTradeDate'\n",
    "calls_df['lastTradeDate'] = pd.to_datetime(calls_df['lastTradeDate'])\n",
    "\n",
    "# Extracting date and time into separate columns\n",
    "calls_df['Date'] = calls_df['lastTradeDate'].dt.date\n",
    "calls_df['Time'] = calls_df['lastTradeDate'].dt.time\n",
    "\n",
    "# If you want to separate date into year, month, and day columns:\n",
    "calls_df['Year']  = calls_df['lastTradeDate'].dt.year\n",
    "calls_df['Month'] = calls_df['lastTradeDate'].dt.month\n",
    "calls_df['Day']   = calls_df['lastTradeDate'].dt.day"
   ]
  },
  {
   "cell_type": "code",
   "execution_count": 26,
   "metadata": {},
   "outputs": [],
   "source": [
    "calls_df = calls_df.drop(['lastTradeDate'], axis = 1)"
   ]
  },
  {
   "cell_type": "code",
   "execution_count": 28,
   "metadata": {},
   "outputs": [
    {
     "data": {
      "text/html": [
       "<div>\n",
       "<style scoped>\n",
       "    .dataframe tbody tr th:only-of-type {\n",
       "        vertical-align: middle;\n",
       "    }\n",
       "\n",
       "    .dataframe tbody tr th {\n",
       "        vertical-align: top;\n",
       "    }\n",
       "\n",
       "    .dataframe thead th {\n",
       "        text-align: right;\n",
       "    }\n",
       "</style>\n",
       "<table border=\"1\" class=\"dataframe\">\n",
       "  <thead>\n",
       "    <tr style=\"text-align: right;\">\n",
       "      <th></th>\n",
       "      <th>strike</th>\n",
       "      <th>lastPrice</th>\n",
       "      <th>bid</th>\n",
       "      <th>ask</th>\n",
       "      <th>change</th>\n",
       "      <th>percentChange</th>\n",
       "      <th>volume</th>\n",
       "      <th>openInterest</th>\n",
       "      <th>impliedVolatility</th>\n",
       "      <th>inTheMoney</th>\n",
       "      <th>Date</th>\n",
       "      <th>Time</th>\n",
       "      <th>Year</th>\n",
       "      <th>Month</th>\n",
       "      <th>Day</th>\n",
       "    </tr>\n",
       "  </thead>\n",
       "  <tbody>\n",
       "    <tr>\n",
       "      <th>7</th>\n",
       "      <td>40.0</td>\n",
       "      <td>251.00</td>\n",
       "      <td>336.00</td>\n",
       "      <td>345.50</td>\n",
       "      <td>0.00</td>\n",
       "      <td>0.000000</td>\n",
       "      <td>1</td>\n",
       "      <td>10</td>\n",
       "      <td>0.000010</td>\n",
       "      <td>True</td>\n",
       "      <td>2023-05-01</td>\n",
       "      <td>17:34:22</td>\n",
       "      <td>2023</td>\n",
       "      <td>5</td>\n",
       "      <td>1</td>\n",
       "    </tr>\n",
       "    <tr>\n",
       "      <th>8</th>\n",
       "      <td>45.0</td>\n",
       "      <td>408.55</td>\n",
       "      <td>413.00</td>\n",
       "      <td>422.90</td>\n",
       "      <td>0.00</td>\n",
       "      <td>0.000000</td>\n",
       "      <td>2</td>\n",
       "      <td>138</td>\n",
       "      <td>0.000010</td>\n",
       "      <td>True</td>\n",
       "      <td>2023-07-26</td>\n",
       "      <td>15:46:19</td>\n",
       "      <td>2023</td>\n",
       "      <td>7</td>\n",
       "      <td>26</td>\n",
       "    </tr>\n",
       "    <tr>\n",
       "      <th>20</th>\n",
       "      <td>105.0</td>\n",
       "      <td>357.75</td>\n",
       "      <td>349.50</td>\n",
       "      <td>359.00</td>\n",
       "      <td>0.00</td>\n",
       "      <td>0.000000</td>\n",
       "      <td>2</td>\n",
       "      <td>649</td>\n",
       "      <td>0.000010</td>\n",
       "      <td>True</td>\n",
       "      <td>2023-09-13</td>\n",
       "      <td>17:09:14</td>\n",
       "      <td>2023</td>\n",
       "      <td>9</td>\n",
       "      <td>13</td>\n",
       "    </tr>\n",
       "    <tr>\n",
       "      <th>10</th>\n",
       "      <td>55.0</td>\n",
       "      <td>382.67</td>\n",
       "      <td>365.00</td>\n",
       "      <td>372.70</td>\n",
       "      <td>0.00</td>\n",
       "      <td>0.000000</td>\n",
       "      <td>40</td>\n",
       "      <td>139</td>\n",
       "      <td>0.000010</td>\n",
       "      <td>True</td>\n",
       "      <td>2023-09-19</td>\n",
       "      <td>14:08:15</td>\n",
       "      <td>2023</td>\n",
       "      <td>9</td>\n",
       "      <td>19</td>\n",
       "    </tr>\n",
       "    <tr>\n",
       "      <th>13</th>\n",
       "      <td>70.0</td>\n",
       "      <td>432.73</td>\n",
       "      <td>420.05</td>\n",
       "      <td>424.10</td>\n",
       "      <td>0.00</td>\n",
       "      <td>0.000000</td>\n",
       "      <td>249</td>\n",
       "      <td>560</td>\n",
       "      <td>0.000010</td>\n",
       "      <td>True</td>\n",
       "      <td>2023-11-21</td>\n",
       "      <td>20:05:07</td>\n",
       "      <td>2023</td>\n",
       "      <td>11</td>\n",
       "      <td>21</td>\n",
       "    </tr>\n",
       "    <tr>\n",
       "      <th>...</th>\n",
       "      <td>...</td>\n",
       "      <td>...</td>\n",
       "      <td>...</td>\n",
       "      <td>...</td>\n",
       "      <td>...</td>\n",
       "      <td>...</td>\n",
       "      <td>...</td>\n",
       "      <td>...</td>\n",
       "      <td>...</td>\n",
       "      <td>...</td>\n",
       "      <td>...</td>\n",
       "      <td>...</td>\n",
       "      <td>...</td>\n",
       "      <td>...</td>\n",
       "      <td>...</td>\n",
       "    </tr>\n",
       "    <tr>\n",
       "      <th>236</th>\n",
       "      <td>1420.0</td>\n",
       "      <td>4.50</td>\n",
       "      <td>4.40</td>\n",
       "      <td>4.65</td>\n",
       "      <td>-0.90</td>\n",
       "      <td>-16.666668</td>\n",
       "      <td>145</td>\n",
       "      <td>286</td>\n",
       "      <td>0.586247</td>\n",
       "      <td>False</td>\n",
       "      <td>2024-04-05</td>\n",
       "      <td>19:47:27</td>\n",
       "      <td>2024</td>\n",
       "      <td>4</td>\n",
       "      <td>5</td>\n",
       "    </tr>\n",
       "    <tr>\n",
       "      <th>237</th>\n",
       "      <td>1430.0</td>\n",
       "      <td>4.55</td>\n",
       "      <td>4.20</td>\n",
       "      <td>4.45</td>\n",
       "      <td>-1.20</td>\n",
       "      <td>-20.869562</td>\n",
       "      <td>147</td>\n",
       "      <td>387</td>\n",
       "      <td>0.588017</td>\n",
       "      <td>False</td>\n",
       "      <td>2024-04-05</td>\n",
       "      <td>17:26:21</td>\n",
       "      <td>2024</td>\n",
       "      <td>4</td>\n",
       "      <td>5</td>\n",
       "    </tr>\n",
       "    <tr>\n",
       "      <th>238</th>\n",
       "      <td>1440.0</td>\n",
       "      <td>4.15</td>\n",
       "      <td>4.00</td>\n",
       "      <td>4.25</td>\n",
       "      <td>-0.85</td>\n",
       "      <td>-16.999998</td>\n",
       "      <td>1</td>\n",
       "      <td>141</td>\n",
       "      <td>0.589543</td>\n",
       "      <td>False</td>\n",
       "      <td>2024-04-05</td>\n",
       "      <td>14:40:50</td>\n",
       "      <td>2024</td>\n",
       "      <td>4</td>\n",
       "      <td>5</td>\n",
       "    </tr>\n",
       "    <tr>\n",
       "      <th>241</th>\n",
       "      <td>1470.0</td>\n",
       "      <td>3.57</td>\n",
       "      <td>3.50</td>\n",
       "      <td>3.75</td>\n",
       "      <td>-0.33</td>\n",
       "      <td>-8.461542</td>\n",
       "      <td>3</td>\n",
       "      <td>304</td>\n",
       "      <td>0.595158</td>\n",
       "      <td>False</td>\n",
       "      <td>2024-04-05</td>\n",
       "      <td>19:30:38</td>\n",
       "      <td>2024</td>\n",
       "      <td>4</td>\n",
       "      <td>5</td>\n",
       "    </tr>\n",
       "    <tr>\n",
       "      <th>288</th>\n",
       "      <td>1940.0</td>\n",
       "      <td>0.62</td>\n",
       "      <td>0.61</td>\n",
       "      <td>0.63</td>\n",
       "      <td>-0.17</td>\n",
       "      <td>-21.518990</td>\n",
       "      <td>167</td>\n",
       "      <td>4378</td>\n",
       "      <td>0.667240</td>\n",
       "      <td>False</td>\n",
       "      <td>2024-04-05</td>\n",
       "      <td>19:59:59</td>\n",
       "      <td>2024</td>\n",
       "      <td>4</td>\n",
       "      <td>5</td>\n",
       "    </tr>\n",
       "  </tbody>\n",
       "</table>\n",
       "<p>289 rows × 15 columns</p>\n",
       "</div>"
      ],
      "text/plain": [
       "     strike  lastPrice     bid     ask  change  percentChange  volume  \\\n",
       "7      40.0     251.00  336.00  345.50    0.00       0.000000       1   \n",
       "8      45.0     408.55  413.00  422.90    0.00       0.000000       2   \n",
       "20    105.0     357.75  349.50  359.00    0.00       0.000000       2   \n",
       "10     55.0     382.67  365.00  372.70    0.00       0.000000      40   \n",
       "13     70.0     432.73  420.05  424.10    0.00       0.000000     249   \n",
       "..      ...        ...     ...     ...     ...            ...     ...   \n",
       "236  1420.0       4.50    4.40    4.65   -0.90     -16.666668     145   \n",
       "237  1430.0       4.55    4.20    4.45   -1.20     -20.869562     147   \n",
       "238  1440.0       4.15    4.00    4.25   -0.85     -16.999998       1   \n",
       "241  1470.0       3.57    3.50    3.75   -0.33      -8.461542       3   \n",
       "288  1940.0       0.62    0.61    0.63   -0.17     -21.518990     167   \n",
       "\n",
       "     openInterest  impliedVolatility  inTheMoney        Date      Time  Year  \\\n",
       "7              10           0.000010        True  2023-05-01  17:34:22  2023   \n",
       "8             138           0.000010        True  2023-07-26  15:46:19  2023   \n",
       "20            649           0.000010        True  2023-09-13  17:09:14  2023   \n",
       "10            139           0.000010        True  2023-09-19  14:08:15  2023   \n",
       "13            560           0.000010        True  2023-11-21  20:05:07  2023   \n",
       "..            ...                ...         ...         ...       ...   ...   \n",
       "236           286           0.586247       False  2024-04-05  19:47:27  2024   \n",
       "237           387           0.588017       False  2024-04-05  17:26:21  2024   \n",
       "238           141           0.589543       False  2024-04-05  14:40:50  2024   \n",
       "241           304           0.595158       False  2024-04-05  19:30:38  2024   \n",
       "288          4378           0.667240       False  2024-04-05  19:59:59  2024   \n",
       "\n",
       "     Month  Day  \n",
       "7        5    1  \n",
       "8        7   26  \n",
       "20       9   13  \n",
       "10       9   19  \n",
       "13      11   21  \n",
       "..     ...  ...  \n",
       "236      4    5  \n",
       "237      4    5  \n",
       "238      4    5  \n",
       "241      4    5  \n",
       "288      4    5  \n",
       "\n",
       "[289 rows x 15 columns]"
      ]
     },
     "execution_count": 28,
     "metadata": {},
     "output_type": "execute_result"
    }
   ],
   "source": [
    "calls_df = calls_df.sort_values(by='Date')\n",
    "calls_df"
   ]
  },
  {
   "attachments": {},
   "cell_type": "markdown",
   "metadata": {},
   "source": [
    "so we have some data some from the stocks_df and calls_df for similar dates but, calls_df would also have for time"
   ]
  },
  {
   "cell_type": "code",
   "execution_count": 53,
   "metadata": {},
   "outputs": [
    {
     "data": {
      "text/html": [
       "<div>\n",
       "<style scoped>\n",
       "    .dataframe tbody tr th:only-of-type {\n",
       "        vertical-align: middle;\n",
       "    }\n",
       "\n",
       "    .dataframe tbody tr th {\n",
       "        vertical-align: top;\n",
       "    }\n",
       "\n",
       "    .dataframe thead th {\n",
       "        text-align: right;\n",
       "    }\n",
       "</style>\n",
       "<table border=\"1\" class=\"dataframe\">\n",
       "  <thead>\n",
       "    <tr style=\"text-align: right;\">\n",
       "      <th></th>\n",
       "      <th>Date</th>\n",
       "      <th>Open</th>\n",
       "      <th>High</th>\n",
       "      <th>Low</th>\n",
       "      <th>Close</th>\n",
       "      <th>Adj Close</th>\n",
       "      <th>Volume</th>\n",
       "    </tr>\n",
       "  </thead>\n",
       "  <tbody>\n",
       "    <tr>\n",
       "      <th>0</th>\n",
       "      <td>2023-01-03</td>\n",
       "      <td>148.509995</td>\n",
       "      <td>149.960007</td>\n",
       "      <td>140.960007</td>\n",
       "      <td>143.149994</td>\n",
       "      <td>143.079773</td>\n",
       "      <td>40127700</td>\n",
       "    </tr>\n",
       "    <tr>\n",
       "      <th>1</th>\n",
       "      <td>2023-01-04</td>\n",
       "      <td>145.669998</td>\n",
       "      <td>148.529999</td>\n",
       "      <td>142.410004</td>\n",
       "      <td>147.490005</td>\n",
       "      <td>147.417679</td>\n",
       "      <td>43132400</td>\n",
       "    </tr>\n",
       "    <tr>\n",
       "      <th>2</th>\n",
       "      <td>2023-01-05</td>\n",
       "      <td>144.910004</td>\n",
       "      <td>145.639999</td>\n",
       "      <td>141.479996</td>\n",
       "      <td>142.649994</td>\n",
       "      <td>142.580048</td>\n",
       "      <td>38916800</td>\n",
       "    </tr>\n",
       "    <tr>\n",
       "      <th>3</th>\n",
       "      <td>2023-01-06</td>\n",
       "      <td>144.740005</td>\n",
       "      <td>150.100006</td>\n",
       "      <td>140.339996</td>\n",
       "      <td>148.589996</td>\n",
       "      <td>148.517120</td>\n",
       "      <td>40504400</td>\n",
       "    </tr>\n",
       "    <tr>\n",
       "      <th>4</th>\n",
       "      <td>2023-01-09</td>\n",
       "      <td>152.839996</td>\n",
       "      <td>160.559998</td>\n",
       "      <td>151.410004</td>\n",
       "      <td>156.279999</td>\n",
       "      <td>156.203369</td>\n",
       "      <td>50423100</td>\n",
       "    </tr>\n",
       "  </tbody>\n",
       "</table>\n",
       "</div>"
      ],
      "text/plain": [
       "        Date        Open        High         Low       Close   Adj Close  \\\n",
       "0 2023-01-03  148.509995  149.960007  140.960007  143.149994  143.079773   \n",
       "1 2023-01-04  145.669998  148.529999  142.410004  147.490005  147.417679   \n",
       "2 2023-01-05  144.910004  145.639999  141.479996  142.649994  142.580048   \n",
       "3 2023-01-06  144.740005  150.100006  140.339996  148.589996  148.517120   \n",
       "4 2023-01-09  152.839996  160.559998  151.410004  156.279999  156.203369   \n",
       "\n",
       "     Volume  \n",
       "0  40127700  \n",
       "1  43132400  \n",
       "2  38916800  \n",
       "3  40504400  \n",
       "4  50423100  "
      ]
     },
     "execution_count": 53,
     "metadata": {},
     "output_type": "execute_result"
    }
   ],
   "source": [
    "stock_df.head()"
   ]
  },
  {
   "cell_type": "code",
   "execution_count": 60,
   "metadata": {},
   "outputs": [],
   "source": [
    "# Convert 'Date' column in calls_df to datetime64[ns]\n",
    "calls_df['Date'] = pd.to_datetime(calls_df['Date'])\n",
    "\n",
    "# Now you can merge the DataFrames\n",
    "merged_df = pd.merge(stock_df, calls_df, on='Date', how='inner')\n"
   ]
  },
  {
   "cell_type": "code",
   "execution_count": 61,
   "metadata": {},
   "outputs": [
    {
     "name": "stdout",
     "output_type": "stream",
     "text": [
      "<class 'pandas.core.frame.DataFrame'>\n",
      "Int64Index: 126 entries, 0 to 125\n",
      "Data columns (total 21 columns):\n",
      " #   Column             Non-Null Count  Dtype         \n",
      "---  ------             --------------  -----         \n",
      " 0   Date               126 non-null    datetime64[ns]\n",
      " 1   Open               126 non-null    float64       \n",
      " 2   High               126 non-null    float64       \n",
      " 3   Low                126 non-null    float64       \n",
      " 4   Close              126 non-null    float64       \n",
      " 5   Adj Close          126 non-null    float64       \n",
      " 6   Volume             126 non-null    int64         \n",
      " 7   strike             126 non-null    float64       \n",
      " 8   lastPrice          126 non-null    float64       \n",
      " 9   bid                126 non-null    float64       \n",
      " 10  ask                126 non-null    float64       \n",
      " 11  change             126 non-null    float64       \n",
      " 12  percentChange      126 non-null    float64       \n",
      " 13  volume             126 non-null    int64         \n",
      " 14  openInterest       126 non-null    int64         \n",
      " 15  impliedVolatility  126 non-null    float64       \n",
      " 16  inTheMoney         126 non-null    bool          \n",
      " 17  Time               126 non-null    object        \n",
      " 18  Year               126 non-null    int64         \n",
      " 19  Month              126 non-null    int64         \n",
      " 20  Day                126 non-null    int64         \n",
      "dtypes: bool(1), datetime64[ns](1), float64(12), int64(6), object(1)\n",
      "memory usage: 20.8+ KB\n"
     ]
    }
   ],
   "source": [
    "merged_df.info()"
   ]
  },
  {
   "attachments": {},
   "cell_type": "markdown",
   "metadata": {},
   "source": [
    "There are 572 dates when combined of which only 289 are common. let us just keep those dates."
   ]
  },
  {
   "cell_type": "code",
   "execution_count": 58,
   "metadata": {},
   "outputs": [],
   "source": [
    "merged_df = merged_df.dropna()"
   ]
  },
  {
   "cell_type": "code",
   "execution_count": 62,
   "metadata": {},
   "outputs": [
    {
     "data": {
      "text/html": [
       "<div>\n",
       "<style scoped>\n",
       "    .dataframe tbody tr th:only-of-type {\n",
       "        vertical-align: middle;\n",
       "    }\n",
       "\n",
       "    .dataframe tbody tr th {\n",
       "        vertical-align: top;\n",
       "    }\n",
       "\n",
       "    .dataframe thead th {\n",
       "        text-align: right;\n",
       "    }\n",
       "</style>\n",
       "<table border=\"1\" class=\"dataframe\">\n",
       "  <thead>\n",
       "    <tr style=\"text-align: right;\">\n",
       "      <th></th>\n",
       "      <th>Date</th>\n",
       "      <th>Open</th>\n",
       "      <th>High</th>\n",
       "      <th>Low</th>\n",
       "      <th>Close</th>\n",
       "      <th>Adj Close</th>\n",
       "      <th>Volume</th>\n",
       "      <th>strike</th>\n",
       "      <th>lastPrice</th>\n",
       "      <th>bid</th>\n",
       "      <th>...</th>\n",
       "      <th>change</th>\n",
       "      <th>percentChange</th>\n",
       "      <th>volume</th>\n",
       "      <th>openInterest</th>\n",
       "      <th>impliedVolatility</th>\n",
       "      <th>inTheMoney</th>\n",
       "      <th>Time</th>\n",
       "      <th>Year</th>\n",
       "      <th>Month</th>\n",
       "      <th>Day</th>\n",
       "    </tr>\n",
       "  </thead>\n",
       "  <tbody>\n",
       "    <tr>\n",
       "      <th>0</th>\n",
       "      <td>2023-05-01</td>\n",
       "      <td>278.399994</td>\n",
       "      <td>290.579987</td>\n",
       "      <td>277.799988</td>\n",
       "      <td>289.100006</td>\n",
       "      <td>289.007324</td>\n",
       "      <td>57032900</td>\n",
       "      <td>40.0</td>\n",
       "      <td>251.00</td>\n",
       "      <td>336.00</td>\n",
       "      <td>...</td>\n",
       "      <td>0.0</td>\n",
       "      <td>0.0</td>\n",
       "      <td>1</td>\n",
       "      <td>10</td>\n",
       "      <td>0.00001</td>\n",
       "      <td>True</td>\n",
       "      <td>17:34:22</td>\n",
       "      <td>2023</td>\n",
       "      <td>5</td>\n",
       "      <td>1</td>\n",
       "    </tr>\n",
       "    <tr>\n",
       "      <th>1</th>\n",
       "      <td>2023-07-26</td>\n",
       "      <td>460.209991</td>\n",
       "      <td>460.529999</td>\n",
       "      <td>446.299988</td>\n",
       "      <td>454.519989</td>\n",
       "      <td>454.421265</td>\n",
       "      <td>36423700</td>\n",
       "      <td>45.0</td>\n",
       "      <td>408.55</td>\n",
       "      <td>413.00</td>\n",
       "      <td>...</td>\n",
       "      <td>0.0</td>\n",
       "      <td>0.0</td>\n",
       "      <td>2</td>\n",
       "      <td>138</td>\n",
       "      <td>0.00001</td>\n",
       "      <td>True</td>\n",
       "      <td>15:46:19</td>\n",
       "      <td>2023</td>\n",
       "      <td>7</td>\n",
       "      <td>26</td>\n",
       "    </tr>\n",
       "    <tr>\n",
       "      <th>2</th>\n",
       "      <td>2023-09-13</td>\n",
       "      <td>446.000000</td>\n",
       "      <td>459.299988</td>\n",
       "      <td>445.029999</td>\n",
       "      <td>454.850006</td>\n",
       "      <td>454.788696</td>\n",
       "      <td>39835500</td>\n",
       "      <td>105.0</td>\n",
       "      <td>357.75</td>\n",
       "      <td>349.50</td>\n",
       "      <td>...</td>\n",
       "      <td>0.0</td>\n",
       "      <td>0.0</td>\n",
       "      <td>2</td>\n",
       "      <td>649</td>\n",
       "      <td>0.00001</td>\n",
       "      <td>True</td>\n",
       "      <td>17:09:14</td>\n",
       "      <td>2023</td>\n",
       "      <td>9</td>\n",
       "      <td>13</td>\n",
       "    </tr>\n",
       "    <tr>\n",
       "      <th>3</th>\n",
       "      <td>2023-09-19</td>\n",
       "      <td>438.329987</td>\n",
       "      <td>439.660004</td>\n",
       "      <td>430.019989</td>\n",
       "      <td>435.200012</td>\n",
       "      <td>435.141327</td>\n",
       "      <td>37306400</td>\n",
       "      <td>55.0</td>\n",
       "      <td>382.67</td>\n",
       "      <td>365.00</td>\n",
       "      <td>...</td>\n",
       "      <td>0.0</td>\n",
       "      <td>0.0</td>\n",
       "      <td>40</td>\n",
       "      <td>139</td>\n",
       "      <td>0.00001</td>\n",
       "      <td>True</td>\n",
       "      <td>14:08:15</td>\n",
       "      <td>2023</td>\n",
       "      <td>9</td>\n",
       "      <td>19</td>\n",
       "    </tr>\n",
       "    <tr>\n",
       "      <th>4</th>\n",
       "      <td>2023-11-21</td>\n",
       "      <td>501.260010</td>\n",
       "      <td>505.170013</td>\n",
       "      <td>492.220001</td>\n",
       "      <td>499.440002</td>\n",
       "      <td>499.372650</td>\n",
       "      <td>56574700</td>\n",
       "      <td>70.0</td>\n",
       "      <td>432.73</td>\n",
       "      <td>420.05</td>\n",
       "      <td>...</td>\n",
       "      <td>0.0</td>\n",
       "      <td>0.0</td>\n",
       "      <td>249</td>\n",
       "      <td>560</td>\n",
       "      <td>0.00001</td>\n",
       "      <td>True</td>\n",
       "      <td>20:05:07</td>\n",
       "      <td>2023</td>\n",
       "      <td>11</td>\n",
       "      <td>21</td>\n",
       "    </tr>\n",
       "  </tbody>\n",
       "</table>\n",
       "<p>5 rows × 21 columns</p>\n",
       "</div>"
      ],
      "text/plain": [
       "        Date        Open        High         Low       Close   Adj Close  \\\n",
       "0 2023-05-01  278.399994  290.579987  277.799988  289.100006  289.007324   \n",
       "1 2023-07-26  460.209991  460.529999  446.299988  454.519989  454.421265   \n",
       "2 2023-09-13  446.000000  459.299988  445.029999  454.850006  454.788696   \n",
       "3 2023-09-19  438.329987  439.660004  430.019989  435.200012  435.141327   \n",
       "4 2023-11-21  501.260010  505.170013  492.220001  499.440002  499.372650   \n",
       "\n",
       "     Volume  strike  lastPrice     bid  ...  change  percentChange  volume  \\\n",
       "0  57032900    40.0     251.00  336.00  ...     0.0            0.0       1   \n",
       "1  36423700    45.0     408.55  413.00  ...     0.0            0.0       2   \n",
       "2  39835500   105.0     357.75  349.50  ...     0.0            0.0       2   \n",
       "3  37306400    55.0     382.67  365.00  ...     0.0            0.0      40   \n",
       "4  56574700    70.0     432.73  420.05  ...     0.0            0.0     249   \n",
       "\n",
       "   openInterest  impliedVolatility  inTheMoney      Time  Year  Month  Day  \n",
       "0            10            0.00001        True  17:34:22  2023      5    1  \n",
       "1           138            0.00001        True  15:46:19  2023      7   26  \n",
       "2           649            0.00001        True  17:09:14  2023      9   13  \n",
       "3           139            0.00001        True  14:08:15  2023      9   19  \n",
       "4           560            0.00001        True  20:05:07  2023     11   21  \n",
       "\n",
       "[5 rows x 21 columns]"
      ]
     },
     "execution_count": 62,
     "metadata": {},
     "output_type": "execute_result"
    }
   ],
   "source": [
    "merged_df.head()"
   ]
  },
  {
   "cell_type": "code",
   "execution_count": 63,
   "metadata": {},
   "outputs": [
    {
     "data": {
      "text/html": [
       "<div>\n",
       "<style scoped>\n",
       "    .dataframe tbody tr th:only-of-type {\n",
       "        vertical-align: middle;\n",
       "    }\n",
       "\n",
       "    .dataframe tbody tr th {\n",
       "        vertical-align: top;\n",
       "    }\n",
       "\n",
       "    .dataframe thead th {\n",
       "        text-align: right;\n",
       "    }\n",
       "</style>\n",
       "<table border=\"1\" class=\"dataframe\">\n",
       "  <thead>\n",
       "    <tr style=\"text-align: right;\">\n",
       "      <th></th>\n",
       "      <th>Open</th>\n",
       "      <th>High</th>\n",
       "      <th>Low</th>\n",
       "      <th>Close</th>\n",
       "      <th>Adj Close</th>\n",
       "      <th>Volume</th>\n",
       "      <th>strike</th>\n",
       "      <th>lastPrice</th>\n",
       "      <th>bid</th>\n",
       "      <th>ask</th>\n",
       "      <th>change</th>\n",
       "      <th>percentChange</th>\n",
       "      <th>volume</th>\n",
       "      <th>openInterest</th>\n",
       "      <th>impliedVolatility</th>\n",
       "      <th>Year</th>\n",
       "      <th>Month</th>\n",
       "      <th>Day</th>\n",
       "    </tr>\n",
       "  </thead>\n",
       "  <tbody>\n",
       "    <tr>\n",
       "      <th>count</th>\n",
       "      <td>126.000000</td>\n",
       "      <td>126.000000</td>\n",
       "      <td>126.000000</td>\n",
       "      <td>126.000000</td>\n",
       "      <td>126.000000</td>\n",
       "      <td>1.260000e+02</td>\n",
       "      <td>126.000000</td>\n",
       "      <td>126.000000</td>\n",
       "      <td>126.000000</td>\n",
       "      <td>126.000000</td>\n",
       "      <td>126.000000</td>\n",
       "      <td>126.000000</td>\n",
       "      <td>126.000000</td>\n",
       "      <td>126.000000</td>\n",
       "      <td>126.000000</td>\n",
       "      <td>126.000000</td>\n",
       "      <td>126.000000</td>\n",
       "      <td>126.000000</td>\n",
       "    </tr>\n",
       "    <tr>\n",
       "      <th>mean</th>\n",
       "      <td>870.499679</td>\n",
       "      <td>883.141990</td>\n",
       "      <td>847.588169</td>\n",
       "      <td>858.611270</td>\n",
       "      <td>858.606821</td>\n",
       "      <td>4.800225e+07</td>\n",
       "      <td>530.357143</td>\n",
       "      <td>456.187698</td>\n",
       "      <td>449.844841</td>\n",
       "      <td>453.798968</td>\n",
       "      <td>0.069525</td>\n",
       "      <td>-0.892204</td>\n",
       "      <td>7.555556</td>\n",
       "      <td>762.563492</td>\n",
       "      <td>1.088706</td>\n",
       "      <td>2023.960317</td>\n",
       "      <td>3.730159</td>\n",
       "      <td>9.706349</td>\n",
       "    </tr>\n",
       "    <tr>\n",
       "      <th>std</th>\n",
       "      <td>111.229744</td>\n",
       "      <td>111.990486</td>\n",
       "      <td>107.097538</td>\n",
       "      <td>107.608810</td>\n",
       "      <td>107.623947</td>\n",
       "      <td>1.047785e+07</td>\n",
       "      <td>518.131326</td>\n",
       "      <td>263.938556</td>\n",
       "      <td>259.975678</td>\n",
       "      <td>261.424108</td>\n",
       "      <td>2.301695</td>\n",
       "      <td>7.690154</td>\n",
       "      <td>26.200017</td>\n",
       "      <td>759.037754</td>\n",
       "      <td>0.693068</td>\n",
       "      <td>0.195992</td>\n",
       "      <td>1.182626</td>\n",
       "      <td>9.296939</td>\n",
       "    </tr>\n",
       "    <tr>\n",
       "      <th>min</th>\n",
       "      <td>278.399994</td>\n",
       "      <td>290.579987</td>\n",
       "      <td>277.799988</td>\n",
       "      <td>289.100006</td>\n",
       "      <td>289.007324</td>\n",
       "      <td>3.642370e+07</td>\n",
       "      <td>15.000000</td>\n",
       "      <td>0.920000</td>\n",
       "      <td>0.670000</td>\n",
       "      <td>0.850000</td>\n",
       "      <td>-15.929993</td>\n",
       "      <td>-80.310880</td>\n",
       "      <td>1.000000</td>\n",
       "      <td>10.000000</td>\n",
       "      <td>0.000000</td>\n",
       "      <td>2023.000000</td>\n",
       "      <td>1.000000</td>\n",
       "      <td>1.000000</td>\n",
       "    </tr>\n",
       "    <tr>\n",
       "      <th>25%</th>\n",
       "      <td>884.479980</td>\n",
       "      <td>903.739990</td>\n",
       "      <td>858.799988</td>\n",
       "      <td>859.049988</td>\n",
       "      <td>859.049988</td>\n",
       "      <td>4.330640e+07</td>\n",
       "      <td>176.250000</td>\n",
       "      <td>280.612500</td>\n",
       "      <td>287.675000</td>\n",
       "      <td>291.200000</td>\n",
       "      <td>0.000000</td>\n",
       "      <td>0.000000</td>\n",
       "      <td>1.000000</td>\n",
       "      <td>236.500000</td>\n",
       "      <td>0.639347</td>\n",
       "      <td>2024.000000</td>\n",
       "      <td>3.000000</td>\n",
       "      <td>3.000000</td>\n",
       "    </tr>\n",
       "    <tr>\n",
       "      <th>50%</th>\n",
       "      <td>902.989990</td>\n",
       "      <td>906.340027</td>\n",
       "      <td>870.574982</td>\n",
       "      <td>889.640015</td>\n",
       "      <td>889.640015</td>\n",
       "      <td>4.349650e+07</td>\n",
       "      <td>367.500000</td>\n",
       "      <td>490.510000</td>\n",
       "      <td>491.075000</td>\n",
       "      <td>494.350000</td>\n",
       "      <td>0.000000</td>\n",
       "      <td>0.000000</td>\n",
       "      <td>2.000000</td>\n",
       "      <td>620.000000</td>\n",
       "      <td>0.931794</td>\n",
       "      <td>2024.000000</td>\n",
       "      <td>4.000000</td>\n",
       "      <td>4.000000</td>\n",
       "    </tr>\n",
       "    <tr>\n",
       "      <th>75%</th>\n",
       "      <td>904.059998</td>\n",
       "      <td>913.000000</td>\n",
       "      <td>884.000000</td>\n",
       "      <td>902.500000</td>\n",
       "      <td>902.500000</td>\n",
       "      <td>5.496278e+07</td>\n",
       "      <td>602.500000</td>\n",
       "      <td>681.122500</td>\n",
       "      <td>654.262500</td>\n",
       "      <td>658.275000</td>\n",
       "      <td>0.000000</td>\n",
       "      <td>0.000000</td>\n",
       "      <td>5.000000</td>\n",
       "      <td>895.250000</td>\n",
       "      <td>1.420779</td>\n",
       "      <td>2024.000000</td>\n",
       "      <td>4.000000</td>\n",
       "      <td>19.000000</td>\n",
       "    </tr>\n",
       "    <tr>\n",
       "      <th>max</th>\n",
       "      <td>958.510010</td>\n",
       "      <td>974.000000</td>\n",
       "      <td>935.099976</td>\n",
       "      <td>950.020020</td>\n",
       "      <td>950.020020</td>\n",
       "      <td>1.132996e+08</td>\n",
       "      <td>1880.000000</td>\n",
       "      <td>878.300000</td>\n",
       "      <td>889.250000</td>\n",
       "      <td>895.800000</td>\n",
       "      <td>15.050018</td>\n",
       "      <td>8.413356</td>\n",
       "      <td>249.000000</td>\n",
       "      <td>4574.000000</td>\n",
       "      <td>3.562501</td>\n",
       "      <td>2024.000000</td>\n",
       "      <td>11.000000</td>\n",
       "      <td>28.000000</td>\n",
       "    </tr>\n",
       "  </tbody>\n",
       "</table>\n",
       "</div>"
      ],
      "text/plain": [
       "             Open        High         Low       Close   Adj Close  \\\n",
       "count  126.000000  126.000000  126.000000  126.000000  126.000000   \n",
       "mean   870.499679  883.141990  847.588169  858.611270  858.606821   \n",
       "std    111.229744  111.990486  107.097538  107.608810  107.623947   \n",
       "min    278.399994  290.579987  277.799988  289.100006  289.007324   \n",
       "25%    884.479980  903.739990  858.799988  859.049988  859.049988   \n",
       "50%    902.989990  906.340027  870.574982  889.640015  889.640015   \n",
       "75%    904.059998  913.000000  884.000000  902.500000  902.500000   \n",
       "max    958.510010  974.000000  935.099976  950.020020  950.020020   \n",
       "\n",
       "             Volume       strike   lastPrice         bid         ask  \\\n",
       "count  1.260000e+02   126.000000  126.000000  126.000000  126.000000   \n",
       "mean   4.800225e+07   530.357143  456.187698  449.844841  453.798968   \n",
       "std    1.047785e+07   518.131326  263.938556  259.975678  261.424108   \n",
       "min    3.642370e+07    15.000000    0.920000    0.670000    0.850000   \n",
       "25%    4.330640e+07   176.250000  280.612500  287.675000  291.200000   \n",
       "50%    4.349650e+07   367.500000  490.510000  491.075000  494.350000   \n",
       "75%    5.496278e+07   602.500000  681.122500  654.262500  658.275000   \n",
       "max    1.132996e+08  1880.000000  878.300000  889.250000  895.800000   \n",
       "\n",
       "           change  percentChange      volume  openInterest  impliedVolatility  \\\n",
       "count  126.000000     126.000000  126.000000    126.000000         126.000000   \n",
       "mean     0.069525      -0.892204    7.555556    762.563492           1.088706   \n",
       "std      2.301695       7.690154   26.200017    759.037754           0.693068   \n",
       "min    -15.929993     -80.310880    1.000000     10.000000           0.000000   \n",
       "25%      0.000000       0.000000    1.000000    236.500000           0.639347   \n",
       "50%      0.000000       0.000000    2.000000    620.000000           0.931794   \n",
       "75%      0.000000       0.000000    5.000000    895.250000           1.420779   \n",
       "max     15.050018       8.413356  249.000000   4574.000000           3.562501   \n",
       "\n",
       "              Year       Month         Day  \n",
       "count   126.000000  126.000000  126.000000  \n",
       "mean   2023.960317    3.730159    9.706349  \n",
       "std       0.195992    1.182626    9.296939  \n",
       "min    2023.000000    1.000000    1.000000  \n",
       "25%    2024.000000    3.000000    3.000000  \n",
       "50%    2024.000000    4.000000    4.000000  \n",
       "75%    2024.000000    4.000000   19.000000  \n",
       "max    2024.000000   11.000000   28.000000  "
      ]
     },
     "execution_count": 63,
     "metadata": {},
     "output_type": "execute_result"
    }
   ],
   "source": [
    "merged_df.describe()"
   ]
  },
  {
   "cell_type": "code",
   "execution_count": 65,
   "metadata": {},
   "outputs": [
    {
     "data": {
      "image/png": "[encoded data removed]",
      "text/plain": [
       "<Figure size 720x576 with 2 Axes>"
      ]
     },
     "metadata": {
      "needs_background": "light"
     },
     "output_type": "display_data"
    }
   ],
   "source": [
    "# Create a heatmap of the correlation between stock prices\n",
    "corr = merged_df[['Open', 'High', 'Low', 'Close', 'strike', 'lastPrice', 'bid', 'ask']].corr()\n",
    "plt.figure(figsize=(10,8))\n",
    "sns.heatmap(corr, annot=True, cmap='BrBG')\n",
    "plt.title('Correlation Between Stock Prices')\n",
    "plt.show()"
   ]
  },
  {
   "attachments": {},
   "cell_type": "markdown",
   "metadata": {},
   "source": [
    "Let's make a black-scholes model. and see what is happening \n"
   ]
  },
  {
   "cell_type": "code",
   "execution_count": 14,
   "metadata": {},
   "outputs": [],
   "source": [
    "import numpy as np\n",
    "from scipy.stats import norm #importing the normal distribution function only \n",
    "import matplotlib.pyplot as plt"
   ]
  },
  {
   "cell_type": "code",
   "execution_count": 15,
   "metadata": {},
   "outputs": [],
   "source": [
    "N = norm.cdf #defining a normal distribution "
   ]
  },
  {
   "cell_type": "code",
   "execution_count": 13,
   "metadata": {},
   "outputs": [],
   "source": [
    "#call price function, sigma=volatility(σ)\n",
    "def BSM_call_price(S, K , T , r , sigma):\n",
    "    d1 = (np.log(S/K) + (r + sigma**2/2)*T) / (sigma * np.sqrt(T)) \n",
    "    d2 = d1 - sigma * np.sqrt(T)\n",
    "    return S * N(d1) - K * np.exp(-r*T) * N(d2) \n",
    "\n",
    "#put price function, sigma = volatility(σ)\n",
    "def BSM_put_price(S, K , T , r , sigma):\n",
    "    d1 = (np.log(S/K) + (r + sigma**2/2)*T) / (sigma * np.sqrt(T))\n",
    "    d2 = d1 - sigma * np.sqrt(T)\n",
    "    return K * np.exp(-r*T) * N(-d2) - S * N(-d1)\n"
   ]
  },
  {
   "cell_type": "code",
   "execution_count": 20,
   "metadata": {},
   "outputs": [
    {
     "name": "stderr",
     "output_type": "stream",
     "text": [
      "[*********************100%%**********************]  1 of 1 completed\n"
     ]
    }
   ],
   "source": [
    "nvda = yf.download('NVDA', start= '2024-01-01', end='2024-04-03')\n",
    "nvda = pd.DataFrame(nvda)\n",
    "nvda['pct_change'] = nvda.Close.pct_change()\n",
    "nvda['log_return'] = np.log(1 + nvda['pct_change'])\n",
    "std = nvda['log_return'].std()\n",
    "annualized_sigma = std * np.sqrt(252)\n"
   ]
  },
  {
   "cell_type": "code",
   "execution_count": 38,
   "metadata": {},
   "outputs": [
    {
     "data": {
      "text/html": [
       "<div>\n",
       "<style scoped>\n",
       "    .dataframe tbody tr th:only-of-type {\n",
       "        vertical-align: middle;\n",
       "    }\n",
       "\n",
       "    .dataframe tbody tr th {\n",
       "        vertical-align: top;\n",
       "    }\n",
       "\n",
       "    .dataframe thead th {\n",
       "        text-align: right;\n",
       "    }\n",
       "</style>\n",
       "<table border=\"1\" class=\"dataframe\">\n",
       "  <thead>\n",
       "    <tr style=\"text-align: right;\">\n",
       "      <th></th>\n",
       "      <th>Open</th>\n",
       "      <th>High</th>\n",
       "      <th>Low</th>\n",
       "      <th>Close</th>\n",
       "      <th>Adj Close</th>\n",
       "      <th>Volume</th>\n",
       "      <th>pct_change</th>\n",
       "      <th>log_return</th>\n",
       "    </tr>\n",
       "    <tr>\n",
       "      <th>Date</th>\n",
       "      <th></th>\n",
       "      <th></th>\n",
       "      <th></th>\n",
       "      <th></th>\n",
       "      <th></th>\n",
       "      <th></th>\n",
       "      <th></th>\n",
       "      <th></th>\n",
       "    </tr>\n",
       "  </thead>\n",
       "  <tbody>\n",
       "    <tr>\n",
       "      <th>2024-03-26</th>\n",
       "      <td>958.510010</td>\n",
       "      <td>963.750000</td>\n",
       "      <td>925.020020</td>\n",
       "      <td>925.609985</td>\n",
       "      <td>925.609985</td>\n",
       "      <td>51364800</td>\n",
       "      <td>-0.025694</td>\n",
       "      <td>-0.026030</td>\n",
       "    </tr>\n",
       "    <tr>\n",
       "      <th>2024-03-27</th>\n",
       "      <td>931.119995</td>\n",
       "      <td>932.400024</td>\n",
       "      <td>891.229980</td>\n",
       "      <td>902.500000</td>\n",
       "      <td>902.500000</td>\n",
       "      <td>58606700</td>\n",
       "      <td>-0.024967</td>\n",
       "      <td>-0.025284</td>\n",
       "    </tr>\n",
       "    <tr>\n",
       "      <th>2024-03-28</th>\n",
       "      <td>900.000000</td>\n",
       "      <td>913.000000</td>\n",
       "      <td>891.929993</td>\n",
       "      <td>903.559998</td>\n",
       "      <td>903.559998</td>\n",
       "      <td>43521200</td>\n",
       "      <td>0.001175</td>\n",
       "      <td>0.001174</td>\n",
       "    </tr>\n",
       "    <tr>\n",
       "      <th>2024-04-01</th>\n",
       "      <td>902.989990</td>\n",
       "      <td>922.250000</td>\n",
       "      <td>892.039978</td>\n",
       "      <td>903.630005</td>\n",
       "      <td>903.630005</td>\n",
       "      <td>45244100</td>\n",
       "      <td>0.000077</td>\n",
       "      <td>0.000077</td>\n",
       "    </tr>\n",
       "    <tr>\n",
       "      <th>2024-04-02</th>\n",
       "      <td>884.479980</td>\n",
       "      <td>900.940002</td>\n",
       "      <td>876.200012</td>\n",
       "      <td>894.520020</td>\n",
       "      <td>894.520020</td>\n",
       "      <td>43306400</td>\n",
       "      <td>-0.010082</td>\n",
       "      <td>-0.010133</td>\n",
       "    </tr>\n",
       "  </tbody>\n",
       "</table>\n",
       "</div>"
      ],
      "text/plain": [
       "                  Open        High         Low       Close   Adj Close  \\\n",
       "Date                                                                     \n",
       "2024-03-26  958.510010  963.750000  925.020020  925.609985  925.609985   \n",
       "2024-03-27  931.119995  932.400024  891.229980  902.500000  902.500000   \n",
       "2024-03-28  900.000000  913.000000  891.929993  903.559998  903.559998   \n",
       "2024-04-01  902.989990  922.250000  892.039978  903.630005  903.630005   \n",
       "2024-04-02  884.479980  900.940002  876.200012  894.520020  894.520020   \n",
       "\n",
       "              Volume  pct_change  log_return  \n",
       "Date                                          \n",
       "2024-03-26  51364800   -0.025694   -0.026030  \n",
       "2024-03-27  58606700   -0.024967   -0.025284  \n",
       "2024-03-28  43521200    0.001175    0.001174  \n",
       "2024-04-01  45244100    0.000077    0.000077  \n",
       "2024-04-02  43306400   -0.010082   -0.010133  "
      ]
     },
     "execution_count": 38,
     "metadata": {},
     "output_type": "execute_result"
    }
   ],
   "source": [
    "nvda.tail()"
   ]
  },
  {
   "cell_type": "code",
   "execution_count": 40,
   "metadata": {},
   "outputs": [],
   "source": [
    "\n",
    "#returns 0.2474...\n",
    "# Fetch options data\n",
    "options_data = yf.Ticker('NVDA').options\n",
    "\n",
    "#nvda.options\n",
    "option = yf.Ticker('NVDA').option_chain('2024-06-21')\n",
    "calls = option.calls\n",
    "list_calls = []\n"
   ]
  },
  {
   "cell_type": "code",
   "execution_count": 29,
   "metadata": {},
   "outputs": [
    {
     "data": {
      "text/html": [
       "<div>\n",
       "<style scoped>\n",
       "    .dataframe tbody tr th:only-of-type {\n",
       "        vertical-align: middle;\n",
       "    }\n",
       "\n",
       "    .dataframe tbody tr th {\n",
       "        vertical-align: top;\n",
       "    }\n",
       "\n",
       "    .dataframe thead th {\n",
       "        text-align: right;\n",
       "    }\n",
       "</style>\n",
       "<table border=\"1\" class=\"dataframe\">\n",
       "  <thead>\n",
       "    <tr style=\"text-align: right;\">\n",
       "      <th></th>\n",
       "      <th>contractSymbol</th>\n",
       "      <th>lastTradeDate</th>\n",
       "      <th>strike</th>\n",
       "      <th>lastPrice</th>\n",
       "      <th>bid</th>\n",
       "      <th>ask</th>\n",
       "      <th>change</th>\n",
       "      <th>percentChange</th>\n",
       "      <th>volume</th>\n",
       "      <th>openInterest</th>\n",
       "      <th>impliedVolatility</th>\n",
       "      <th>inTheMoney</th>\n",
       "      <th>contractSize</th>\n",
       "      <th>currency</th>\n",
       "    </tr>\n",
       "  </thead>\n",
       "  <tbody>\n",
       "    <tr>\n",
       "      <th>0</th>\n",
       "      <td>NVDA240621C00005000</td>\n",
       "      <td>2024-04-11 14:45:26+00:00</td>\n",
       "      <td>5.0</td>\n",
       "      <td>880.65</td>\n",
       "      <td>875.10</td>\n",
       "      <td>878.95</td>\n",
       "      <td>0.0</td>\n",
       "      <td>0.0</td>\n",
       "      <td>12</td>\n",
       "      <td>4962</td>\n",
       "      <td>4.718754</td>\n",
       "      <td>True</td>\n",
       "      <td>REGULAR</td>\n",
       "      <td>USD</td>\n",
       "    </tr>\n",
       "    <tr>\n",
       "      <th>1</th>\n",
       "      <td>NVDA240621C00010000</td>\n",
       "      <td>2024-04-05 15:43:56+00:00</td>\n",
       "      <td>10.0</td>\n",
       "      <td>869.40</td>\n",
       "      <td>870.05</td>\n",
       "      <td>874.25</td>\n",
       "      <td>0.0</td>\n",
       "      <td>0.0</td>\n",
       "      <td>2</td>\n",
       "      <td>98</td>\n",
       "      <td>4.214848</td>\n",
       "      <td>True</td>\n",
       "      <td>REGULAR</td>\n",
       "      <td>USD</td>\n",
       "    </tr>\n",
       "    <tr>\n",
       "      <th>2</th>\n",
       "      <td>NVDA240621C00015000</td>\n",
       "      <td>2024-04-11 13:36:26+00:00</td>\n",
       "      <td>15.0</td>\n",
       "      <td>869.61</td>\n",
       "      <td>865.05</td>\n",
       "      <td>869.30</td>\n",
       "      <td>0.0</td>\n",
       "      <td>0.0</td>\n",
       "      <td>2</td>\n",
       "      <td>35</td>\n",
       "      <td>3.792969</td>\n",
       "      <td>True</td>\n",
       "      <td>REGULAR</td>\n",
       "      <td>USD</td>\n",
       "    </tr>\n",
       "    <tr>\n",
       "      <th>3</th>\n",
       "      <td>NVDA240621C00020000</td>\n",
       "      <td>2024-03-15 13:37:59+00:00</td>\n",
       "      <td>20.0</td>\n",
       "      <td>848.00</td>\n",
       "      <td>860.15</td>\n",
       "      <td>863.95</td>\n",
       "      <td>0.0</td>\n",
       "      <td>0.0</td>\n",
       "      <td>1</td>\n",
       "      <td>148</td>\n",
       "      <td>3.285158</td>\n",
       "      <td>True</td>\n",
       "      <td>REGULAR</td>\n",
       "      <td>USD</td>\n",
       "    </tr>\n",
       "    <tr>\n",
       "      <th>4</th>\n",
       "      <td>NVDA240621C00025000</td>\n",
       "      <td>2024-02-16 15:55:43+00:00</td>\n",
       "      <td>25.0</td>\n",
       "      <td>708.61</td>\n",
       "      <td>851.90</td>\n",
       "      <td>856.05</td>\n",
       "      <td>0.0</td>\n",
       "      <td>0.0</td>\n",
       "      <td>4</td>\n",
       "      <td>82</td>\n",
       "      <td>0.000010</td>\n",
       "      <td>True</td>\n",
       "      <td>REGULAR</td>\n",
       "      <td>USD</td>\n",
       "    </tr>\n",
       "  </tbody>\n",
       "</table>\n",
       "</div>"
      ],
      "text/plain": [
       "        contractSymbol             lastTradeDate  strike  lastPrice     bid  \\\n",
       "0  NVDA240621C00005000 2024-04-11 14:45:26+00:00     5.0     880.65  875.10   \n",
       "1  NVDA240621C00010000 2024-04-05 15:43:56+00:00    10.0     869.40  870.05   \n",
       "2  NVDA240621C00015000 2024-04-11 13:36:26+00:00    15.0     869.61  865.05   \n",
       "3  NVDA240621C00020000 2024-03-15 13:37:59+00:00    20.0     848.00  860.15   \n",
       "4  NVDA240621C00025000 2024-02-16 15:55:43+00:00    25.0     708.61  851.90   \n",
       "\n",
       "      ask  change  percentChange  volume  openInterest  impliedVolatility  \\\n",
       "0  878.95     0.0            0.0      12          4962           4.718754   \n",
       "1  874.25     0.0            0.0       2            98           4.214848   \n",
       "2  869.30     0.0            0.0       2            35           3.792969   \n",
       "3  863.95     0.0            0.0       1           148           3.285158   \n",
       "4  856.05     0.0            0.0       4            82           0.000010   \n",
       "\n",
       "   inTheMoney contractSize currency  \n",
       "0        True      REGULAR      USD  \n",
       "1        True      REGULAR      USD  \n",
       "2        True      REGULAR      USD  \n",
       "3        True      REGULAR      USD  \n",
       "4        True      REGULAR      USD  "
      ]
     },
     "execution_count": 29,
     "metadata": {},
     "output_type": "execute_result"
    }
   ],
   "source": [
    "calls.head()"
   ]
  },
  {
   "cell_type": "code",
   "execution_count": 41,
   "metadata": {},
   "outputs": [],
   "source": [
    "\n",
    "for i in calls['strike']:\n",
    "    \n",
    "   price = round(BSM_call_price(S = 884, \n",
    "   K = i, \n",
    "   T = (46/252), r = 0.0350, \n",
    "   sigma = annualized_sigma),2)\n",
    "   \n",
    "   list_calls.append(price)\n",
    "\n",
    "calls['BSM_prices'] = list_calls\n",
    "\n"
   ]
  },
  {
   "cell_type": "code",
   "execution_count": 36,
   "metadata": {},
   "outputs": [
    {
     "data": {
      "text/html": [
       "<div>\n",
       "<style scoped>\n",
       "    .dataframe tbody tr th:only-of-type {\n",
       "        vertical-align: middle;\n",
       "    }\n",
       "\n",
       "    .dataframe tbody tr th {\n",
       "        vertical-align: top;\n",
       "    }\n",
       "\n",
       "    .dataframe thead th {\n",
       "        text-align: right;\n",
       "    }\n",
       "</style>\n",
       "<table border=\"1\" class=\"dataframe\">\n",
       "  <thead>\n",
       "    <tr style=\"text-align: right;\">\n",
       "      <th></th>\n",
       "      <th>contractSymbol</th>\n",
       "      <th>lastTradeDate</th>\n",
       "      <th>strike</th>\n",
       "      <th>lastPrice</th>\n",
       "      <th>bid</th>\n",
       "      <th>ask</th>\n",
       "      <th>change</th>\n",
       "      <th>percentChange</th>\n",
       "      <th>volume</th>\n",
       "      <th>openInterest</th>\n",
       "      <th>impliedVolatility</th>\n",
       "      <th>inTheMoney</th>\n",
       "      <th>contractSize</th>\n",
       "      <th>currency</th>\n",
       "      <th>BSM_prices</th>\n",
       "    </tr>\n",
       "  </thead>\n",
       "  <tbody>\n",
       "    <tr>\n",
       "      <th>284</th>\n",
       "      <td>NVDA240621C01900000</td>\n",
       "      <td>2024-04-12 18:06:54+00:00</td>\n",
       "      <td>1900.0</td>\n",
       "      <td>0.58</td>\n",
       "      <td>0.50</td>\n",
       "      <td>0.60</td>\n",
       "      <td>-0.07</td>\n",
       "      <td>-10.769230</td>\n",
       "      <td>10</td>\n",
       "      <td>848</td>\n",
       "      <td>0.678470</td>\n",
       "      <td>False</td>\n",
       "      <td>REGULAR</td>\n",
       "      <td>USD</td>\n",
       "      <td>0.0</td>\n",
       "    </tr>\n",
       "    <tr>\n",
       "      <th>285</th>\n",
       "      <td>NVDA240621C01910000</td>\n",
       "      <td>2024-04-11 18:54:37+00:00</td>\n",
       "      <td>1910.0</td>\n",
       "      <td>0.57</td>\n",
       "      <td>0.47</td>\n",
       "      <td>0.60</td>\n",
       "      <td>0.00</td>\n",
       "      <td>0.000000</td>\n",
       "      <td>5</td>\n",
       "      <td>124</td>\n",
       "      <td>0.680423</td>\n",
       "      <td>False</td>\n",
       "      <td>REGULAR</td>\n",
       "      <td>USD</td>\n",
       "      <td>0.0</td>\n",
       "    </tr>\n",
       "    <tr>\n",
       "      <th>286</th>\n",
       "      <td>NVDA240621C01920000</td>\n",
       "      <td>2024-04-11 19:45:16+00:00</td>\n",
       "      <td>1920.0</td>\n",
       "      <td>0.56</td>\n",
       "      <td>0.50</td>\n",
       "      <td>0.59</td>\n",
       "      <td>0.00</td>\n",
       "      <td>0.000000</td>\n",
       "      <td>1</td>\n",
       "      <td>221</td>\n",
       "      <td>0.685550</td>\n",
       "      <td>False</td>\n",
       "      <td>REGULAR</td>\n",
       "      <td>USD</td>\n",
       "      <td>0.0</td>\n",
       "    </tr>\n",
       "    <tr>\n",
       "      <th>287</th>\n",
       "      <td>NVDA240621C01930000</td>\n",
       "      <td>2024-04-12 16:41:43+00:00</td>\n",
       "      <td>1930.0</td>\n",
       "      <td>0.52</td>\n",
       "      <td>0.43</td>\n",
       "      <td>0.57</td>\n",
       "      <td>-0.02</td>\n",
       "      <td>-3.703711</td>\n",
       "      <td>1</td>\n",
       "      <td>77</td>\n",
       "      <td>0.683109</td>\n",
       "      <td>False</td>\n",
       "      <td>REGULAR</td>\n",
       "      <td>USD</td>\n",
       "      <td>0.0</td>\n",
       "    </tr>\n",
       "    <tr>\n",
       "      <th>288</th>\n",
       "      <td>NVDA240621C01940000</td>\n",
       "      <td>2024-04-12 19:52:58+00:00</td>\n",
       "      <td>1940.0</td>\n",
       "      <td>0.48</td>\n",
       "      <td>0.48</td>\n",
       "      <td>0.49</td>\n",
       "      <td>-0.08</td>\n",
       "      <td>-14.285716</td>\n",
       "      <td>431</td>\n",
       "      <td>4673</td>\n",
       "      <td>0.684818</td>\n",
       "      <td>False</td>\n",
       "      <td>REGULAR</td>\n",
       "      <td>USD</td>\n",
       "      <td>0.0</td>\n",
       "    </tr>\n",
       "  </tbody>\n",
       "</table>\n",
       "</div>"
      ],
      "text/plain": [
       "          contractSymbol             lastTradeDate  strike  lastPrice   bid  \\\n",
       "284  NVDA240621C01900000 2024-04-12 18:06:54+00:00  1900.0       0.58  0.50   \n",
       "285  NVDA240621C01910000 2024-04-11 18:54:37+00:00  1910.0       0.57  0.47   \n",
       "286  NVDA240621C01920000 2024-04-11 19:45:16+00:00  1920.0       0.56  0.50   \n",
       "287  NVDA240621C01930000 2024-04-12 16:41:43+00:00  1930.0       0.52  0.43   \n",
       "288  NVDA240621C01940000 2024-04-12 19:52:58+00:00  1940.0       0.48  0.48   \n",
       "\n",
       "      ask  change  percentChange  volume  openInterest  impliedVolatility  \\\n",
       "284  0.60   -0.07     -10.769230      10           848           0.678470   \n",
       "285  0.60    0.00       0.000000       5           124           0.680423   \n",
       "286  0.59    0.00       0.000000       1           221           0.685550   \n",
       "287  0.57   -0.02      -3.703711       1            77           0.683109   \n",
       "288  0.49   -0.08     -14.285716     431          4673           0.684818   \n",
       "\n",
       "     inTheMoney contractSize currency  BSM_prices  \n",
       "284       False      REGULAR      USD         0.0  \n",
       "285       False      REGULAR      USD         0.0  \n",
       "286       False      REGULAR      USD         0.0  \n",
       "287       False      REGULAR      USD         0.0  \n",
       "288       False      REGULAR      USD         0.0  "
      ]
     },
     "execution_count": 36,
     "metadata": {},
     "output_type": "execute_result"
    }
   ],
   "source": [
    "calls.tail()"
   ]
  },
  {
   "cell_type": "code",
   "execution_count": 43,
   "metadata": {},
   "outputs": [
    {
     "data": {
      "image/png": "[encoded data removed]",
      "text/plain": [
       "<Figure size 1440x720 with 1 Axes>"
      ]
     },
     "metadata": {
      "needs_background": "light"
     },
     "output_type": "display_data"
    }
   ],
   "source": [
    "calls['Price_Difference'] = (calls['BSM_prices'] - calls['lastPrice']).abs()\n",
    "\n",
    "plt.rcParams[\"figure.figsize\"] = (20,10)\n",
    "calls['Price_Difference'].hist(bins=100)\n",
    "plt.xlabel('Price Difference Value')\n",
    "plt.ylabel('Count');"
   ]
  },
  {
   "cell_type": "code",
   "execution_count": null,
   "metadata": {},
   "outputs": [],
   "source": []
  }
 ],
 "metadata": {
  "kernelspec": {
   "display_name": "base",
   "language": "python",
   "name": "python3"
  },
  "language_info": {
   "codemirror_mode": {
    "name": "ipython",
    "version": 3
   },
   "file_extension": ".py",
   "mimetype": "text/x-python",
   "name": "python",
   "nbconvert_exporter": "python",
   "pygments_lexer": "ipython3",
   "version": "3.7.3"
  },
  "orig_nbformat": 4
 },
 "nbformat": 4,
 "nbformat_minor": 2
}
